{
 "cells": [
  {
   "cell_type": "code",
   "execution_count": 1,
   "metadata": {},
   "outputs": [],
   "source": [
    "# import libraries\n",
    "import numpy as np\n",
    "import pandas as pd\n",
    "import random\n",
    "import csv\n",
    "import scipy.stats as stats\n",
    "import seaborn as sns\n",
    "from collections import Counter\n",
    "\n",
    "from collections import defaultdict\n",
    "import math\n",
    "from sklearn.feature_extraction import DictVectorizer\n",
    "from sklearn.preprocessing import LabelEncoder\n",
    "from sklearn.preprocessing import StandardScaler\n",
    "from sklearn.metrics import accuracy_score\n",
    "from sklearn.model_selection import train_test_split\n",
    "from sklearn import preprocessing\n",
    "from random import randint\n",
    "\n",
    "import matplotlib.pyplot as plt\n",
    "%matplotlib inline\n",
    "import statsmodels.api as sm\n",
    "from statsmodels.nonparametric.kde import KDEUnivariate\n",
    "from statsmodels.nonparametric import smoothers_lowess\n",
    "from pandas import Series, DataFrame\n",
    "from patsy import dmatrices\n",
    "from sklearn import datasets, svm\n",
    "\n",
    "# initialize the plotting sizes\n",
    "# set size\n",
    "plt.rc('figure', figsize=(15, 8))\n",
    "# subplots size\n",
    "fizsize_with_subplots = (15, 8)\n",
    "# histogram size\n",
    "bin_size = 10"
   ]
  },
  {
   "cell_type": "code",
   "execution_count": 2,
   "metadata": {},
   "outputs": [],
   "source": [
    "dates = pd.read_csv('data/dates.csv',header=None)\n",
    "queries = pd.read_csv('data/queries.csv',header=None)\n",
    "X = pd.read_csv('data/X.csv',header=None)\n",
    "y = pd.read_csv('data/y.csv',header=None)"
   ]
  },
  {
   "cell_type": "code",
   "execution_count": 3,
   "metadata": {},
   "outputs": [],
   "source": [
    "dates['Date'] = pd.to_datetime(dates[0])\n",
    "y.set_index(dates['Date'],inplace=True)"
   ]
  },
  {
   "cell_type": "code",
   "execution_count": 4,
   "metadata": {},
   "outputs": [
    {
     "data": {
      "text/html": [
       "<div>\n",
       "<style scoped>\n",
       "    .dataframe tbody tr th:only-of-type {\n",
       "        vertical-align: middle;\n",
       "    }\n",
       "\n",
       "    .dataframe tbody tr th {\n",
       "        vertical-align: top;\n",
       "    }\n",
       "\n",
       "    .dataframe thead th {\n",
       "        text-align: right;\n",
       "    }\n",
       "</style>\n",
       "<table border=\"1\" class=\"dataframe\">\n",
       "  <thead>\n",
       "    <tr style=\"text-align: right;\">\n",
       "      <th></th>\n",
       "      <th>0</th>\n",
       "    </tr>\n",
       "    <tr>\n",
       "      <th>Date</th>\n",
       "      <th></th>\n",
       "    </tr>\n",
       "  </thead>\n",
       "  <tbody>\n",
       "    <tr>\n",
       "      <th>2005-08-24</th>\n",
       "      <td>3.12857</td>\n",
       "    </tr>\n",
       "    <tr>\n",
       "      <th>2005-08-25</th>\n",
       "      <td>3.23000</td>\n",
       "    </tr>\n",
       "    <tr>\n",
       "      <th>2005-08-26</th>\n",
       "      <td>3.23714</td>\n",
       "    </tr>\n",
       "    <tr>\n",
       "      <th>2005-08-27</th>\n",
       "      <td>3.24429</td>\n",
       "    </tr>\n",
       "    <tr>\n",
       "      <th>2005-08-28</th>\n",
       "      <td>3.25143</td>\n",
       "    </tr>\n",
       "  </tbody>\n",
       "</table>\n",
       "</div>"
      ],
      "text/plain": [
       "                  0\n",
       "Date               \n",
       "2005-08-24  3.12857\n",
       "2005-08-25  3.23000\n",
       "2005-08-26  3.23714\n",
       "2005-08-27  3.24429\n",
       "2005-08-28  3.25143"
      ]
     },
     "execution_count": 4,
     "metadata": {},
     "output_type": "execute_result"
    }
   ],
   "source": [
    "y.head()"
   ]
  },
  {
   "cell_type": "code",
   "execution_count": 5,
   "metadata": {},
   "outputs": [
    {
     "name": "stdout",
     "output_type": "stream",
     "text": [
      "X shape:  (4383, 500)   y shape:  (4383, 1)\n",
      "train1 X: (3618, 500)  train1 y: (3618, 1)  Test1 X shape: (365, 500)  Test1 y shape: (365, 1)\n",
      "validation1 X: (400, 500)  validation1 y: (400, 1)\n",
      "train2 X: (3293, 500)  train2 y: (3293, 1)  Test2 X: (365, 500)  Test2 y: (365, 1)\n",
      "validation2 X: (360, 500)  validation2 y: (360, 1)\n"
     ]
    }
   ],
   "source": [
    "# data preprocessing and train-test split\n",
    "# this data is well formed with no missing value and other symbols or labels that are non numerical.\n",
    "# splitting the data into train and test\n",
    "\n",
    "# Here we want the first 500 queries\n",
    "X = X.iloc[:, 0: 500]\n",
    "\n",
    "# first with the last year as test\n",
    "# for convinience, pick the two validation set starting from 1/3 and 2/3 of the training set,\n",
    "# 10% of training set as validation, here use 400 data points, two 200 periods.\n",
    "test_size =365\n",
    "length = X.shape[0]\n",
    "l =(X.shape[0]-test_size)//3\n",
    "\n",
    "train1_X = pd.concat([X[0:l],X[l+200:2*l],X[2*l+200:length-test_size]])\n",
    "val1_X = pd.concat([X[l:l+200],X[2*l:2*l+200]])\n",
    "train1_y = pd.concat([y[0:l],y[l+200:2*l],y[2*l+200:length-test_size]])\n",
    "val1_y = pd.concat([y[l:l+200],y[2*l:2*l+200]])\n",
    "test1_X = X[length-test_size:]\n",
    "test1_y = y[length-test_size:]\n",
    "\n",
    "#without validation set\n",
    "train1_X2 = X[0:length-test_size]\n",
    "train1_y2 = y[0:length-test_size]\n",
    "\n",
    "\n",
    "# second with the last 2 year as test\n",
    "test_size2 =365*2\n",
    "l2 =(X.shape[0]-test_size2)//3\n",
    "\n",
    "train2_X = pd.concat([X[0:l2],X[l2+180:2*l2],X[2*l2+180:length-test_size2]])\n",
    "val2_X = pd.concat([X[l2:l2+180],X[2*l2:2*l2+180]])\n",
    "train2_y = pd.concat([y[0:l2],y[l2+180:2*l2],y[2*l2+180:length-test_size2]])\n",
    "val2_y = pd.concat([y[l2:l2+180],y[2*l2:2*l2+180]])\n",
    "test2_X = X[length-test_size2:length-test_size]\n",
    "test2_y = y[length-test_size2:length-test_size]\n",
    "\n",
    "#without validation set\n",
    "train2_X2 = X[0:length-test_size2]\n",
    "train2_y2 = y[0:length-test_size2]\n",
    "\n",
    "print('X shape: ',X.shape,'  y shape: ',y.shape)\n",
    "print('train1 X:',train1_X.shape,' train1 y:',train1_y.shape,' Test1 X shape:',test1_X.shape, ' Test1 y shape:',test1_y.shape)\n",
    "print('validation1 X:',val1_X.shape,' validation1 y:',val1_y.shape)\n",
    "print('train2 X:',train2_X.shape,' train2 y:',train2_y.shape,' Test2 X:',test2_X.shape,' Test2 y:',test2_y.shape)\n",
    "print('validation2 X:',val2_X.shape,' validation2 y:',val2_y.shape)"
   ]
  },
  {
   "cell_type": "code",
   "execution_count": 6,
   "metadata": {},
   "outputs": [
    {
     "name": "stderr",
     "output_type": "stream",
     "text": [
      "/home/yiyangsu/anaconda3/lib/python3.6/site-packages/ipykernel_launcher.py:3: FutureWarning: 'pandas.tools.plotting.autocorrelation_plot' is deprecated, import 'pandas.plotting.autocorrelation_plot' instead.\n",
      "  This is separate from the ipykernel package so we can avoid doing imports until\n"
     ]
    },
    {
     "data": {
      "text/plain": [
       "<matplotlib.axes._subplots.AxesSubplot at 0x7f2ef6d09ef0>"
      ]
     },
     "execution_count": 6,
     "metadata": {},
     "output_type": "execute_result"
    },
    {
     "data": {
      "image/png": "[encoded data removed]",
      "text/plain": [
       "<Figure size 432x288 with 1 Axes>"
      ]
     },
     "metadata": {},
     "output_type": "display_data"
    }
   ],
   "source": [
    "# no clear trend from the graph above, need to try d of different values.\n",
    "from pandas.tools.plotting import autocorrelation_plot\n",
    "autocorrelation_plot(train1_y)"
   ]
  },
  {
   "cell_type": "code",
   "execution_count": 7,
   "metadata": {},
   "outputs": [
    {
     "name": "stderr",
     "output_type": "stream",
     "text": [
      "/home/yiyangsu/anaconda3/lib/python3.6/site-packages/ipykernel_launcher.py:1: FutureWarning: 'pandas.tools.plotting.autocorrelation_plot' is deprecated, import 'pandas.plotting.autocorrelation_plot' instead.\n",
      "  \"\"\"Entry point for launching an IPython kernel.\n"
     ]
    },
    {
     "data": {
      "text/plain": [
       "<matplotlib.axes._subplots.AxesSubplot at 0x7f2ef5dc7eb8>"
      ]
     },
     "execution_count": 7,
     "metadata": {},
     "output_type": "execute_result"
    },
    {
     "data": {
      "image/png": "[encoded data removed]",
      "text/plain": [
       "<Figure size 432x288 with 1 Axes>"
      ]
     },
     "metadata": {},
     "output_type": "display_data"
    }
   ],
   "source": [
    "autocorrelation_plot(train1_y[:40])"
   ]
  },
  {
   "cell_type": "code",
   "execution_count": 8,
   "metadata": {},
   "outputs": [
    {
     "name": "stdout",
     "output_type": "stream",
     "text": [
      "                             ARIMA Model Results                              \n",
      "==============================================================================\n",
      "Dep. Variable:                    D.y   No. Observations:                 4017\n",
      "Model:                 ARIMA(5, 1, 0)   Log Likelihood               -2390.608\n",
      "Method:                       css-mle   S.D. of innovations              0.439\n",
      "Date:                Wed, 05 Sep 2018   AIC                           4795.216\n",
      "Time:                        02:58:21   BIC                           4839.304\n",
      "Sample:                             1   HQIC                          4810.841\n",
      "                                                                              \n",
      "==============================================================================\n",
      "                 coef    std err          z      P>|z|      [0.025      0.975]\n",
      "------------------------------------------------------------------------------\n",
      "const         -0.0004      0.052     -0.007      0.994      -0.103       0.102\n",
      "ar.L1.D.y      0.9336      0.016     59.317      0.000       0.903       0.964\n",
      "ar.L2.D.y    5.48e-05      0.022      0.003      0.998      -0.042       0.042\n",
      "ar.L3.D.y  -3.835e-05      0.022     -0.002      0.999      -0.042       0.042\n",
      "ar.L4.D.y   2.509e-05      0.022      0.001      0.999      -0.042       0.042\n",
      "ar.L5.D.y     -0.0660      0.016     -4.197      0.000      -0.097      -0.035\n",
      "                                    Roots                                    \n",
      "=============================================================================\n",
      "                  Real          Imaginary           Modulus         Frequency\n",
      "-----------------------------------------------------------------------------\n",
      "AR.1            1.3051           -0.1469j            1.3134           -0.0178\n",
      "AR.2            1.3051           +0.1469j            1.3134            0.0178\n",
      "AR.3           -0.2322           -2.0094j            2.0228           -0.2683\n",
      "AR.4           -0.2322           +2.0094j            2.0228            0.2683\n",
      "AR.5           -2.1454           -0.0000j            2.1454           -0.5000\n",
      "-----------------------------------------------------------------------------\n"
     ]
    }
   ],
   "source": [
    "# the above plot shows the possible significant AR term may be 5\n",
    "# anyway, just tune the possible choices\n",
    "from statsmodels.tsa.arima_model import ARIMA\n",
    "# fit model\n",
    "model = ARIMA(train1_y2.values, order=(5,1,0))\n",
    "model_fit = model.fit(disp=0)\n",
    "print(model_fit.summary())\n"
   ]
  },
  {
   "cell_type": "code",
   "execution_count": 10,
   "metadata": {},
   "outputs": [],
   "source": [
    "# Defien the mearure matrics, MAE, RMSE, CORR\n",
    "# define three metrics: mean absolute error, root mean squared error and Pearson's correlation.\n",
    "from sklearn.metrics import mean_absolute_error\n",
    "# mae = mean_absolute_error(y_actual, y_pred)\n",
    "\n",
    "from sklearn.metrics import mean_squared_error\n",
    "from math import sqrt\n",
    "# rmse = sqrt(mean_squared_error(y_actual, y_pred))\n",
    "\n",
    "# np.correcoef returns Pearson product-moment correlation coefficients\n",
    "def pearson_r(x,y):   \n",
    "    corr_mat = np.corrcoef(x,y)\n",
    "    return corr_mat[0,1]\n",
    "# r = pearson_r(y_actual,y_pred)\n",
    "\n",
    "def evaluate_arima_model1(dataset, p,d,q):\n",
    "    # fit model\n",
    "    model = ARIMA(dataset.values, order=(p,d,q))\n",
    "    model_fit = model.fit(disp=0)\n",
    "  \n",
    "    y_pred1=[]\n",
    "    for t in range(test1_y.shape[0]):\n",
    "        yhat = model_fit.forecast()[0][0]\n",
    "        y_pred1.append(yhat)\n",
    "    error = sqrt(mean_squared_error(val1_y, y_pred1))\n",
    "    return error"
   ]
  },
  {
   "cell_type": "code",
   "execution_count": 10,
   "metadata": {},
   "outputs": [],
   "source": [
    "## tune the parameters by rmse\n",
    "def evaluate_models(dataset, p_values, d_values, q_values):\n",
    "    best_score=100000\n",
    "    p0=-1\n",
    "    d0=-1\n",
    "    q0=-1\n",
    "    for p in p_values:\n",
    "        for d in d_values:\n",
    "            for q in q_values:\n",
    "                try:\n",
    "                    rmse = evaluate_arima_model1(dataset, p,d,q)\n",
    "                    if rmse < best_score:\n",
    "                        best_score = rmse\n",
    "                        p0=p\n",
    "                        d0=d\n",
    "                        q0=q\n",
    "                    print(p,',',d,',',q,' RMSE:',rmse)\n",
    "                except:\n",
    "                    continue\n",
    "    print('Best ARIMA (',p0,',',d0,',',q0,') RMSE:',best_score)\n"
   ]
  },
  {
   "cell_type": "code",
   "execution_count": null,
   "metadata": {},
   "outputs": [
    {
     "name": "stdout",
     "output_type": "stream",
     "text": [
      "1 , 0 , 0  RMSE: 10.03384360922473\n",
      "1 , 0 , 1  RMSE: 10.05200638344834\n",
      "1 , 0 , 2  RMSE: 10.088880341847268\n",
      "1 , 0 , 3  RMSE: 10.065493202593318\n",
      "1 , 0 , 4  RMSE: 10.075986514377025\n",
      "1 , 1 , 0  RMSE: 10.105110229999624\n",
      "1 , 1 , 1  RMSE: 10.104803621656574\n",
      "1 , 1 , 2  RMSE: 10.104324970808438\n",
      "1 , 1 , 3  RMSE: 10.103611111311357\n",
      "1 , 1 , 4  RMSE: 10.110223235098854\n",
      "1 , 2 , 0  RMSE: 10.11182966066178\n"
     ]
    },
    {
     "name": "stderr",
     "output_type": "stream",
     "text": [
      "/home/yiyangsu/anaconda3/lib/python3.6/site-packages/statsmodels/base/model.py:488: HessianInversionWarning: Inverting hessian failed, no bse or cov_params available\n",
      "  'available', HessianInversionWarning)\n"
     ]
    },
    {
     "name": "stdout",
     "output_type": "stream",
     "text": [
      "1 , 2 , 1  RMSE: 10.111829660444279\n"
     ]
    },
    {
     "name": "stderr",
     "output_type": "stream",
     "text": [
      "/home/yiyangsu/anaconda3/lib/python3.6/site-packages/statsmodels/base/model.py:488: HessianInversionWarning: Inverting hessian failed, no bse or cov_params available\n",
      "  'available', HessianInversionWarning)\n"
     ]
    },
    {
     "name": "stdout",
     "output_type": "stream",
     "text": [
      "1 , 2 , 2  RMSE: 10.111829658982405\n"
     ]
    },
    {
     "name": "stderr",
     "output_type": "stream",
     "text": [
      "/home/yiyangsu/anaconda3/lib/python3.6/site-packages/statsmodels/base/model.py:488: HessianInversionWarning: Inverting hessian failed, no bse or cov_params available\n",
      "  'available', HessianInversionWarning)\n"
     ]
    },
    {
     "name": "stdout",
     "output_type": "stream",
     "text": [
      "1 , 2 , 3  RMSE: 10.111829660339806\n"
     ]
    },
    {
     "name": "stderr",
     "output_type": "stream",
     "text": [
      "/home/yiyangsu/anaconda3/lib/python3.6/site-packages/statsmodels/base/model.py:488: HessianInversionWarning: Inverting hessian failed, no bse or cov_params available\n",
      "  'available', HessianInversionWarning)\n"
     ]
    },
    {
     "name": "stdout",
     "output_type": "stream",
     "text": [
      "1 , 2 , 4  RMSE: 10.111830378899747\n",
      "3 , 0 , 0  RMSE: 10.077030084122118\n"
     ]
    },
    {
     "name": "stderr",
     "output_type": "stream",
     "text": [
      "/home/yiyangsu/anaconda3/lib/python3.6/site-packages/statsmodels/base/model.py:508: ConvergenceWarning: Maximum Likelihood optimization failed to converge. Check mle_retvals\n",
      "  \"Check mle_retvals\", ConvergenceWarning)\n"
     ]
    },
    {
     "name": "stdout",
     "output_type": "stream",
     "text": [
      "3 , 0 , 1  RMSE: 10.083081066901084\n"
     ]
    },
    {
     "name": "stderr",
     "output_type": "stream",
     "text": [
      "/home/yiyangsu/anaconda3/lib/python3.6/site-packages/statsmodels/base/model.py:508: ConvergenceWarning: Maximum Likelihood optimization failed to converge. Check mle_retvals\n",
      "  \"Check mle_retvals\", ConvergenceWarning)\n"
     ]
    },
    {
     "name": "stdout",
     "output_type": "stream",
     "text": [
      "3 , 0 , 2  RMSE: 10.083405591319217\n",
      "3 , 0 , 3  RMSE: 10.084300644926271\n",
      "3 , 0 , 4  RMSE: 10.08726049100803\n",
      "3 , 1 , 0  RMSE: 10.104334545614117\n",
      "3 , 1 , 1  RMSE: 10.081278313807985\n",
      "3 , 1 , 2  RMSE: 10.079547806156079\n",
      "3 , 1 , 3  RMSE: 10.080352481541674\n",
      "3 , 1 , 4  RMSE: 10.111361954649398\n",
      "3 , 2 , 0  RMSE: 10.111829661705015\n"
     ]
    },
    {
     "name": "stderr",
     "output_type": "stream",
     "text": [
      "/home/yiyangsu/anaconda3/lib/python3.6/site-packages/statsmodels/base/model.py:488: HessianInversionWarning: Inverting hessian failed, no bse or cov_params available\n",
      "  'available', HessianInversionWarning)\n"
     ]
    },
    {
     "name": "stdout",
     "output_type": "stream",
     "text": [
      "3 , 2 , 1  RMSE: 10.111829664653778\n"
     ]
    },
    {
     "name": "stderr",
     "output_type": "stream",
     "text": [
      "/home/yiyangsu/anaconda3/lib/python3.6/site-packages/statsmodels/base/model.py:488: HessianInversionWarning: Inverting hessian failed, no bse or cov_params available\n",
      "  'available', HessianInversionWarning)\n"
     ]
    },
    {
     "name": "stdout",
     "output_type": "stream",
     "text": [
      "3 , 2 , 2  RMSE: 10.111829659600094\n"
     ]
    },
    {
     "name": "stderr",
     "output_type": "stream",
     "text": [
      "/home/yiyangsu/anaconda3/lib/python3.6/site-packages/statsmodels/base/model.py:488: HessianInversionWarning: Inverting hessian failed, no bse or cov_params available\n",
      "  'available', HessianInversionWarning)\n"
     ]
    },
    {
     "name": "stdout",
     "output_type": "stream",
     "text": [
      "3 , 2 , 3  RMSE: 10.111829657897443\n",
      "3 , 2 , 4  RMSE: 10.1227878684446\n"
     ]
    },
    {
     "name": "stderr",
     "output_type": "stream",
     "text": [
      "/home/yiyangsu/anaconda3/lib/python3.6/site-packages/statsmodels/regression/linear_model.py:1283: RuntimeWarning: invalid value encountered in sqrt\n",
      "  return rho, np.sqrt(sigmasq)\n",
      "/home/yiyangsu/anaconda3/lib/python3.6/site-packages/statsmodels/base/model.py:508: ConvergenceWarning: Maximum Likelihood optimization failed to converge. Check mle_retvals\n",
      "  \"Check mle_retvals\", ConvergenceWarning)\n"
     ]
    },
    {
     "name": "stdout",
     "output_type": "stream",
     "text": [
      "7 , 0 , 1  RMSE: 10.085547712443407\n",
      "7 , 0 , 2  RMSE: 10.072477985211458\n",
      "7 , 0 , 3  RMSE: 10.09379862202782\n"
     ]
    },
    {
     "name": "stderr",
     "output_type": "stream",
     "text": [
      "/home/yiyangsu/anaconda3/lib/python3.6/site-packages/statsmodels/tsa/tsatools.py:674: RuntimeWarning: invalid value encountered in double_scalars\n",
      "  tmp[kiter] = (macoefs[kiter]-b *macoefs[j-kiter-1])/(1-b**2)\n",
      "/home/yiyangsu/anaconda3/lib/python3.6/site-packages/statsmodels/tsa/tsatools.py:676: RuntimeWarning: divide by zero encountered in log\n",
      "  invmacoefs = -np.log((1-macoefs)/(1+macoefs))\n",
      "/home/yiyangsu/anaconda3/lib/python3.6/site-packages/statsmodels/tools/numdiff.py:243: RuntimeWarning: invalid value encountered in subtract\n",
      "  **kwargs)).imag/2./hess[i, j]\n",
      "/home/yiyangsu/anaconda3/lib/python3.6/site-packages/statsmodels/tools/numdiff.py:243: RuntimeWarning: invalid value encountered in multiply\n",
      "  **kwargs)).imag/2./hess[i, j]\n",
      "/home/yiyangsu/anaconda3/lib/python3.6/site-packages/statsmodels/tsa/tsatools.py:650: RuntimeWarning: invalid value encountered in exp\n",
      "  newparams = ((1-np.exp(-params))/(1+np.exp(-params))).copy()\n",
      "/home/yiyangsu/anaconda3/lib/python3.6/site-packages/statsmodels/tsa/tsatools.py:651: RuntimeWarning: invalid value encountered in exp\n",
      "  tmp = ((1-np.exp(-params))/(1+np.exp(-params))).copy()\n",
      "/home/yiyangsu/anaconda3/lib/python3.6/site-packages/statsmodels/base/model.py:488: HessianInversionWarning: Inverting hessian failed, no bse or cov_params available\n",
      "  'available', HessianInversionWarning)\n"
     ]
    },
    {
     "name": "stdout",
     "output_type": "stream",
     "text": [
      "7 , 1 , 0  RMSE: 10.109598295879907\n",
      "7 , 1 , 1  RMSE: 10.109607578603145\n",
      "7 , 1 , 2  RMSE: 10.108952337344935\n",
      "7 , 1 , 3  RMSE: 10.106724616648997\n"
     ]
    },
    {
     "name": "stderr",
     "output_type": "stream",
     "text": [
      "/home/yiyangsu/anaconda3/lib/python3.6/site-packages/statsmodels/base/model.py:488: HessianInversionWarning: Inverting hessian failed, no bse or cov_params available\n",
      "  'available', HessianInversionWarning)\n"
     ]
    },
    {
     "name": "stdout",
     "output_type": "stream",
     "text": [
      "7 , 1 , 4  RMSE: 10.12089696408284\n",
      "7 , 2 , 0  RMSE: 10.111828856327202\n",
      "7 , 2 , 1  RMSE: 10.111828856125836\n",
      "7 , 2 , 2  RMSE: 10.11182885609232\n",
      "7 , 2 , 3  RMSE: 10.111828858004095\n"
     ]
    },
    {
     "name": "stderr",
     "output_type": "stream",
     "text": [
      "/home/yiyangsu/anaconda3/lib/python3.6/site-packages/statsmodels/base/model.py:488: HessianInversionWarning: Inverting hessian failed, no bse or cov_params available\n",
      "  'available', HessianInversionWarning)\n"
     ]
    },
    {
     "name": "stdout",
     "output_type": "stream",
     "text": [
      "7 , 2 , 4  RMSE: 10.107753173363841\n",
      "9 , 0 , 1  RMSE: 10.083658233268775\n"
     ]
    }
   ],
   "source": [
    "p_values = [1,3,7,9]\n",
    "d_values = range(0, 3)\n",
    "q_values = range(0, 5)\n",
    "evaluate_models(train1_y, p_values, d_values, q_values)"
   ]
  },
  {
   "cell_type": "code",
   "execution_count": 11,
   "metadata": {},
   "outputs": [
    {
     "name": "stdout",
     "output_type": "stream",
     "text": [
      "                              ARMA Model Results                              \n",
      "==============================================================================\n",
      "Dep. Variable:                      y   No. Observations:                 4018\n",
      "Model:                     ARMA(1, 0)   Log Likelihood               -5670.578\n",
      "Method:                       css-mle   S.D. of innovations              0.992\n",
      "Date:                Wed, 05 Sep 2018   AIC                          11347.155\n",
      "Time:                        02:58:35   BIC                          11366.051\n",
      "Sample:                             0   HQIC                         11353.852\n",
      "                                                                              \n",
      "==============================================================================\n",
      "                 coef    std err          z      P>|z|      [0.025      0.975]\n",
      "------------------------------------------------------------------------------\n",
      "const          8.2530      4.696      1.757      0.079      -0.952      17.458\n",
      "ar.L1.y        0.9969      0.001    855.820      0.000       0.995       0.999\n",
      "                                    Roots                                    \n",
      "=============================================================================\n",
      "                  Real          Imaginary           Modulus         Frequency\n",
      "-----------------------------------------------------------------------------\n",
      "AR.1            1.0031           +0.0000j            1.0031            0.0000\n",
      "-----------------------------------------------------------------------------\n"
     ]
    }
   ],
   "source": [
    "## by validation set and RMSE we get (1,0,0), check this model, quite poor AIC\n",
    "model = ARIMA(train1_y2.values, order=(1,0,0))\n",
    "model_fit = model.fit(disp=0)\n",
    "print(model_fit.summary())"
   ]
  },
  {
   "cell_type": "code",
   "execution_count": 10,
   "metadata": {},
   "outputs": [],
   "source": [
    "## now model selection via AIC\n",
    "def evaluate_arima_model2(dataset, p,d,q):\n",
    "    # fit model\n",
    "    model = ARIMA(dataset.values, order=(p,d,q))\n",
    "    model_fit = model.fit(disp=0)\n",
    "  \n",
    "    error = model_fit.aic\n",
    "    return error\n",
    "\n",
    "\n",
    "## tune the parameters by rmse\n",
    "def evaluate_models2(dataset, p_values, d_values, q_values):\n",
    "    best_score=1000000000\n",
    "    p0=-1\n",
    "    d0=-1\n",
    "    q0=-1\n",
    "    for p in p_values:\n",
    "        for d in d_values:\n",
    "            for q in q_values:\n",
    "                try:\n",
    "                    aic = evaluate_arima_model2(dataset, p,d,q)\n",
    "                    if aic < best_score:\n",
    "                        best_score = aic\n",
    "                        p0=p\n",
    "                        d0=d\n",
    "                        q0=q\n",
    "                    print(p,',',d,',',q,' AIC:',aic)\n",
    "                except:\n",
    "                    continue\n",
    "    print('Best ARIMA (',p0,',',d0,',',q0,') AIC:',best_score)\n"
   ]
  },
  {
   "cell_type": "code",
   "execution_count": null,
   "metadata": {},
   "outputs": [],
   "source": [
    "p_values = [0]\n",
    "d_values = [0,2]\n",
    "q_values = [13,14,15]\n",
    "evaluate_models2(train1_y2, p_values, d_values, q_values)"
   ]
  },
  {
   "cell_type": "code",
   "execution_count": 13,
   "metadata": {},
   "outputs": [
    {
     "name": "stderr",
     "output_type": "stream",
     "text": [
      "/home/yiyangsu/anaconda3/lib/python3.6/site-packages/statsmodels/base/model.py:488: HessianInversionWarning: Inverting hessian failed, no bse or cov_params available\n",
      "  'available', HessianInversionWarning)\n"
     ]
    },
    {
     "name": "stdout",
     "output_type": "stream",
     "text": [
      "1 , 0 , 13  AIC: 3040.6277190449655\n"
     ]
    },
    {
     "name": "stderr",
     "output_type": "stream",
     "text": [
      "/home/yiyangsu/anaconda3/lib/python3.6/site-packages/statsmodels/base/model.py:488: HessianInversionWarning: Inverting hessian failed, no bse or cov_params available\n",
      "  'available', HessianInversionWarning)\n"
     ]
    },
    {
     "name": "stdout",
     "output_type": "stream",
     "text": [
      "1 , 0 , 14  AIC: 3041.3478579625425\n"
     ]
    },
    {
     "name": "stderr",
     "output_type": "stream",
     "text": [
      "/home/yiyangsu/anaconda3/lib/python3.6/site-packages/statsmodels/base/model.py:488: HessianInversionWarning: Inverting hessian failed, no bse or cov_params available\n",
      "  'available', HessianInversionWarning)\n"
     ]
    },
    {
     "name": "stdout",
     "output_type": "stream",
     "text": [
      "1 , 0 , 15  AIC: 3041.972256208728\n"
     ]
    },
    {
     "name": "stderr",
     "output_type": "stream",
     "text": [
      "/home/yiyangsu/anaconda3/lib/python3.6/site-packages/statsmodels/base/model.py:488: HessianInversionWarning: Inverting hessian failed, no bse or cov_params available\n",
      "  'available', HessianInversionWarning)\n"
     ]
    },
    {
     "name": "stdout",
     "output_type": "stream",
     "text": [
      "1 , 2 , 14  AIC: 3107.04911893767\n",
      "1 , 2 , 15  AIC: 3109.0491149891986\n",
      "Best ARIMA ( 1 , 0 , 13 ) AIC: 3040.6277190449655\n"
     ]
    },
    {
     "name": "stderr",
     "output_type": "stream",
     "text": [
      "/home/yiyangsu/anaconda3/lib/python3.6/site-packages/statsmodels/base/model.py:488: HessianInversionWarning: Inverting hessian failed, no bse or cov_params available\n",
      "  'available', HessianInversionWarning)\n"
     ]
    }
   ],
   "source": [
    "p_values = [1]\n",
    "d_values = [0,2]\n",
    "q_values = [13,14,15]\n",
    "evaluate_models2(train1_y2, p_values, d_values, q_values)"
   ]
  },
  {
   "cell_type": "code",
   "execution_count": 17,
   "metadata": {},
   "outputs": [
    {
     "name": "stdout",
     "output_type": "stream",
     "text": [
      "1 , 0 , 12  AIC: 3559.695741732131\n"
     ]
    },
    {
     "name": "stderr",
     "output_type": "stream",
     "text": [
      "/home/yiyangsu/anaconda3/lib/python3.6/site-packages/statsmodels/base/model.py:488: HessianInversionWarning: Inverting hessian failed, no bse or cov_params available\n",
      "  'available', HessianInversionWarning)\n"
     ]
    },
    {
     "name": "stdout",
     "output_type": "stream",
     "text": [
      "1 , 0 , 14  AIC: 3041.3478579625425\n"
     ]
    },
    {
     "name": "stderr",
     "output_type": "stream",
     "text": [
      "/home/yiyangsu/anaconda3/lib/python3.6/site-packages/statsmodels/base/model.py:488: HessianInversionWarning: Inverting hessian failed, no bse or cov_params available\n",
      "  'available', HessianInversionWarning)\n"
     ]
    },
    {
     "name": "stdout",
     "output_type": "stream",
     "text": [
      "1 , 1 , 12  AIC: 3476.675938444322\n",
      "1 , 1 , 14  AIC: 3039.6810607036296\n",
      "Best ARIMA ( 1 , 1 , 14 ) AIC: 3039.6810607036296\n"
     ]
    },
    {
     "name": "stderr",
     "output_type": "stream",
     "text": [
      "/home/yiyangsu/anaconda3/lib/python3.6/site-packages/statsmodels/base/model.py:488: HessianInversionWarning: Inverting hessian failed, no bse or cov_params available\n",
      "  'available', HessianInversionWarning)\n"
     ]
    }
   ],
   "source": [
    "p_values = [1]\n",
    "d_values = [0,1]\n",
    "q_values = [12,14]\n",
    "evaluate_models2(train1_y2, p_values, d_values, q_values)"
   ]
  },
  {
   "cell_type": "code",
   "execution_count": 19,
   "metadata": {},
   "outputs": [
    {
     "name": "stdout",
     "output_type": "stream",
     "text": [
      "1 , 1 , 15  AIC: 3040.4316560984407\n",
      "Best ARIMA ( 1 , 1 , 15 ) AIC: 3040.4316560984407\n"
     ]
    },
    {
     "name": "stderr",
     "output_type": "stream",
     "text": [
      "/home/yiyangsu/anaconda3/lib/python3.6/site-packages/statsmodels/base/model.py:488: HessianInversionWarning: Inverting hessian failed, no bse or cov_params available\n",
      "  'available', HessianInversionWarning)\n"
     ]
    }
   ],
   "source": [
    "p_values = [1]\n",
    "d_values = [1]\n",
    "q_values = [15]\n",
    "evaluate_models2(train1_y2, p_values, d_values, q_values)"
   ]
  },
  {
   "cell_type": "code",
   "execution_count": 12,
   "metadata": {},
   "outputs": [],
   "source": [
    "## now by rmse we otbtain(1,0,0), by aic we have (11,0,4) compare the performance of the two \n",
    "## on all training set including validation, and compare reuslts on test set\n",
    "#model1 = ARIMA(train1_y2.values, order=(1,0,0))\n",
    "#model_fit1 = model1.fit(disp=0)\n",
    "#print(model_fit1.summary())\n",
    "\n",
    "#model2 = ARIMA(train1_y2.values, order=(1,1,14))\n",
    "#model_fit2 = model2.fit(disp=0)\n",
    "#print(model_fit2.summary())\n",
    "\n",
    "from sklearn.metrics import mean_absolute_error\n",
    "# mae = mean_absolute_error(y_actual, y_pred)\n",
    "\n",
    "from sklearn.metrics import mean_squared_error\n",
    "from math import sqrt\n",
    "# rmse = sqrt(mean_squared_error(y_actual, y_pred))\n",
    "\n",
    "# np.correcoef returns Pearson product-moment correlation coefficients\n",
    "def pearson_r(x,y):   \n",
    "    corr_mat = np.corrcoef(x,y)\n",
    "    return corr_mat[0,1]\n",
    "# r = pearson_r(y_actual,y_pred)\n",
    "\n"
   ]
  },
  {
   "cell_type": "code",
   "execution_count": 12,
   "metadata": {},
   "outputs": [
    {
     "name": "stderr",
     "output_type": "stream",
     "text": [
      "/home/yiyangsu/anaconda3/lib/python3.6/site-packages/statsmodels/base/model.py:508: ConvergenceWarning: Maximum Likelihood optimization failed to converge. Check mle_retvals\n",
      "  \"Check mle_retvals\", ConvergenceWarning)\n"
     ]
    },
    {
     "name": "stdout",
     "output_type": "stream",
     "text": [
      "1.889818728243131\n",
      "1.79795963563615\n",
      "1.7068270382047028\n",
      "1.6561646935406793\n",
      "1.890987212098561\n",
      "1.986187363774849\n",
      "2.079804799489002\n",
      "2.1750198409286057\n",
      "2.268315013198376\n",
      "2.362820457657078\n",
      "2.4245136176985724\n",
      "2.4137995460569535\n",
      "2.442193432318849\n",
      "2.46913607488965\n",
      "2.498065751899318\n",
      "2.5249354440392704\n",
      "2.5523223506729793\n",
      "2.535617366459767\n",
      "2.858643203574759\n",
      "3.015093502352417\n",
      "3.170256983891252\n",
      "3.326635853730823\n",
      "3.481310674920613\n",
      "3.637336623653591\n",
      "3.711479167638517\n",
      "3.6686975750498423\n",
      "3.6870478722649485\n",
      "3.7041928861442206\n",
      "3.72313993263736\n",
      "3.7400614806645676\n",
      "3.7573584286088235\n",
      "3.731302880756271\n",
      "3.987888820954884\n",
      "4.105683718491153\n",
      "4.222380263758518\n",
      "4.340079202991185\n",
      "4.456369078941469\n",
      "4.573451958125819\n",
      "4.635311574442981\n",
      "4.985899960215701\n",
      "5.1964856813734555\n",
      "5.406518296575288\n",
      "5.617072077062733\n",
      "5.8269121670803425\n",
      "6.036483694054695\n",
      "6.101267780649302\n",
      "6.38368333199445\n",
      "6.559705923350321\n",
      "6.7354399231974265\n",
      "6.911327160470911\n",
      "7.087091485755005\n",
      "7.2617828872823385\n",
      "7.311046831691374\n",
      "7.3186187753503225\n",
      "7.347510676593031\n",
      "7.376268305164465\n",
      "7.405119386456717\n",
      "7.434220315861336\n",
      "7.46180541385874\n",
      "7.453685359830863\n",
      "6.898340096362547\n",
      "6.613421994939856\n",
      "6.327806251514595\n",
      "6.043373595346491\n",
      "5.7583023181015065\n",
      "5.471804140040118\n",
      "5.350489998047076\n",
      "5.651402480616984\n",
      "5.742952114557509\n",
      "5.8339315817199555\n",
      "5.924810289088602\n",
      "6.015718003915371\n",
      "6.1067314157608985\n",
      "6.1998387215977795\n",
      "6.39535008513906\n",
      "6.5430021029578\n",
      "6.690443371421352\n",
      "6.838175676753833\n",
      "6.985771111289082\n",
      "7.132008082470824\n",
      "7.156275955689056\n",
      "7.181547498163171\n",
      "7.20605601445688\n",
      "7.230357786984448\n",
      "7.2547080059432405\n",
      "7.279045617937473\n",
      "7.302878284807219\n",
      "7.30348792240488\n",
      "7.823518085060127\n",
      "8.087729682861712\n",
      "8.352182826330752\n",
      "8.615846120721418\n",
      "8.879962807450479\n",
      "9.143282382078683\n",
      "9.260007138046792\n",
      "8.971933102714365\n",
      "8.88523175771194\n",
      "8.798760314577596\n",
      "8.712521481939971\n",
      "8.62661039656702\n",
      "8.537822748653092\n",
      "8.450251826691664\n",
      "8.864189027226873\n",
      "9.0278346607359\n",
      "9.191989503161649\n",
      "9.35454484823459\n",
      "9.51883073187541\n",
      "9.681932998030048\n",
      "9.793949812713926\n",
      "9.232837266784735\n",
      "9.00636748610721\n",
      "8.780125389505763\n",
      "8.554413553102446\n",
      "8.328821715255868\n",
      "8.100465343321632\n",
      "7.953447747986622\n",
      "7.7078071693379515\n",
      "7.507897818156596\n",
      "7.307595256810369\n",
      "7.107378206242982\n",
      "6.907441166581706\n",
      "6.706109908163001\n",
      "6.683637634911013\n",
      "7.248262515141756\n",
      "7.523693824163145\n",
      "7.7995210285761\n",
      "8.074089441904889\n",
      "8.35016187888439\n",
      "8.624861567257698\n",
      "8.756589893177749\n",
      "10.721327638454719\n",
      "11.780968487365952\n",
      "12.842653937817659\n",
      "13.900061983082956\n",
      "14.961325387333364\n",
      "16.02044180321523\n",
      "16.43157636854291\n",
      "14.911127547369357\n",
      "14.347705765037547\n",
      "13.785596066253566\n",
      "13.224255037386287\n",
      "12.664278827601095\n",
      "12.096413885956455\n",
      "11.67383517999972\n",
      "13.138481700953191\n",
      "13.659744360050178\n",
      "14.182827294980722\n",
      "14.700061287714224\n",
      "15.223320937478357\n",
      "15.74540141697458\n",
      "16.164243616369514\n",
      "16.29759303633164\n",
      "16.578813464446938\n",
      "16.862712014644572\n",
      "17.144064171724118\n",
      "17.42928465402307\n",
      "17.707901552137834\n",
      "17.65361170662847\n",
      "18.11938663156926\n",
      "18.319924564483845\n",
      "18.523205106831906\n",
      "18.721742575513126\n",
      "18.92557763055875\n",
      "19.124543883341925\n",
      "19.2437781704789\n",
      "19.230101339190014\n",
      "19.281482520690265\n",
      "19.336455373733934\n",
      "19.386791056909846\n",
      "19.443693021041103\n",
      "19.491867103354004\n",
      "19.47040041670596\n",
      "18.38704519437758\n",
      "17.821484648073138\n",
      "17.258321288813466\n",
      "16.692396764404197\n",
      "16.13217727603047\n",
      "15.562266702651145\n",
      "15.331352554982896\n",
      "16.209845078798388\n",
      "16.532537801721944\n",
      "16.858458982888997\n",
      "17.177952900710043\n",
      "17.505836019893984\n",
      "17.82762932977805\n",
      "18.077771813726724\n",
      "19.559497794654654\n",
      "20.43224393042046\n",
      "21.30966859736116\n",
      "22.180405662071795\n",
      "23.05904031967726\n",
      "23.929982640325914\n",
      "24.212811348763996\n",
      "24.098447982777273\n",
      "24.1761176370737\n",
      "24.258301898152833\n",
      "24.335270947617015\n",
      "24.419245532035397\n",
      "24.49448943729447\n",
      "24.415527303496663\n",
      "25.486489491769646\n",
      "25.98110278993879\n",
      "26.481159812977968\n",
      "26.973206676334296\n",
      "27.473773606172518\n",
      "27.96759270707687\n",
      "28.23118408542594\n",
      "26.935553756018994\n",
      "26.408510801588076\n",
      "25.886011892942502\n",
      "25.359756666497248\n",
      "24.83957250806488\n",
      "24.308809261410758\n",
      "23.973572441556886\n",
      "23.605278763035834\n",
      "23.240826788592894\n",
      "22.880206620237317\n",
      "22.51416449070299\n",
      "22.154704473744818\n",
      "21.788830360690554\n",
      "21.785969455259476\n",
      "20.5316059108695\n",
      "19.89351507365071\n",
      "19.258693123146365\n",
      "18.621209666219762\n",
      "17.988336318615534\n",
      "17.347854993639846\n",
      "17.076986564670207\n",
      "16.552816682199524\n",
      "16.145557024515213\n",
      "15.740251579485092\n",
      "15.33221104010294\n",
      "14.927425653305287\n",
      "14.5198219788557\n",
      "14.465363930313545\n",
      "12.79450595029128\n",
      "11.92269791655402\n",
      "11.051217288577757\n",
      "10.181181923895448\n",
      "9.310679941918469\n",
      "8.436508845132346\n",
      "8.080403073907874\n",
      "8.45449900924442\n",
      "8.462144071521763\n",
      "8.469918844053957\n",
      "8.476352095286412\n",
      "8.483697548779777\n",
      "8.491490998349105\n",
      "8.652268698041551\n",
      "7.565040325606142\n",
      "7.0994547451586145\n",
      "6.633544338319091\n",
      "6.169952957495758\n",
      "5.704891673788277\n",
      "5.237056588197336\n",
      "4.962562446718034\n",
      "5.239787117537078\n",
      "5.239442675790759\n",
      "5.238294241952821\n",
      "5.237170202305046\n",
      "5.235464883607011\n",
      "5.235410216742798\n",
      "5.35507423189212\n",
      "5.065963932588269\n",
      "4.984388622194733\n",
      "4.902266371943052\n",
      "4.821905904646443\n",
      "4.739959673455495\n",
      "4.656901278458712\n",
      "4.567810043336784\n",
      "4.2754736883095354\n",
      "4.081817908018999\n",
      "3.8868949513753415\n",
      "3.6936946242763815\n",
      "3.498598373330435\n",
      "3.3043028033843393\n",
      "3.257101723634571\n",
      "3.111201530275543\n",
      "3.0165552813475536\n",
      "2.920726176263513\n",
      "2.826682957319916\n",
      "2.730739627734989\n",
      "2.6353185776073844\n",
      "2.6125061717998745\n",
      "2.447749478652097\n",
      "2.3545094714683383\n",
      "2.2597784298965733\n",
      "2.1672607396055827\n",
      "2.072306206014618\n",
      "1.9783573944159227\n",
      "1.9451506643258483\n",
      "2.173061672850624\n",
      "2.2738761633431044\n",
      "2.3734424522763993\n",
      "2.474517093614962\n",
      "2.5736068494417492\n",
      "2.67408180048381\n",
      "2.7305613116120435\n",
      "2.4434388622730037\n",
      "2.329048232062781\n",
      "2.2132394425375175\n",
      "2.0999541324688824\n",
      "1.9839704491547683\n",
      "1.868595491417689\n",
      "1.7912736325862961\n",
      "2.0954412572650933\n",
      "2.2117902774613607\n",
      "2.3268324933285447\n",
      "2.4432237299524067\n",
      "2.557686223066549\n",
      "2.6738054991253084\n",
      "2.7564238676134036\n",
      "2.6227437735098507\n",
      "2.599702012943308\n",
      "2.5754528642991015\n",
      "2.55339191242471\n",
      "2.528907949499714\n",
      "2.505101436664764\n",
      "2.4564980874915454\n",
      "2.673438840821155\n",
      "2.759838638486222\n",
      "2.844974487767905\n",
      "2.931594491744455\n",
      "3.016047288041066\n",
      "3.102217330642255\n",
      "3.1592592531683152\n",
      "2.715543748936449\n",
      "2.5227920725680937\n",
      "2.328560942841362\n",
      "2.137087004523263\n",
      "1.9426667281438785\n",
      "1.7489951372839518\n",
      "1.6368547790689965\n",
      "1.967491613374316\n",
      "2.0795424699298444\n",
      "2.190149896211903\n",
      "2.3021745628599106\n",
      "2.4119473965931686\n",
      "2.5240456702947762\n",
      "2.6197370200432872\n",
      "2.4298374777344756\n",
      "2.3855476963837825\n",
      "2.339987324248339\n",
      "2.2968441698756186\n",
      "2.2509571593139466\n",
      "2.205815573516291\n",
      "2.141876475524229\n",
      "2.140399268119161\n",
      "2.1084518565246126\n",
      "2.074945940292926\n",
      "2.0434049677442054\n",
      "2.0092315630515305\n",
      "1.9770815465860951\n",
      "1.9883678312433004\n",
      "1.8518480808248023\n",
      "1.791768611554195\n",
      "1.7302013020993188\n",
      "1.671021019704693\n",
      "1.6090123143560513\n",
      "1.5482207344024324\n",
      "1.5139680555239665\n",
      "1.4253003422317911\n",
      "1.3650003128374624\n",
      "1.303023971652753\n",
      "1.2433837178932512\n",
      "0.0579874617485389 0.14327692728534802 0.999805135674179\n"
     ]
    }
   ],
   "source": [
    "train1 = train2_y2.values\n",
    "test1 = test2_y.values\n",
    "\n",
    "history = [x for x in train1]\n",
    "predict = list()\n",
    "training_mod = sm.tsa.SARIMAX(history, order=(1,1,14))\n",
    "training_res = training_mod.fit()\n",
    "\n",
    "for t in range(len(test1)):\n",
    "    model = sm.tsa.SARIMAX(history, order=(1,1,14))\n",
    "    model_fit = model.filter(training_res.params)\n",
    "    output = model_fit.forecast()\n",
    "    yhat = output[0]\n",
    "    print(yhat)\n",
    "    predict.append(yhat)\n",
    "    obs = test1[t]\n",
    "    history.append(obs)\n",
    "    history = history[1:]\n",
    "\n",
    "mae1 = mean_absolute_error(test1, predict)\n",
    "rmse1 = sqrt(mean_squared_error(test1, predict))\n",
    "\n",
    "corr_y = test2_y.copy()\n",
    "corr_y['y_act'] = test1\n",
    "corr_y['y_pred']= predict\n",
    "corr2 = np.corrcoef(corr_y['y_act'],corr_y['y_pred'])[0,1]\n",
    "\n",
    "\n",
    "print(mae1,rmse1,corr2)"
   ]
  },
  {
   "cell_type": "code",
   "execution_count": 13,
   "metadata": {},
   "outputs": [
    {
     "name": "stdout",
     "output_type": "stream",
     "text": [
      "0.0579874617485389 0.14327692728534802\n"
     ]
    }
   ],
   "source": [
    "mae1 = mean_absolute_error(test2_y, predict)\n",
    "rmse1 = sqrt(mean_squared_error(test2_y, predict))\n",
    "\n",
    "print(mae1,rmse1)"
   ]
  },
  {
   "cell_type": "code",
   "execution_count": 14,
   "metadata": {},
   "outputs": [
    {
     "data": {
      "image/png": "[encoded data removed]",
      "text/plain": [
       "<Figure size 432x288 with 1 Axes>"
      ]
     },
     "metadata": {},
     "output_type": "display_data"
    }
   ],
   "source": [
    "# visualize\n",
    "date = pd.date_range('20050824',periods=4018)\n",
    "import matplotlib.dates as mdates\n",
    "df = y.copy()\n",
    "df['y'] = y.values\n",
    "fig, ax = plt.subplots()\n",
    "ax.plot(date[3653:],df.y[3653:4018],label='real flu rate')\n",
    "ax.plot(date[3653:],predict,label='predicted flu rate')\n",
    "# Now add the legend with some customizations.\n",
    "legend = ax.legend(loc='upper right', shadow=True)\n",
    "\n",
    "plt.title(\"Figure 6: forecast the test_set2 based on all the data since the day before(lag=1),passing parameter to the model\")\n",
    "plt.ylabel('flu rate')\n",
    "plt.xlabel('Date')\n",
    "\n",
    "plt.show()"
   ]
  },
  {
   "cell_type": "code",
   "execution_count": 14,
   "metadata": {},
   "outputs": [
    {
     "name": "stderr",
     "output_type": "stream",
     "text": [
      "/home/yiyangsu/anaconda3/lib/python3.6/site-packages/statsmodels/base/model.py:508: ConvergenceWarning: Maximum Likelihood optimization failed to converge. Check mle_retvals\n",
      "  \"Check mle_retvals\", ConvergenceWarning)\n"
     ]
    },
    {
     "name": "stdout",
     "output_type": "stream",
     "text": [
      "2.7219894794817563\n",
      "1\n",
      "2.1088761120981263\n",
      "2\n",
      "2.027316320888233\n",
      "3\n",
      "1.9845570639207557\n",
      "4\n",
      "1.9335977374731528\n",
      "5\n",
      "1.8891177381367859\n",
      "6\n",
      "1.8303271455918277\n",
      "7\n",
      "1.7805736179873597\n",
      "8\n",
      "2.55414564466153\n",
      "9\n",
      "2.661947025912756\n",
      "10\n",
      "2.7208799270235855\n",
      "11\n",
      "2.772134729447704\n",
      "12\n",
      "2.836414519487162\n",
      "13\n",
      "2.890923022416073\n",
      "14\n",
      "2.935358857721768\n",
      "15\n",
      "2.7823181584955163\n",
      "16\n",
      "2.8190802414907683\n",
      "17\n",
      "2.8097687876896993\n",
      "18\n",
      "2.7928556098754176\n",
      "19\n",
      "2.782119779029813\n",
      "20\n",
      "2.7572521307076796\n",
      "21\n",
      "2.7418862518103686\n",
      "22\n",
      "3.702471189105356\n",
      "23\n",
      "3.871781880132006\n",
      "24\n",
      "3.941588580197655\n",
      "25\n",
      "4.005095372127746\n",
      "26\n",
      "4.081476124664916\n",
      "27\n",
      "4.148006934607196\n",
      "28\n",
      "4.204530917112028\n",
      "29\n",
      "3.937231305338594\n",
      "30\n",
      "3.962612423900962\n",
      "31\n",
      "3.9442939995839574\n",
      "32\n",
      "3.9191894850514575\n",
      "33\n",
      "3.8991589550701664\n",
      "34\n",
      "3.8647796775619154\n",
      "35\n",
      "3.8429753450587585\n",
      "36\n",
      "4.635354742948465\n",
      "37\n",
      "4.763377568920852\n",
      "38\n",
      "4.820719113867721\n",
      "39\n",
      "4.871981612902487\n",
      "40\n",
      "4.935675784034078\n",
      "41\n",
      "4.990610639434561\n",
      "42\n",
      "5.0371041607521985\n",
      "43\n",
      "5.912093961353388\n",
      "44\n",
      "6.129358079911973\n",
      "45\n",
      "6.195080511746474\n",
      "46\n",
      "6.254814448042982\n",
      "47\n",
      "6.322671843575775\n",
      "48\n",
      "6.380419090463257\n",
      "49\n",
      "6.4412425405363685\n",
      "50\n",
      "7.128370017930943\n",
      "51\n",
      "7.307482461133908\n",
      "52\n",
      "7.355032207680529\n",
      "53\n",
      "7.397010075382651\n",
      "54\n",
      "7.448054133453431\n",
      "55\n",
      "7.491398238514017\n",
      "56\n",
      "7.536363997193658\n",
      "57\n",
      "7.465226266193645\n",
      "58\n",
      "7.495734527188017\n",
      "59\n",
      "7.490531834530266\n",
      "60\n",
      "7.479721519237387\n",
      "61\n",
      "7.47487181765162\n",
      "62\n",
      "7.46024486516617\n",
      "63\n",
      "7.455922264251724\n",
      "64\n",
      "5.898859967102914\n",
      "65\n",
      "5.613701719281923\n",
      "66\n",
      "5.500845925328715\n",
      "67\n",
      "5.38138967313589\n",
      "68\n",
      "5.265584607521839\n",
      "69\n",
      "5.137383723727548\n",
      "70\n",
      "5.027729234620337\n",
      "71\n",
      "6.123697304532089\n",
      "72\n",
      "6.225193559058381\n",
      "73\n",
      "6.310415901563414\n",
      "74\n",
      "6.390052410452532\n",
      "75\n",
      "6.483337296761971\n",
      "76\n",
      "6.57035497703446\n",
      "77\n",
      "6.64430786055206\n",
      "78\n",
      "7.014750940074982\n",
      "79\n",
      "7.164099620196344\n",
      "80\n",
      "7.192750953256366\n",
      "81\n",
      "7.215745685807327\n",
      "82\n",
      "7.243807609755629\n",
      "83\n",
      "7.261592094346687\n",
      "84\n",
      "7.291547033460549\n",
      "85\n",
      "7.326109063455895\n",
      "86\n",
      "7.35568015226343\n",
      "87\n",
      "7.355256570682143\n",
      "88\n",
      "7.350280751475536\n",
      "89\n",
      "7.35370014419652\n",
      "90\n",
      "7.346924748761844\n",
      "91\n",
      "7.34437719275898\n",
      "92\n",
      "8.825285912017861\n",
      "93\n",
      "9.095100335733736\n",
      "94\n",
      "9.205570032106312\n",
      "95\n",
      "9.31165208617309\n",
      "96\n",
      "9.428604858947946\n",
      "97\n",
      "9.539193747351462\n",
      "98\n",
      "9.64498644148934\n",
      "99\n",
      "8.603221978047603\n",
      "100\n",
      "8.510492790721127\n",
      "101\n",
      "8.432391548240593\n",
      "102\n",
      "8.34858962267022\n",
      "103\n",
      "8.266029024207132\n",
      "104\n",
      "8.172275266035243\n",
      "105\n",
      "8.104353951387454\n",
      "106\n",
      "9.462810483350259\n",
      "107\n",
      "9.63251768703593\n",
      "108\n",
      "9.73275386957241\n",
      "109\n",
      "9.82892824900487\n",
      "110\n",
      "9.939317363479095\n",
      "111\n",
      "10.045861152118283\n",
      "112\n",
      "10.139181930627831\n",
      "113\n",
      "8.317749722310797\n",
      "114\n",
      "8.085271427926388\n",
      "115\n",
      "7.954384775371351\n",
      "116\n",
      "7.817844437447422\n",
      "117\n",
      "7.678432079339621\n",
      "118\n",
      "7.523753419802081\n",
      "119\n",
      "7.406292844987935\n",
      "120\n",
      "7.0147830568980245\n",
      "121\n",
      "6.816745956812736\n",
      "122\n",
      "6.789002487572258\n",
      "123\n",
      "6.755126315019576\n",
      "124\n",
      "6.733064800070497\n",
      "125\n",
      "6.70585098123028\n",
      "126\n",
      "6.67365671103584\n",
      "127\n",
      "8.310590592334341\n",
      "128\n",
      "8.591834442138143\n",
      "129\n",
      "8.719115275155596\n",
      "130\n",
      "8.841557930611039\n",
      "131\n",
      "8.97377487111876\n",
      "132\n",
      "9.099757387896062\n",
      "133\n",
      "9.222237989512484\n",
      "134\n",
      "14.561432606572433\n",
      "135\n",
      "15.625880010067794\n",
      "136\n",
      "16.01081071105726\n",
      "137\n",
      "16.39476466118784\n",
      "138\n",
      "16.798133830812695\n",
      "139\n",
      "17.206594175032308\n",
      "140\n",
      "17.583740951668318\n",
      "141\n",
      "12.462948640299997\n",
      "142\n",
      "11.868098131408244\n",
      "143\n",
      "11.483620470629283\n",
      "144\n",
      "11.093258490195133\n",
      "145\n",
      "10.68302231411958\n",
      "146\n",
      "10.255007919414028\n",
      "147\n",
      "9.914233511156468\n",
      "148\n",
      "14.934933732033269\n",
      "149\n",
      "15.470503954749962\n",
      "150\n",
      "15.839959476703646\n",
      "151\n",
      "16.208471053036444\n",
      "152\n",
      "16.612340766861095\n",
      "153\n",
      "17.030620100712763\n",
      "154\n",
      "17.37410272295131\n",
      "155\n",
      "16.89318369977959\n",
      "156\n",
      "17.15509464779948\n",
      "157\n",
      "17.12500133462602\n",
      "158\n",
      "17.09303483189097\n",
      "159\n",
      "17.047068075310275\n",
      "160\n",
      "16.986723625497326\n",
      "161\n",
      "16.9915992707653\n",
      "162\n",
      "18.474963580853863\n",
      "163\n",
      "18.66609928474263\n",
      "164\n",
      "18.75957342708277\n",
      "165\n",
      "18.851811977547964\n",
      "166\n",
      "18.963238908838015\n",
      "167\n",
      "19.081168351604944\n",
      "168\n",
      "19.179687906587763\n",
      "169\n",
      "18.888232373804076\n",
      "170\n",
      "18.917381792538862\n",
      "171\n",
      "18.905569167583877\n",
      "172\n",
      "18.888833150258844\n",
      "173\n",
      "18.869398621476837\n",
      "174\n",
      "18.845541860599294\n",
      "175\n",
      "18.861152644579075\n",
      "176\n",
      "15.849527653768227\n",
      "177\n",
      "15.25329748678888\n",
      "178\n",
      "15.028998806919615\n",
      "179\n",
      "14.79811614250464\n",
      "180\n",
      "14.567749556562406\n",
      "181\n",
      "14.337664642999666\n",
      "182\n",
      "14.141592525689314\n",
      "183\n",
      "17.08021398692038\n",
      "184\n",
      "17.399679280589066\n",
      "185\n",
      "17.627206415548148\n",
      "186\n",
      "17.851533274421218\n",
      "187\n",
      "18.092995312944005\n",
      "188\n",
      "18.342893317994335\n",
      "189\n",
      "18.56809032640964\n",
      "190\n",
      "22.280846809139508\n",
      "191\n",
      "23.13838143937902\n",
      "192\n",
      "23.408583579892696\n",
      "193\n",
      "23.67944497688244\n",
      "194\n",
      "23.956253217580574\n",
      "195\n",
      "24.237115449330357\n",
      "196\n",
      "24.525473706095884\n",
      "197\n",
      "23.66483232555796\n",
      "198\n",
      "23.716907136721005\n",
      "199\n",
      "23.64099944732129\n",
      "200\n",
      "23.56602788614747\n",
      "201\n",
      "23.48715343913867\n",
      "202\n",
      "23.403971174634883\n",
      "203\n",
      "23.36305014833224\n",
      "204\n",
      "26.576048588593032\n",
      "205\n",
      "27.0602688773091\n",
      "206\n",
      "27.29589556441113\n",
      "207\n",
      "27.534656559300416\n",
      "208\n",
      "27.787552324012445\n",
      "209\n",
      "28.04816461666563\n",
      "210\n",
      "28.295310612435596\n",
      "211\n",
      "24.088286309574848\n",
      "212\n",
      "23.524055506787665\n",
      "213\n",
      "23.215930987311854\n",
      "214\n",
      "22.906809373489928\n",
      "215\n",
      "22.579719655569765\n",
      "216\n",
      "22.238393072664568\n",
      "217\n",
      "21.983735508628385\n",
      "218\n",
      "21.62245476686345\n",
      "219\n",
      "21.24532269378793\n",
      "220\n",
      "21.222135676387886\n",
      "221\n",
      "21.19812822506276\n",
      "222\n",
      "21.18789696366478\n",
      "223\n",
      "21.182100885316977\n",
      "224\n",
      "21.169097674920764\n",
      "225\n",
      "17.577350864880156\n",
      "226\n",
      "16.917802819857183\n",
      "227\n",
      "16.67104544264308\n",
      "228\n",
      "16.41994841447446\n",
      "229\n",
      "16.157574596007137\n",
      "230\n",
      "15.878666269252678\n",
      "231\n",
      "15.665632163980051\n",
      "232\n",
      "14.723909452185895\n",
      "233\n",
      "14.315125305032991\n",
      "234\n",
      "14.249736979878787\n",
      "235\n",
      "14.181652402202188\n",
      "236\n",
      "14.126275802161299\n",
      "237\n",
      "14.06473327094653\n",
      "238\n",
      "14.002046919548535\n",
      "239\n",
      "9.339235044342168\n",
      "240\n",
      "8.45596447704033\n",
      "241\n",
      "8.12890550607626\n",
      "242\n",
      "7.795244912007815\n",
      "243\n",
      "7.4507871968677515\n",
      "244\n",
      "7.085513352347437\n",
      "245\n",
      "6.780526971233394\n",
      "246\n",
      "8.55774244339436\n",
      "247\n",
      "8.578421347047827\n",
      "248\n",
      "8.716049556565675\n",
      "249\n",
      "8.849088157399718\n",
      "250\n",
      "9.004965746099039\n",
      "251\n",
      "9.160181125793295\n",
      "252\n",
      "9.278048130705226\n",
      "253\n",
      "5.846657848596324\n",
      "254\n",
      "5.37317154706432\n",
      "255\n",
      "5.131562410318066\n",
      "256\n",
      "4.881923837710892\n",
      "257\n",
      "4.620727708115034\n",
      "258\n",
      "4.336439287094415\n",
      "259\n",
      "4.113196075968358\n",
      "260\n",
      "5.467607809345186\n",
      "261\n",
      "5.4830283148731525\n",
      "262\n",
      "5.581979712324291\n",
      "263\n",
      "5.675620298207313\n",
      "264\n",
      "5.791915834295321\n",
      "265\n",
      "5.905263120290601\n",
      "266\n",
      "5.981556531559194\n",
      "267\n",
      "4.899662076575219\n",
      "268\n",
      "4.819438089390199\n",
      "269\n",
      "4.750963815756529\n",
      "270\n",
      "4.674846045118102\n",
      "271\n",
      "4.595147759874346\n",
      "272\n",
      "4.496938544533965\n",
      "273\n",
      "4.433784892999721\n",
      "274\n",
      "3.802138605945578\n",
      "275\n",
      "3.616486793271544\n",
      "276\n",
      "3.5662943704282792\n",
      "277\n",
      "3.5096184429699715\n",
      "278\n",
      "3.4649868600546947\n",
      "279\n",
      "3.4104207907144475\n",
      "280\n",
      "3.350039476055789\n",
      "281\n",
      "3.015978330078354\n",
      "282\n",
      "2.930594544444395\n",
      "283\n",
      "2.9160651265163993\n",
      "284\n",
      "2.8936098784627102\n",
      "285\n",
      "2.8765740886414526\n",
      "286\n",
      "2.8454519302918246\n",
      "287\n",
      "2.823074414555559\n",
      "288\n",
      "2.4069478086250085\n",
      "289\n",
      "2.322484446845979\n",
      "290\n",
      "2.2927264534709586\n",
      "291\n",
      "2.2558332602861197\n",
      "292\n",
      "2.22733474057761\n",
      "293\n",
      "2.1861402812585777\n",
      "294\n",
      "2.1473664410789786\n",
      "295\n",
      "2.8605045059386573\n",
      "296\n",
      "2.9741948155434716\n",
      "297\n",
      "3.0306259090202325\n",
      "298\n",
      "3.080080927957624\n",
      "299\n",
      "3.1398489796570788\n",
      "300\n",
      "3.188357070198188\n",
      "301\n",
      "3.2312855323820444\n",
      "302\n",
      "2.3066441961577646\n",
      "303\n",
      "2.1985708151817462\n",
      "304\n",
      "2.131709404030755\n",
      "305\n",
      "2.057349604427855\n",
      "306\n",
      "1.9869836608411493\n",
      "307\n",
      "1.9009949067202627\n",
      "308\n",
      "1.8300170228208728\n",
      "309\n",
      "2.8548396958479154\n",
      "310\n",
      "2.9851861547338694\n",
      "311\n",
      "3.062373297285077\n",
      "312\n",
      "3.1329504682843834\n",
      "313\n",
      "3.217073069637775\n",
      "314\n",
      "3.292405564302743\n",
      "315\n",
      "3.3529761739864585\n",
      "316\n",
      "2.8057630275210945\n",
      "317\n",
      "2.7900190932293665\n",
      "318\n",
      "2.7523441613694133\n",
      "319\n",
      "2.707874042391557\n",
      "320\n",
      "2.6663252202792456\n",
      "321\n",
      "2.608731448761004\n",
      "322\n",
      "2.5674345596748913\n",
      "323\n",
      "3.292450944228999\n",
      "324\n",
      "3.3916579525071042\n",
      "325\n",
      "3.444049255271116\n",
      "326\n",
      "3.4905851608374174\n",
      "327\n",
      "3.549554162741326\n",
      "328\n",
      "3.5989584236487318\n",
      "329\n",
      "3.637114605037338\n",
      "330\n",
      "2.25897585423039\n",
      "331\n",
      "2.0724507852189404\n",
      "332\n",
      "1.9748164218653985\n",
      "333\n",
      "1.8701814034936781\n",
      "334\n",
      "1.7663399181150659\n",
      "335\n",
      "1.645001815211777\n",
      "336\n",
      "1.5456832257986504\n",
      "337\n",
      "2.717692211835976\n",
      "338\n",
      "2.845517665522568\n",
      "339\n",
      "2.932498938666005\n",
      "340\n",
      "3.013690940377448\n",
      "341\n",
      "3.11013372370986\n",
      "342\n",
      "3.198430154387689\n",
      "343\n",
      "3.2668014054730907\n",
      "344\n",
      "2.5312468820298886\n",
      "345\n",
      "2.4937572533888246\n",
      "346\n",
      "2.4432362866694715\n",
      "347\n",
      "2.3859314491383468\n",
      "348\n",
      "2.329845925665689\n",
      "349\n",
      "2.2567263882325395\n",
      "350\n",
      "2.2040695915528556\n",
      "351\n",
      "2.3403575693895666\n",
      "352\n",
      "2.321110509082713\n",
      "353\n",
      "2.3295619089938473\n",
      "354\n",
      "2.332092152674341\n",
      "355\n",
      "2.34625528848544\n",
      "356\n",
      "2.349638334013949\n",
      "357\n",
      "2.34446138281469\n",
      "358\n",
      "1.9289465884653465\n",
      "359\n",
      "1.8781722019491809\n",
      "360\n",
      "1.852647505271218\n",
      "361\n",
      "1.8202041011589407\n",
      "362\n",
      "1.792160331952298\n",
      "363\n",
      "1.7494368882378935\n",
      "364\n",
      "1.7169686410267504\n",
      "365\n",
      "0.6786756262952222 1.0663502083818128 0.989360310730214\n"
     ]
    }
   ],
   "source": [
    "train1 = train2_y2.values[:3653-4]\n",
    "test = y.values[3653-4:]\n",
    "test1 = test2_y.values\n",
    "\n",
    "history = [x for x in train1]\n",
    "predict2 = list()\n",
    "training_mod = sm.tsa.SARIMAX(history, order=(1,1,14))\n",
    "training_res = training_mod.fit()\n",
    "\n",
    "count =0\n",
    "\n",
    "for t in range(len(test1)):\n",
    "    model = sm.tsa.SARIMAX(history, order=(1,1,14))\n",
    "    model_fit = model.filter(training_res.params)\n",
    "    output = model_fit.forecast(steps=5)\n",
    "    yhat = output[4]\n",
    "    print(yhat)\n",
    "    predict2.append(yhat)\n",
    "    obs = test[t]\n",
    "    history.append(obs)\n",
    "    history = history[1:]\n",
    "    count=count+1\n",
    "    print(count)\n",
    "\n",
    "mae1 = mean_absolute_error(test1, predict2)\n",
    "rmse1 = sqrt(mean_squared_error(test1, predict2))\n",
    "\n",
    "corr_y = test2_y.copy()\n",
    "corr_y['y_act'] = test1\n",
    "corr_y['y_pred']= predict2\n",
    "corr2 = np.corrcoef(corr_y['y_act'],corr_y['y_pred'])[0,1]\n",
    "\n",
    "\n",
    "print(mae1,rmse1,corr2)"
   ]
  },
  {
   "cell_type": "code",
   "execution_count": 16,
   "metadata": {},
   "outputs": [
    {
     "data": {
      "image/png": "[encoded data removed]",
      "text/plain": [
       "<Figure size 432x288 with 1 Axes>"
      ]
     },
     "metadata": {},
     "output_type": "display_data"
    }
   ],
   "source": [
    "\n",
    "# visualize\n",
    "date = pd.date_range('20050824',periods=4018)\n",
    "import matplotlib.dates as mdates\n",
    "df = y.copy()\n",
    "df['y'] = y.values\n",
    "fig, ax = plt.subplots()\n",
    "ax.plot(date[3653:],df.y[3653:4018],label='real flu rate')\n",
    "ax.plot(date[3653:],predict2,label='predicted flu rate')\n",
    "# Now add the legend with some customizations.\n",
    "legend = ax.legend(loc='upper right', shadow=True)\n",
    "\n",
    "plt.title(\"Figure 7: forecast the last 361 days of test_set2 based on all the data since 5 days before(lag=5),passing parameter to the model\")\n",
    "plt.ylabel('flu rate')\n",
    "plt.xlabel('Date')\n",
    "\n",
    "plt.show()"
   ]
  },
  {
   "cell_type": "code",
   "execution_count": 17,
   "metadata": {},
   "outputs": [
    {
     "name": "stderr",
     "output_type": "stream",
     "text": [
      "/home/yiyangsu/anaconda3/lib/python3.6/site-packages/statsmodels/base/model.py:508: ConvergenceWarning: Maximum Likelihood optimization failed to converge. Check mle_retvals\n",
      "  \"Check mle_retvals\", ConvergenceWarning)\n"
     ]
    },
    {
     "name": "stdout",
     "output_type": "stream",
     "text": [
      "3.4989719507112955\n",
      "1\n",
      "3.5127453064893857\n",
      "2\n",
      "3.5160663744276293\n",
      "3\n",
      "3.5126791059254927\n",
      "4\n",
      "3.4924453102275157\n",
      "5\n",
      "3.481009716551969\n",
      "6\n",
      "2.654095316886207\n",
      "7\n",
      "2.6330483412494523\n",
      "8\n",
      "2.6018352697834124\n",
      "9\n",
      "2.5594647183472543\n",
      "10\n",
      "2.5728984765596747\n",
      "11\n",
      "2.564612283439757\n",
      "12\n",
      "2.564046287760684\n",
      "13\n",
      "3.6441618744541446\n",
      "14\n",
      "3.7058689173870816\n",
      "15\n",
      "3.745041704261185\n",
      "16\n",
      "3.773122394288632\n",
      "17\n",
      "3.7579047622476898\n",
      "18\n",
      "3.7288252038818883\n",
      "19\n",
      "3.709097755739275\n",
      "20\n",
      "3.4390723098515004\n",
      "21\n",
      "3.4505321756116283\n",
      "22\n",
      "3.4510595212987956\n",
      "23\n",
      "3.4410023061326247\n",
      "24\n",
      "3.4533393610154612\n",
      "25\n",
      "3.4444265739988014\n",
      "26\n",
      "3.445382158177791\n",
      "27\n",
      "4.728539554909947\n",
      "28\n",
      "4.800093083306755\n",
      "29\n",
      "4.847023130710454\n",
      "30\n",
      "4.884980915387814\n",
      "31\n",
      "4.868113970662358\n",
      "32\n",
      "4.839144836690058\n",
      "33\n",
      "4.821332670278065\n",
      "34\n",
      "4.385416819856738\n",
      "35\n",
      "4.388427753840343\n",
      "36\n",
      "4.382482428459565\n",
      "37\n",
      "4.367130207049792\n",
      "38\n",
      "4.382325311048582\n",
      "39\n",
      "4.377444055378503\n",
      "40\n",
      "4.383031587077124\n",
      "41\n",
      "5.454082668538604\n",
      "42\n",
      "5.5106453526658665\n",
      "43\n",
      "5.547060019335815\n",
      "44\n",
      "5.574533975041229\n",
      "45\n",
      "5.559158675483479\n",
      "46\n",
      "5.533109315081754\n",
      "47\n",
      "5.518255182364485\n",
      "48\n",
      "6.598970004053525\n",
      "49\n",
      "6.670505201951719\n",
      "50\n",
      "6.730530105928159\n",
      "51\n",
      "6.781168636750166\n",
      "52\n",
      "6.77931822767952\n",
      "53\n",
      "6.765336796212765\n",
      "54\n",
      "6.7632845995893085\n",
      "55\n",
      "7.582905323262284\n",
      "56\n",
      "7.628677935166318\n",
      "57\n",
      "7.667826764061183\n",
      "58\n",
      "7.6978748445908\n",
      "59\n",
      "7.693535536960543\n",
      "60\n",
      "7.679022832629169\n",
      "61\n",
      "7.678079446557233\n",
      "62\n",
      "7.527529074351106\n",
      "63\n",
      "7.528578585009876\n",
      "64\n",
      "7.527909467010333\n",
      "65\n",
      "7.51834539375016\n",
      "66\n",
      "7.52601394262508\n",
      "67\n",
      "7.520521551644219\n",
      "68\n",
      "7.528516588229192\n",
      "69\n",
      "5.493093513112844\n",
      "70\n",
      "5.39730138798937\n",
      "71\n",
      "5.306094450935498\n",
      "72\n",
      "5.20546307288189\n",
      "73\n",
      "5.228706542639072\n",
      "74\n",
      "5.232221774807467\n",
      "75\n",
      "5.247318119050084\n",
      "76\n",
      "6.843377182043391\n",
      "77\n",
      "6.919249153102989\n",
      "78\n",
      "6.974136729437895\n",
      "79\n",
      "7.020093594431912\n",
      "80\n",
      "6.995683271254042\n",
      "81\n",
      "6.965199596662663\n",
      "82\n",
      "6.946822144376595\n",
      "83\n",
      "7.3262006809088485\n",
      "84\n",
      "7.363914939556607\n",
      "85\n",
      "7.399671605788598\n",
      "86\n",
      "7.426268898475988\n",
      "87\n",
      "7.436324723880559\n",
      "88\n",
      "7.431027507505681\n",
      "89\n",
      "7.440686784135646\n",
      "90\n",
      "7.456514508683314\n",
      "91\n",
      "7.459903850212096\n",
      "92\n",
      "7.453183947039156\n",
      "93\n",
      "7.439848761327098\n",
      "94\n",
      "7.439383655572695\n",
      "95\n",
      "7.427392375967527\n",
      "96\n",
      "7.429567856584214\n",
      "97\n",
      "9.380236993871758\n",
      "98\n",
      "9.481198112586455\n",
      "99\n",
      "9.568524310906785\n",
      "100\n",
      "9.6479970142502\n",
      "101\n",
      "9.630867278970523\n",
      "102\n",
      "9.609444862191522\n",
      "103\n",
      "9.602949457202001\n",
      "104\n",
      "8.088970515071777\n",
      "105\n",
      "8.02439968454926\n",
      "106\n",
      "7.97416113502588\n",
      "107\n",
      "7.914824606707892\n",
      "108\n",
      "7.943950084726117\n",
      "109\n",
      "7.955153942485878\n",
      "110\n",
      "7.981618563307198\n",
      "111\n",
      "9.876392330253232\n",
      "112\n",
      "9.956603298273466\n",
      "113\n",
      "10.0201518271947\n",
      "114\n",
      "10.076248818604313\n",
      "115\n",
      "10.047156418999151\n",
      "116\n",
      "10.016460336121632\n",
      "117\n",
      "10.002649199154956\n",
      "118\n",
      "7.481430840626977\n",
      "119\n",
      "7.378161486412984\n",
      "120\n",
      "7.292718090521904\n",
      "121\n",
      "7.198924645280546\n",
      "122\n",
      "7.244570182303396\n",
      "123\n",
      "7.2687284369916485\n",
      "124\n",
      "7.305703001365898\n",
      "125\n",
      "6.962985746200907\n",
      "126\n",
      "6.924576330925406\n",
      "127\n",
      "6.881004287102729\n",
      "128\n",
      "6.827714922964351\n",
      "129\n",
      "6.816034364764366\n",
      "130\n",
      "6.795790272835211\n",
      "131\n",
      "6.788272556798794\n",
      "132\n",
      "8.984886008663135\n",
      "133\n",
      "9.104446737236403\n",
      "134\n",
      "9.211618162226003\n",
      "135\n",
      "9.309882553015902\n",
      "136\n",
      "9.294433558085844\n",
      "137\n",
      "9.273665905105252\n",
      "138\n",
      "9.26726733951398\n",
      "139\n",
      "16.119569507878367\n",
      "140\n",
      "16.452856796653688\n",
      "141\n",
      "16.763488734570615\n",
      "142\n",
      "17.06839222854926\n",
      "143\n",
      "17.00461291525759\n",
      "144\n",
      "16.959277301295703\n",
      "145\n",
      "16.93329731642112\n",
      "146\n",
      "9.689260489302207\n",
      "147\n",
      "9.355668040017763\n",
      "148\n",
      "9.094146110762393\n",
      "149\n",
      "8.823240414214553\n",
      "150\n",
      "8.938032205602465\n",
      "151\n",
      "9.018056445811608\n",
      "152\n",
      "9.11427987819421\n",
      "153\n",
      "16.22540938735805\n",
      "154\n",
      "16.503894285366798\n",
      "155\n",
      "16.73341607638891\n",
      "156\n",
      "16.957236984087793\n",
      "157\n",
      "16.834113037298025\n",
      "158\n",
      "16.741271764630405\n",
      "159\n",
      "16.670635024063895\n",
      "160\n",
      "15.558231293936663\n",
      "161\n",
      "15.560828216938388\n",
      "162\n",
      "15.604979700668782\n",
      "163\n",
      "15.643635208147606\n",
      "164\n",
      "15.716756377870777\n",
      "165\n",
      "15.772646720142165\n",
      "166\n",
      "15.84876752614628\n",
      "167\n",
      "17.83011865883703\n",
      "168\n",
      "17.864643254814258\n",
      "169\n",
      "17.90271411940419\n",
      "170\n",
      "17.935691277462492\n",
      "171\n",
      "17.891143264654033\n",
      "172\n",
      "17.862975918016478\n",
      "173\n",
      "17.856545529680663\n",
      "174\n",
      "17.34709334620866\n",
      "175\n",
      "17.32739517833905\n",
      "176\n",
      "17.351981085134295\n",
      "177\n",
      "17.364598968570903\n",
      "178\n",
      "17.399827706316213\n",
      "179\n",
      "17.43221568625765\n",
      "180\n",
      "17.48229238119446\n",
      "181\n",
      "13.526612078135097\n",
      "182\n",
      "13.284960858893527\n",
      "183\n",
      "13.10228246849847\n",
      "184\n",
      "12.906349500467298\n",
      "185\n",
      "12.94448761599001\n",
      "186\n",
      "12.973487060761348\n",
      "187\n",
      "13.019403248948972\n",
      "188\n",
      "17.185651547601207\n",
      "189\n",
      "17.3545679148155\n",
      "190\n",
      "17.51978316623113\n",
      "191\n",
      "17.67465939905638\n",
      "192\n",
      "17.618904774626564\n",
      "193\n",
      "17.579065607938507\n",
      "194\n",
      "17.560943072203884\n",
      "195\n",
      "22.145064682611434\n",
      "196\n",
      "22.37201899573723\n",
      "197\n",
      "22.616835541824617\n",
      "198\n",
      "22.85634052584688\n",
      "199\n",
      "22.837500920923915\n",
      "200\n",
      "22.830491161553\n",
      "201\n",
      "22.854508242107837\n",
      "202\n",
      "21.368556454258027\n",
      "203\n",
      "21.278772058449015\n",
      "204\n",
      "21.231868908796315\n",
      "205\n",
      "21.182668683475423\n",
      "206\n",
      "21.21698035651775\n",
      "207\n",
      "21.248701613191056\n",
      "208\n",
      "21.31199496554544\n",
      "209\n",
      "25.636504044861017\n",
      "210\n",
      "25.80366295585141\n",
      "211\n",
      "25.972627440045322\n",
      "212\n",
      "26.14015900737526\n",
      "213\n",
      "26.08684248930961\n",
      "214\n",
      "26.05723602818211\n",
      "215\n",
      "26.06369988709023\n",
      "216\n",
      "20.221446890773272\n",
      "217\n",
      "19.938247908583275\n",
      "218\n",
      "19.72994722997072\n",
      "219\n",
      "19.51746076716625\n",
      "220\n",
      "19.61684690017496\n",
      "221\n",
      "19.696279491523693\n",
      "222\n",
      "19.80500556222217\n",
      "223\n",
      "19.732705878685373\n",
      "224\n",
      "19.654615924376746\n",
      "225\n",
      "19.588585934307375\n",
      "226\n",
      "19.517622097580084\n",
      "227\n",
      "19.485026590465907\n",
      "228\n",
      "19.46301187025341\n",
      "229\n",
      "19.471017628450518\n",
      "230\n",
      "14.787926923588799\n",
      "231\n",
      "14.567740266698491\n",
      "232\n",
      "14.395564268179157\n",
      "233\n",
      "14.215214462860878\n",
      "234\n",
      "14.290487732002862\n",
      "235\n",
      "14.340179483784448\n",
      "236\n",
      "14.41692365908949\n",
      "237\n",
      "13.511249704989416\n",
      "238\n",
      "13.423193662803767\n",
      "239\n",
      "13.332442361634715\n",
      "240\n",
      "13.237179053356993\n",
      "241\n",
      "13.223273354304824\n",
      "242\n",
      "13.206490808742386\n",
      "243\n",
      "13.212328383128616\n",
      "244\n",
      "7.17357045444745\n",
      "245\n",
      "6.894113408242674\n",
      "246\n",
      "6.6485652574568315\n",
      "247\n",
      "6.394248028947395\n",
      "248\n",
      "6.474024925085149\n",
      "249\n",
      "6.520461194864012\n",
      "250\n",
      "6.581226686951459\n",
      "251\n",
      "9.352810741025024\n",
      "252\n",
      "9.451288628329053\n",
      "253\n",
      "9.517032999183298\n",
      "254\n",
      "9.575191901635938\n",
      "255\n",
      "9.514881337640698\n",
      "256\n",
      "9.458860465000638\n",
      "257\n",
      "9.418488360168983\n",
      "258\n",
      "4.734453362457235\n",
      "259\n",
      "4.54922323278468\n",
      "260\n",
      "4.393903145710869\n",
      "261\n",
      "4.227989883361908\n",
      "262\n",
      "4.311170684620406\n",
      "263\n",
      "4.356670426160192\n",
      "264\n",
      "4.413977530514161\n",
      "265\n",
      "6.5187009793118165\n",
      "266\n",
      "6.58719944178045\n",
      "267\n",
      "6.619790930349207\n",
      "268\n",
      "6.644932552524234\n",
      "269\n",
      "6.58958954770827\n",
      "270\n",
      "6.534206955790718\n",
      "271\n",
      "6.4910834150011665\n",
      "272\n",
      "4.947068178606542\n",
      "273\n",
      "4.91601236624172\n",
      "274\n",
      "4.892884326033348\n",
      "275\n",
      "4.859006268029961\n",
      "276\n",
      "4.904147375804331\n",
      "277\n",
      "4.92151085937826\n",
      "278\n",
      "4.949873828632455\n",
      "279\n",
      "4.214739948582328\n",
      "280\n",
      "4.164925728102873\n",
      "281\n",
      "4.101103357025934\n",
      "282\n",
      "4.029226193069626\n",
      "283\n",
      "4.021712320447203\n",
      "284\n",
      "4.000085695892692\n",
      "285\n",
      "3.988101318548294\n",
      "286\n",
      "3.6234796916429715\n",
      "287\n",
      "3.6276999619971693\n",
      "288\n",
      "3.621067873460711\n",
      "289\n",
      "3.6035179984364154\n",
      "290\n",
      "3.6139803686612226\n",
      "291\n",
      "3.603905300185365\n",
      "292\n",
      "3.6027963264174296\n",
      "293\n",
      "3.0819670114747924\n",
      "294\n",
      "3.0648461300691814\n",
      "295\n",
      "3.035246535554686\n",
      "296\n",
      "2.9965987712500546\n",
      "297\n",
      "3.000920162146755\n",
      "298\n",
      "2.9863769300096954\n",
      "299\n",
      "2.9804298574782715\n",
      "300\n",
      "3.9653494015036523\n",
      "301\n",
      "4.028060356053128\n",
      "302\n",
      "4.069376680340828\n",
      "303\n",
      "4.101165871141604\n",
      "304\n",
      "4.091116546598864\n",
      "305\n",
      "4.066450683044419\n",
      "306\n",
      "4.051192832272264\n",
      "307\n",
      "2.7683380454923427\n",
      "308\n",
      "2.725723862206986\n",
      "309\n",
      "2.6781348512772003\n",
      "310\n",
      "2.6211189516106264\n",
      "311\n",
      "2.6428215223097964\n",
      "312\n",
      "2.641044645767593\n",
      "313\n",
      "2.6476269206726903\n",
      "314\n",
      "4.089582565907236\n",
      "315\n",
      "4.1637000009151555\n",
      "316\n",
      "4.21179997795771\n",
      "317\n",
      "4.25079767775769\n",
      "318\n",
      "4.227989281980392\n",
      "319\n",
      "4.193838267795925\n",
      "320\n",
      "4.169775461860467\n",
      "321\n",
      "3.357915767231373\n",
      "322\n",
      "3.3462827164733775\n",
      "323\n",
      "3.32756839884003\n",
      "324\n",
      "3.3002740758892295\n",
      "325\n",
      "3.32197634188659\n",
      "326\n",
      "3.3206176863079246\n",
      "327\n",
      "3.3288001823169457\n",
      "328\n",
      "4.337679853668908\n",
      "329\n",
      "4.3895339000351\n",
      "330\n",
      "4.417293016050545\n",
      "331\n",
      "4.437417312140248\n",
      "332\n",
      "4.419445680573928\n",
      "333\n",
      "4.38967171091916\n",
      "334\n",
      "4.370451348915042\n",
      "335\n",
      "2.49792754847027\n",
      "336\n",
      "2.4332711616668234\n",
      "337\n",
      "2.365088392365553\n",
      "338\n",
      "2.2884840489817977\n",
      "339\n",
      "2.3196320942304265\n",
      "340\n",
      "2.3246551587150712\n",
      "341\n",
      "2.338119903137679\n",
      "342\n",
      "4.013693118000051\n",
      "343\n",
      "4.094276980725797\n",
      "344\n",
      "4.143747162322512\n",
      "345\n",
      "4.185664302964933\n",
      "346\n",
      "4.155776627726739\n",
      "347\n",
      "4.116794290488215\n",
      "348\n",
      "4.087813778817711\n",
      "349\n",
      "3.014498760215262\n",
      "350\n",
      "2.994564348873551\n",
      "351\n",
      "2.9693217025659915\n",
      "352\n",
      "2.935632506376159\n",
      "353\n",
      "2.9630026116191837\n",
      "354\n",
      "2.965556948211727\n",
      "355\n",
      "2.977645009099694\n",
      "356\n",
      "3.229569785331792\n",
      "357\n",
      "3.2423916195618068\n",
      "358\n",
      "3.232313253770809\n",
      "359\n",
      "3.215140772806011\n",
      "360\n",
      "3.2028810812857724\n",
      "361\n",
      "3.176944312075681\n",
      "362\n",
      "3.1598258542383215\n",
      "363\n",
      "2.6092039593370364\n",
      "364\n",
      "2.6061441913743866\n",
      "365\n",
      "1.7964812402580077 2.461412167041026 0.9447705844536217\n"
     ]
    }
   ],
   "source": [
    "## lag=10\n",
    "train1 = train2_y2.values[:3653-9]\n",
    "test = y.values[3653-9:]\n",
    "test1 = test2_y.values\n",
    "\n",
    "history = [x for x in train1]\n",
    "predict3 = list()\n",
    "training_mod = sm.tsa.SARIMAX(history, order=(1,1,14))\n",
    "training_res = training_mod.fit()\n",
    "\n",
    "count =0\n",
    "\n",
    "for t in range(len(test1)):\n",
    "    model = sm.tsa.SARIMAX(history, order=(1,1,14))\n",
    "    model_fit = model.filter(training_res.params)\n",
    "    output = model_fit.forecast(steps=10)\n",
    "    yhat = output[9]\n",
    "    print(yhat)\n",
    "    predict3.append(yhat)\n",
    "    obs = test[t]\n",
    "    history.append(obs)\n",
    "    history = history[1:]\n",
    "    count=count+1\n",
    "    print(count)\n",
    "\n",
    "mae1 = mean_absolute_error(test1, predict3)\n",
    "rmse1 = sqrt(mean_squared_error(test1, predict3))\n",
    "\n",
    "corr_y = test2_y.copy()\n",
    "corr_y['y_act'] = test1\n",
    "corr_y['y_pred']= predict3\n",
    "corr2 = np.corrcoef(corr_y['y_act'],corr_y['y_pred'])[0,1]\n",
    "\n",
    "\n",
    "print(mae1,rmse1,corr2)"
   ]
  },
  {
   "cell_type": "code",
   "execution_count": 18,
   "metadata": {},
   "outputs": [
    {
     "data": {
      "image/png": "[encoded data removed]",
      "text/plain": [
       "<Figure size 432x288 with 1 Axes>"
      ]
     },
     "metadata": {},
     "output_type": "display_data"
    }
   ],
   "source": [
    "# visualize\n",
    "date = pd.date_range('20050824',periods=4018)\n",
    "import matplotlib.dates as mdates\n",
    "df = y.copy()\n",
    "df['y'] = y.values\n",
    "fig, ax = plt.subplots()\n",
    "ax.plot(date[3653:],df.y[3653:4018],label='real flu rate')\n",
    "ax.plot(date[3653:],predict3,label='predicted flu rate')\n",
    "# Now add the legend with some customizations.\n",
    "legend = ax.legend(loc='upper right', shadow=True)\n",
    "\n",
    "plt.title(\"Figure 8: forecast the last 356 days of test_set2 based on all the data since 10 days before(lag=10),passing parameter to the model\")\n",
    "plt.ylabel('flu rate')\n",
    "plt.xlabel('Date')\n",
    "\n",
    "plt.show()"
   ]
  },
  {
   "cell_type": "code",
   "execution_count": 19,
   "metadata": {},
   "outputs": [
    {
     "name": "stderr",
     "output_type": "stream",
     "text": [
      "/home/yiyangsu/anaconda3/lib/python3.6/site-packages/statsmodels/base/model.py:508: ConvergenceWarning: Maximum Likelihood optimization failed to converge. Check mle_retvals\n",
      "  \"Check mle_retvals\", ConvergenceWarning)\n"
     ]
    },
    {
     "name": "stdout",
     "output_type": "stream",
     "text": [
      "3.7604422562954998\n",
      "1\n",
      "3.7544814184807396\n",
      "2\n",
      "3.757562556587924\n",
      "3\n",
      "4.13783039853355\n",
      "4\n",
      "4.14594899998489\n",
      "5\n",
      "4.140745691496684\n",
      "6\n",
      "4.130336451221292\n",
      "7\n",
      "4.115072165753461\n",
      "8\n",
      "4.101193883739201\n",
      "9\n",
      "4.096637927411667\n",
      "10\n",
      "3.242740734118724\n",
      "11\n",
      "3.2713304799215193\n",
      "12\n",
      "3.278263485963446\n",
      "13\n",
      "3.2740905294087312\n",
      "14\n",
      "3.2680144678982743\n",
      "15\n",
      "3.2668537141895326\n",
      "16\n",
      "3.2776242889006517\n",
      "17\n",
      "4.391168802303512\n",
      "18\n",
      "4.385951290138061\n",
      "19\n",
      "4.372591745211755\n",
      "20\n",
      "4.3581606755666655\n",
      "21\n",
      "4.336201439636418\n",
      "22\n",
      "4.3121403214444625\n",
      "23\n",
      "4.296698102366899\n",
      "24\n",
      "4.0201061570092\n",
      "25\n",
      "4.047088560179451\n",
      "26\n",
      "4.0514360323292244\n",
      "27\n",
      "4.045905729436807\n",
      "28\n",
      "4.040598176464768\n",
      "29\n",
      "4.0428043420675195\n",
      "30\n",
      "4.054944095892073\n",
      "31\n",
      "5.377933820885006\n",
      "32\n",
      "5.368720878624109\n",
      "33\n",
      "5.352504844140311\n",
      "34\n",
      "5.336578713413407\n",
      "35\n",
      "5.315159551462604\n",
      "36\n",
      "5.2937138639746095\n",
      "37\n",
      "5.279210027119515\n",
      "38\n",
      "4.831500677228819\n",
      "39\n",
      "4.85858449663355\n",
      "40\n",
      "4.864710511696825\n",
      "41\n",
      "4.860002957676006\n",
      "42\n",
      "4.858553841278791\n",
      "43\n",
      "4.86371892199178\n",
      "44\n",
      "4.880778086034476\n",
      "45\n",
      "5.984746545208246\n",
      "46\n",
      "5.974139594823582\n",
      "47\n",
      "5.959007279859194\n",
      "48\n",
      "5.943511024457767\n",
      "49\n",
      "5.924612798968751\n",
      "50\n",
      "5.904887832463873\n",
      "51\n",
      "5.892930401966265\n",
      "52\n",
      "7.013396050826574\n",
      "53\n",
      "7.015031687669772\n",
      "54\n",
      "7.010142508249572\n",
      "55\n",
      "6.999829555493503\n",
      "56\n",
      "6.993086006946248\n",
      "57\n",
      "6.983230531331275\n",
      "58\n",
      "6.988352705453271\n",
      "59\n",
      "7.837281027911307\n",
      "60\n",
      "7.833157189444937\n",
      "61\n",
      "7.824323176877159\n",
      "62\n",
      "7.8116776593625445\n",
      "63\n",
      "7.803692019683745\n",
      "64\n",
      "7.794033470871432\n",
      "65\n",
      "7.798801839131346\n",
      "66\n",
      "7.6450885058329785\n",
      "67\n",
      "7.654686506180003\n",
      "68\n",
      "7.654274759889017\n",
      "69\n",
      "7.645956213905918\n",
      "70\n",
      "7.645573219129332\n",
      "71\n",
      "7.644805944150303\n",
      "72\n",
      "7.661966553911414\n",
      "73\n",
      "5.557615340900703\n",
      "74\n",
      "5.588717011285652\n",
      "75\n",
      "5.598514305829337\n",
      "76\n",
      "5.5952094622894935\n",
      "77\n",
      "5.5995061315248025\n",
      "78\n",
      "5.612474833894464\n",
      "79\n",
      "5.639691311333307\n",
      "80\n",
      "7.284725081490772\n",
      "81\n",
      "7.260292013596834\n",
      "82\n",
      "7.239284117053936\n",
      "83\n",
      "7.221073929292941\n",
      "84\n",
      "7.20031781050465\n",
      "85\n",
      "7.170194972005666\n",
      "86\n",
      "7.153397688255235\n",
      "87\n",
      "7.550476385840637\n",
      "88\n",
      "7.565548519707646\n",
      "89\n",
      "7.56467491306953\n",
      "90\n",
      "7.556334216558902\n",
      "91\n",
      "7.557047997690399\n",
      "92\n",
      "7.564707184491593\n",
      "93\n",
      "7.5841196387014795\n",
      "94\n",
      "7.598280695897765\n",
      "95\n",
      "7.5984104040978755\n",
      "96\n",
      "7.5908469696848995\n",
      "97\n",
      "7.57874070795729\n",
      "98\n",
      "7.572426154638999\n",
      "99\n",
      "7.569436804841492\n",
      "100\n",
      "7.577252448646857\n",
      "101\n",
      "9.593946851765294\n",
      "102\n",
      "9.57065121762164\n",
      "103\n",
      "9.553831838007037\n",
      "104\n",
      "9.537335697830926\n",
      "105\n",
      "9.526694450594475\n",
      "106\n",
      "9.505020198382374\n",
      "107\n",
      "9.50164768569748\n",
      "108\n",
      "7.942024217933914\n",
      "109\n",
      "7.973061273411097\n",
      "110\n",
      "7.984881574674619\n",
      "111\n",
      "7.982289982908103\n",
      "112\n",
      "7.9956761446797335\n",
      "113\n",
      "8.01671126899024\n",
      "114\n",
      "8.056642541578864\n",
      "115\n",
      "10.009352750906237\n",
      "116\n",
      "9.972013319704905\n",
      "117\n",
      "9.944489576067438\n",
      "118\n",
      "9.922310102017745\n",
      "119\n",
      "9.903435657010725\n",
      "120\n",
      "9.87798183506213\n",
      "121\n",
      "9.862764291076449\n",
      "122\n",
      "7.264082503744501\n",
      "123\n",
      "7.312931175547154\n",
      "124\n",
      "7.338887789186698\n",
      "125\n",
      "7.343601956852273\n",
      "126\n",
      "7.36772582323289\n",
      "127\n",
      "7.396600197679882\n",
      "128\n",
      "7.4517816686404865\n",
      "129\n",
      "7.090103238137486\n",
      "130\n",
      "7.076854318031901\n",
      "131\n",
      "7.062391530091108\n",
      "132\n",
      "7.047048498776714\n",
      "133\n",
      "7.032899103775295\n",
      "134\n",
      "7.017259266838547\n",
      "135\n",
      "7.011897873487521\n",
      "136\n",
      "9.284569318287284\n",
      "137\n",
      "9.264808328981648\n",
      "138\n",
      "9.249832786067586\n",
      "139\n",
      "9.234820654506436\n",
      "140\n",
      "9.225532501056064\n",
      "141\n",
      "9.212846256350526\n",
      "142\n",
      "9.208444802662584\n",
      "143\n",
      "16.296948840020352\n",
      "144\n",
      "16.20243863275707\n",
      "145\n",
      "16.152989977385474\n",
      "146\n",
      "16.119985127299458\n",
      "147\n",
      "16.095204715832118\n",
      "148\n",
      "16.034787625945256\n",
      "149\n",
      "15.999978157555239\n",
      "150\n",
      "8.530807928843025\n",
      "151\n",
      "8.651117101914057\n",
      "152\n",
      "8.719049975066996\n",
      "153\n",
      "8.744621228682899\n",
      "154\n",
      "8.812711910839722\n",
      "155\n",
      "8.907995034041633\n",
      "156\n",
      "9.03792278941241\n",
      "157\n",
      "16.365412020691952\n",
      "158\n",
      "16.207528605123372\n",
      "159\n",
      "16.112663186944857\n",
      "160\n",
      "16.05646222829776\n",
      "161\n",
      "15.990711905074646\n",
      "162\n",
      "15.89245654243665\n",
      "163\n",
      "15.79522847461203\n",
      "164\n",
      "14.672139071645011\n",
      "165\n",
      "14.735560239745988\n",
      "166\n",
      "14.775798455906191\n",
      "167\n",
      "14.787971660975842\n",
      "168\n",
      "14.846647581461639\n",
      "169\n",
      "14.915719730539049\n",
      "170\n",
      "15.016106115282534\n",
      "171\n",
      "17.055436069924006\n",
      "172\n",
      "16.970922847884523\n",
      "173\n",
      "16.929853386602108\n",
      "174\n",
      "16.89838911887662\n",
      "175\n",
      "16.88326915312263\n",
      "176\n",
      "16.84676982382978\n",
      "177\n",
      "16.829425871657087\n",
      "178\n",
      "16.31871766509751\n",
      "179\n",
      "16.32499391652068\n",
      "180\n",
      "16.347256266131183\n",
      "181\n",
      "16.348500110235786\n",
      "182\n",
      "16.389959771980187\n",
      "183\n",
      "16.403534580627518\n",
      "184\n",
      "16.46889248820682\n",
      "185\n",
      "12.383358264992228\n",
      "186\n",
      "12.401453798384916\n",
      "187\n",
      "12.418116017536757\n",
      "188\n",
      "12.416586535930326\n",
      "189\n",
      "12.444094665903311\n",
      "190\n",
      "12.467916785236222\n",
      "191\n",
      "12.525985695095894\n",
      "192\n",
      "16.82784350565063\n",
      "193\n",
      "16.74189862384489\n",
      "194\n",
      "16.69689846139376\n",
      "195\n",
      "16.666412231911004\n",
      "196\n",
      "16.647219393280892\n",
      "197\n",
      "16.599649720757075\n",
      "198\n",
      "16.574088894924188\n",
      "199\n",
      "21.3268730723928\n",
      "200\n",
      "21.272201427535624\n",
      "201\n",
      "21.24514262864808\n",
      "202\n",
      "21.223095874638037\n",
      "203\n",
      "21.234153735477864\n",
      "204\n",
      "21.2291920369002\n",
      "205\n",
      "21.255137941981857\n",
      "206\n",
      "19.726411883374816\n",
      "207\n",
      "19.730732162724085\n",
      "208\n",
      "19.735457034598646\n",
      "209\n",
      "19.72803299608127\n",
      "210\n",
      "19.766103507965532\n",
      "211\n",
      "19.81010351444878\n",
      "212\n",
      "19.885588517841764\n",
      "213\n",
      "24.349807184729002\n",
      "214\n",
      "24.247187373316184\n",
      "215\n",
      "24.194612494623176\n",
      "216\n",
      "24.15880745821547\n",
      "217\n",
      "24.152705435804513\n",
      "218\n",
      "24.121821416409666\n",
      "219\n",
      "24.119921967083275\n",
      "220\n",
      "18.09588440915267\n",
      "221\n",
      "18.17247235199127\n",
      "222\n",
      "18.223241702776406\n",
      "223\n",
      "18.238326705078237\n",
      "224\n",
      "18.31568071025909\n",
      "225\n",
      "18.405871779770457\n",
      "226\n",
      "18.544139843921368\n",
      "227\n",
      "18.451741702644185\n",
      "228\n",
      "18.38333303800376\n",
      "229\n",
      "18.34517446004526\n",
      "230\n",
      "18.316505401183377\n",
      "231\n",
      "18.30924581688197\n",
      "232\n",
      "18.285787828360544\n",
      "233\n",
      "18.290110730651662\n",
      "234\n",
      "13.455242118186037\n",
      "235\n",
      "13.523051745797028\n",
      "236\n",
      "13.559482840131505\n",
      "237\n",
      "13.568328624471205\n",
      "238\n",
      "13.621543291469706\n",
      "239\n",
      "13.694686684498095\n",
      "240\n",
      "13.79633853313163\n",
      "241\n",
      "12.844324664333815\n",
      "242\n",
      "12.810119840697025\n",
      "243\n",
      "12.787277384697065\n",
      "244\n",
      "12.766385362160351\n",
      "245\n",
      "12.760619316327237\n",
      "246\n",
      "12.748613902565534\n",
      "247\n",
      "12.755108087836287\n",
      "248\n",
      "6.514868251107872\n",
      "249\n",
      "6.6043619529910425\n",
      "250\n",
      "6.650496602475808\n",
      "251\n",
      "6.666900658421255\n",
      "252\n",
      "6.710297556902895\n",
      "253\n",
      "6.775048868073528\n",
      "254\n",
      "6.86202542108106\n",
      "255\n",
      "9.709031890153756\n",
      "256\n",
      "9.635118693098908\n",
      "257\n",
      "9.586389044588685\n",
      "258\n",
      "9.555231879073707\n",
      "259\n",
      "9.516080728220013\n",
      "260\n",
      "9.45932729357857\n",
      "261\n",
      "9.409645844005297\n",
      "262\n",
      "4.578493511327511\n",
      "263\n",
      "4.678213584909206\n",
      "264\n",
      "4.728696428948723\n",
      "265\n",
      "4.74791982873603\n",
      "266\n",
      "4.7909060156352865\n",
      "267\n",
      "4.857128196468401\n",
      "268\n",
      "4.942447826760558\n",
      "269\n",
      "7.099268969675392\n",
      "270\n",
      "7.036869370856872\n",
      "271\n",
      "6.992520312985521\n",
      "272\n",
      "6.964088012358266\n",
      "273\n",
      "6.922500862427908\n",
      "274\n",
      "6.868590577140485\n",
      "275\n",
      "6.816720192556462\n",
      "276\n",
      "5.229057783861298\n",
      "277\n",
      "5.286722804425903\n",
      "278\n",
      "5.313379028191184\n",
      "279\n",
      "5.321394495749253\n",
      "280\n",
      "5.343347165199779\n",
      "281\n",
      "5.375984907995814\n",
      "282\n",
      "5.423756815615184\n",
      "283\n",
      "4.6537015320366875\n",
      "284\n",
      "4.649208183130544\n",
      "285\n",
      "4.637628449120805\n",
      "286\n",
      "4.62584787813591\n",
      "287\n",
      "4.609522696270939\n",
      "288\n",
      "4.594384565176423\n",
      "289\n",
      "4.585476426941417\n",
      "290\n",
      "4.2067853891672895\n",
      "291\n",
      "4.228222052860324\n",
      "292\n",
      "4.232332670998658\n",
      "293\n",
      "4.229392290579709\n",
      "294\n",
      "4.227200331565859\n",
      "295\n",
      "4.22791093466466\n",
      "296\n",
      "4.23715079096726\n",
      "297\n",
      "3.6945581530331397\n",
      "298\n",
      "3.70777344757772\n",
      "299\n",
      "3.705478340332212\n",
      "300\n",
      "3.69900359042779\n",
      "301\n",
      "3.6896466064241715\n",
      "302\n",
      "3.685556913436441\n",
      "303\n",
      "3.6865779571058366\n",
      "304\n",
      "4.700382786781802\n",
      "305\n",
      "4.69742811262152\n",
      "306\n",
      "4.686885925132348\n",
      "307\n",
      "4.676646308120444\n",
      "308\n",
      "4.662032165142989\n",
      "309\n",
      "4.64631227887424\n",
      "310\n",
      "4.635636970183269\n",
      "311\n",
      "3.309323881244983\n",
      "312\n",
      "3.3425602518402924\n",
      "313\n",
      "3.3528440506509885\n",
      "314\n",
      "3.352679620051135\n",
      "315\n",
      "3.3545162041593315\n",
      "316\n",
      "3.3636982278898233\n",
      "317\n",
      "3.382158539317969\n",
      "318\n",
      "4.8649044849065115\n",
      "319\n",
      "4.847382484291566\n",
      "320\n",
      "4.826870994475991\n",
      "321\n",
      "4.811642930196097\n",
      "322\n",
      "4.788585229129981\n",
      "323\n",
      "4.763463058372635\n",
      "324\n",
      "4.74030222301495\n",
      "325\n",
      "3.9023339570036253\n",
      "326\n",
      "3.9359018366923135\n",
      "327\n",
      "3.945575336473147\n",
      "328\n",
      "3.945451012559621\n",
      "329\n",
      "3.9489587684223166\n",
      "330\n",
      "3.961310693515448\n",
      "331\n",
      "3.9817371610845216\n",
      "332\n",
      "5.016789959852724\n",
      "333\n",
      "5.00340998533279\n",
      "334\n",
      "4.985173172029177\n",
      "335\n",
      "4.971047028202096\n",
      "336\n",
      "4.950938330660076\n",
      "337\n",
      "4.930405149404268\n",
      "338\n",
      "4.912841662375744\n",
      "339\n",
      "2.977348590154837\n",
      "340\n",
      "3.0234902793706424\n",
      "341\n",
      "3.0397000256270097\n",
      "342\n",
      "3.0431274136051933\n",
      "343\n",
      "3.0507705803893073\n",
      "344\n",
      "3.0709034981633536\n",
      "345\n",
      "3.098753019653324\n",
      "346\n",
      "4.820562008374972\n",
      "347\n",
      "4.794566995150807\n",
      "348\n",
      "4.7686098497219325\n",
      "349\n",
      "4.750834449503708\n",
      "350\n",
      "4.723187633149755\n",
      "351\n",
      "4.692236272865249\n",
      "352\n",
      "4.661833802729333\n",
      "353\n",
      "3.5544665000806064\n",
      "354\n",
      "3.5955012370130666\n",
      "355\n",
      "3.6089877790302687\n",
      "356\n",
      "3.61100507134323\n",
      "357\n",
      "3.6180403268524604\n",
      "358\n",
      "3.6366403648107686\n",
      "359\n",
      "3.6622353526589464\n",
      "360\n",
      "3.913729260784259\n",
      "361\n",
      "3.9077010770452105\n",
      "362\n",
      "3.8938563558603527\n",
      "363\n",
      "3.882066689258583\n",
      "364\n",
      "3.863698368358893\n",
      "365\n",
      "2.3389027946576495 3.1746077155429147 0.9113476193897685\n"
     ]
    }
   ],
   "source": [
    "## lag=14\n",
    "train1 = train2_y2.values[:3653-13]\n",
    "test = y.values[3653-13:]\n",
    "test1 = test2_y.values\n",
    "\n",
    "history = [x for x in train1]\n",
    "predict4 = list()\n",
    "training_mod = sm.tsa.SARIMAX(history, order=(1,1,14))\n",
    "training_res = training_mod.fit()\n",
    "\n",
    "count =0\n",
    "\n",
    "for t in range(len(test1)):\n",
    "    model = sm.tsa.SARIMAX(history, order=(1,1,14))\n",
    "    model_fit = model.filter(training_res.params)\n",
    "    output = model_fit.forecast(steps=14)\n",
    "    yhat = output[13]\n",
    "    print(yhat)\n",
    "    predict4.append(yhat)\n",
    "    obs = test[t]\n",
    "    history.append(obs)\n",
    "    history = history[1:]\n",
    "    count=count+1\n",
    "    print(count)\n",
    "\n",
    "mae1 = mean_absolute_error(test1, predict4)\n",
    "rmse1 = sqrt(mean_squared_error(test1, predict4))\n",
    "\n",
    "corr_y = test2_y.copy()\n",
    "corr_y['y_act'] = test1\n",
    "corr_y['y_pred']= predict4\n",
    "corr2 = np.corrcoef(corr_y['y_act'],corr_y['y_pred'])[0,1]\n",
    "\n",
    "\n",
    "print(mae1,rmse1,corr2)"
   ]
  },
  {
   "cell_type": "code",
   "execution_count": 20,
   "metadata": {},
   "outputs": [
    {
     "data": {
      "image/png": "[encoded data removed]",
      "text/plain": [
       "<Figure size 432x288 with 1 Axes>"
      ]
     },
     "metadata": {},
     "output_type": "display_data"
    }
   ],
   "source": [
    "# visualize\n",
    "date = pd.date_range('20050824',periods=4018)\n",
    "import matplotlib.dates as mdates\n",
    "df = y.copy()\n",
    "df['y'] = y.values\n",
    "fig, ax = plt.subplots()\n",
    "ax.plot(date[3653:],df.y[3653:4018],label='real flu rate')\n",
    "ax.plot(date[3653:],predict4,label='predicted flu rate')\n",
    "# Now add the legend with some customizations.\n",
    "legend = ax.legend(loc='upper right', shadow=True)\n",
    "\n",
    "plt.title(\"Figure 9: forecast the last 352 days of test_set2 based on all the data since 14 days before(lag=14),passing parameter to the model\")\n",
    "plt.ylabel('flu rate')\n",
    "plt.xlabel('Date')\n",
    "\n",
    "plt.show()"
   ]
  },
  {
   "cell_type": "code",
   "execution_count": 21,
   "metadata": {},
   "outputs": [
    {
     "name": "stderr",
     "output_type": "stream",
     "text": [
      "/home/yiyangsu/anaconda3/lib/python3.6/site-packages/statsmodels/base/model.py:508: ConvergenceWarning: Maximum Likelihood optimization failed to converge. Check mle_retvals\n",
      "  \"Check mle_retvals\", ConvergenceWarning)\n"
     ]
    },
    {
     "name": "stdout",
     "output_type": "stream",
     "text": [
      "5.6071655850755375\n",
      "1\n",
      "5.599932438910046\n",
      "2\n",
      "5.599477871835388\n",
      "3\n",
      "5.788371592128018\n",
      "4\n",
      "5.783083650426314\n",
      "5\n",
      "5.780500947982276\n",
      "6\n",
      "5.769184108590575\n",
      "7\n",
      "5.762619307579189\n",
      "8\n",
      "5.748343807622337\n",
      "9\n",
      "5.744189473340209\n",
      "10\n",
      "5.7523653429364385\n",
      "11\n",
      "5.751546624709378\n",
      "12\n",
      "5.756029605571504\n",
      "13\n",
      "5.751290580357434\n",
      "14\n",
      "5.750755444750593\n",
      "15\n",
      "5.740112601643094\n",
      "16\n",
      "5.738678513277376\n",
      "17\n",
      "5.94205087774816\n",
      "18\n",
      "5.938250125932863\n",
      "19\n",
      "5.937595088174666\n",
      "20\n",
      "5.928076407918949\n",
      "21\n",
      "5.923191218559625\n",
      "22\n",
      "5.9095369796490695\n",
      "23\n",
      "5.906584613638431\n",
      "24\n",
      "5.427389432156772\n",
      "25\n",
      "5.429886787464034\n",
      "26\n",
      "5.439440971728737\n",
      "27\n",
      "5.439066767145499\n",
      "28\n",
      "5.442385136260769\n",
      "29\n",
      "5.43576709133833\n",
      "30\n",
      "5.435971151306914\n",
      "31\n",
      "6.045462601301876\n",
      "32\n",
      "6.037786229167886\n",
      "33\n",
      "6.030470607071004\n",
      "34\n",
      "6.014611480332125\n",
      "35\n",
      "6.00377446420031\n",
      "36\n",
      "5.987219371183013\n",
      "37\n",
      "5.981599663083877\n",
      "38\n",
      "5.817605214886498\n",
      "39\n",
      "5.8198244537529265\n",
      "40\n",
      "5.828895421068601\n",
      "41\n",
      "5.828768310724084\n",
      "42\n",
      "5.8325841193769445\n",
      "43\n",
      "5.827055331900479\n",
      "44\n",
      "5.8278276613511775\n",
      "45\n",
      "6.553845998503993\n",
      "46\n",
      "6.545142344865588\n",
      "47\n",
      "6.536413468123192\n",
      "48\n",
      "6.520343681213298\n",
      "49\n",
      "6.509616368251838\n",
      "50\n",
      "6.495285856856909\n",
      "51\n",
      "6.490339028872065\n",
      "52\n",
      "6.233645888218644\n",
      "53\n",
      "6.23584022762108\n",
      "54\n",
      "6.245761477828757\n",
      "55\n",
      "6.247794130250508\n",
      "56\n",
      "6.254047462777601\n",
      "57\n",
      "6.250426509387746\n",
      "58\n",
      "6.252798248908437\n",
      "59\n",
      "6.860611528311186\n",
      "60\n",
      "6.851534593459035\n",
      "61\n",
      "6.84284983507417\n",
      "62\n",
      "6.827861652865361\n",
      "63\n",
      "6.818516327558008\n",
      "64\n",
      "6.8038039417259375\n",
      "65\n",
      "6.799984741062665\n",
      "66\n",
      "7.407063322229266\n",
      "67\n",
      "7.404652807095975\n",
      "68\n",
      "7.405639029706703\n",
      "69\n",
      "7.399911989587209\n",
      "70\n",
      "7.399224332239775\n",
      "71\n",
      "7.389712311716529\n",
      "72\n",
      "7.390460392743957\n",
      "73\n",
      "7.852347861623261\n",
      "74\n",
      "7.849241172054054\n",
      "75\n",
      "7.848542273040076\n",
      "76\n",
      "7.84134119750291\n",
      "77\n",
      "7.839511873572843\n",
      "78\n",
      "7.832472865244666\n",
      "79\n",
      "7.833722602857382\n",
      "80\n",
      "7.743557574634076\n",
      "81\n",
      "7.7446041617445385\n",
      "82\n",
      "7.751029208892317\n",
      "83\n",
      "7.7507453024538036\n",
      "84\n",
      "7.755315387546223\n",
      "85\n",
      "7.750213246864299\n",
      "86\n",
      "7.754354891876009\n",
      "87\n",
      "6.593147213032464\n",
      "88\n",
      "6.598980219453137\n",
      "89\n",
      "6.613764651182639\n",
      "90\n",
      "6.620130224999079\n",
      "91\n",
      "6.630598761151852\n",
      "92\n",
      "6.633010112933821\n",
      "93\n",
      "6.638577567804695\n",
      "94\n",
      "7.546320399196562\n",
      "95\n",
      "7.535788612219392\n",
      "96\n",
      "7.523093365516753\n",
      "97\n",
      "7.50438764152254\n",
      "98\n",
      "7.491566612170564\n",
      "99\n",
      "7.477584772019999\n",
      "100\n",
      "7.472872683932221\n",
      "101\n",
      "7.681051159987674\n",
      "102\n",
      "7.682181745428866\n",
      "103\n",
      "7.689554966568492\n",
      "104\n",
      "7.690892979760517\n",
      "105\n",
      "7.697140703663121\n",
      "106\n",
      "7.693543426792084\n",
      "107\n",
      "7.697949835942212\n",
      "108\n",
      "7.705636151626545\n",
      "109\n",
      "7.702587407325069\n",
      "110\n",
      "7.7030993702764485\n",
      "111\n",
      "7.697536921250181\n",
      "112\n",
      "7.697504590628776\n",
      "113\n",
      "7.690848039157033\n",
      "114\n",
      "7.692831510284822\n",
      "115\n",
      "8.79865857546505\n",
      "116\n",
      "8.792041364767325\n",
      "117\n",
      "8.784782925191331\n",
      "118\n",
      "8.772105453342903\n",
      "119\n",
      "8.765519641052943\n",
      "120\n",
      "8.757725494275718\n",
      "121\n",
      "8.757542150145614\n",
      "122\n",
      "7.892341562083796\n",
      "123\n",
      "7.898838063040371\n",
      "124\n",
      "7.916238387635989\n",
      "125\n",
      "7.92766552834714\n",
      "126\n",
      "7.943921197918791\n",
      "127\n",
      "7.947487542249138\n",
      "128\n",
      "7.957399731438479\n",
      "129\n",
      "9.03833539535677\n",
      "130\n",
      "9.026659709119727\n",
      "131\n",
      "9.01160145295682\n",
      "132\n",
      "8.991825429796334\n",
      "133\n",
      "8.978884474459448\n",
      "134\n",
      "8.965347892334924\n",
      "135\n",
      "8.962838474852497\n",
      "136\n",
      "7.5204039004922505\n",
      "137\n",
      "7.533656470197717\n",
      "138\n",
      "7.561541293591988\n",
      "139\n",
      "7.5820513168816746\n",
      "140\n",
      "7.606510208159369\n",
      "141\n",
      "7.627274953337618\n",
      "142\n",
      "7.639837737829234\n",
      "143\n",
      "7.457351885162367\n",
      "144\n",
      "7.443777041523345\n",
      "145\n",
      "7.432747744144958\n",
      "146\n",
      "7.419418684619447\n",
      "147\n",
      "7.4130033815387195\n",
      "148\n",
      "7.39688695010201\n",
      "149\n",
      "7.395333114031556\n",
      "150\n",
      "8.640603536379347\n",
      "151\n",
      "8.633215482612771\n",
      "152\n",
      "8.626233762533097\n",
      "153\n",
      "8.614995034790471\n",
      "154\n",
      "8.60965867576213\n",
      "155\n",
      "8.5970172505517\n",
      "156\n",
      "8.596749261079214\n",
      "157\n",
      "12.491480360762184\n",
      "158\n",
      "12.47075837125083\n",
      "159\n",
      "12.43754597494934\n",
      "160\n",
      "12.403453191459745\n",
      "161\n",
      "12.378235634298907\n",
      "162\n",
      "12.36281937364932\n",
      "163\n",
      "12.35813778423946\n",
      "164\n",
      "8.229851347766555\n",
      "165\n",
      "8.264718308922411\n",
      "166\n",
      "8.330957027192529\n",
      "167\n",
      "8.391259023285794\n",
      "168\n",
      "8.45342583586532\n",
      "169\n",
      "8.501693677320281\n",
      "170\n",
      "8.53312191086393\n",
      "171\n",
      "12.608284122192138\n",
      "172\n",
      "12.558081488817272\n",
      "173\n",
      "12.483232120076726\n",
      "174\n",
      "12.41333172406928\n",
      "175\n",
      "12.356182339974996\n",
      "176\n",
      "12.317448474770812\n",
      "177\n",
      "12.2976191861833\n",
      "178\n",
      "11.648824253241457\n",
      "179\n",
      "11.670690792325711\n",
      "180\n",
      "11.71400292303997\n",
      "181\n",
      "11.757211112909971\n",
      "182\n",
      "11.805167129494725\n",
      "183\n",
      "11.833263577911318\n",
      "184\n",
      "11.860418923749478\n",
      "185\n",
      "13.012361019210752\n",
      "186\n",
      "12.988773181075658\n",
      "187\n",
      "12.958788795295716\n",
      "188\n",
      "12.931290012884654\n",
      "189\n",
      "12.915186043847847\n",
      "190\n",
      "12.899603874496052\n",
      "191\n",
      "12.901322855948251\n",
      "192\n",
      "12.607121697186638\n",
      "193\n",
      "12.61977195485568\n",
      "194\n",
      "12.644183005225019\n",
      "195\n",
      "12.665097749080877\n",
      "196\n",
      "12.692985199294714\n",
      "197\n",
      "12.712577237243915\n",
      "198\n",
      "12.732565809131199\n",
      "199\n",
      "10.49835948946647\n",
      "200\n",
      "10.504223811768654\n",
      "201\n",
      "10.523245761179615\n",
      "202\n",
      "10.53980379697973\n",
      "203\n",
      "10.563132584499563\n",
      "204\n",
      "10.577499406218509\n",
      "205\n",
      "10.59454516266081\n",
      "206\n",
      "12.975584964219301\n",
      "207\n",
      "12.95594244567484\n",
      "208\n",
      "12.926867253890816\n",
      "209\n",
      "12.897768870841452\n",
      "210\n",
      "12.877289090865315\n",
      "211\n",
      "12.860779512946765\n",
      "212\n",
      "12.858735033127681\n",
      "213\n",
      "15.461649094442453\n",
      "214\n",
      "15.457055807501524\n",
      "215\n",
      "15.451513277650845\n",
      "216\n",
      "15.447119991186081\n",
      "217\n",
      "15.450481391773794\n",
      "218\n",
      "15.454891230368128\n",
      "219\n",
      "15.467745274730113\n",
      "220\n",
      "14.627841192549266\n",
      "221\n",
      "14.638242190376253\n",
      "222\n",
      "14.660396529037634\n",
      "223\n",
      "14.682448749754556\n",
      "224\n",
      "14.711396776270341\n",
      "225\n",
      "14.73014311176607\n",
      "226\n",
      "14.75507626440147\n",
      "227\n",
      "17.227685192180253\n",
      "228\n",
      "17.212373531434288\n",
      "229\n",
      "17.187900328829837\n",
      "230\n",
      "17.165035803123956\n",
      "231\n",
      "17.1517407174874\n",
      "232\n",
      "17.13893099213979\n",
      "233\n",
      "17.14763865508229\n",
      "234\n",
      "13.816880601402715\n",
      "235\n",
      "13.855208950775795\n",
      "236\n",
      "13.91936056875105\n",
      "237\n",
      "13.976699113154655\n",
      "238\n",
      "14.0382220965641\n",
      "239\n",
      "14.087134398107418\n",
      "240\n",
      "14.126336349135443\n",
      "241\n",
      "14.109509647038099\n",
      "242\n",
      "14.096607776156315\n",
      "243\n",
      "14.080138301216042\n",
      "244\n",
      "14.062033065279588\n",
      "245\n",
      "14.052724092909596\n",
      "246\n",
      "14.043262228795296\n",
      "247\n",
      "14.050407213257053\n",
      "248\n",
      "11.378698479990033\n",
      "249\n",
      "11.406806690304833\n",
      "250\n",
      "11.456899929965516\n",
      "251\n",
      "11.497990043490086\n",
      "252\n",
      "11.543191149429303\n",
      "253\n",
      "11.574022644384499\n",
      "254\n",
      "11.60170332571845\n",
      "255\n",
      "11.101169032669965\n",
      "256\n",
      "11.09249095974412\n",
      "257\n",
      "11.084902416266692\n",
      "258\n",
      "11.072051985369123\n",
      "259\n",
      "11.06751262489272\n",
      "260\n",
      "11.058640276021587\n",
      "261\n",
      "11.063336960097342\n",
      "262\n",
      "7.620194084704798\n",
      "263\n",
      "7.647095657647651\n",
      "264\n",
      "7.696750080126643\n",
      "265\n",
      "7.735636371102613\n",
      "266\n",
      "7.7764443169375035\n",
      "267\n",
      "7.800712815171505\n",
      "268\n",
      "7.821002195424702\n",
      "269\n",
      "9.409527918769149\n",
      "270\n",
      "9.384945267024916\n",
      "271\n",
      "9.350435479685412\n",
      "272\n",
      "9.310884617483818\n",
      "273\n",
      "9.279282987012852\n",
      "274\n",
      "9.248669729088515\n",
      "275\n",
      "9.237579081442552\n",
      "276\n",
      "6.554191318361321\n",
      "277\n",
      "6.582191768953029\n",
      "278\n",
      "6.634185826603107\n",
      "279\n",
      "6.67430805537906\n",
      "280\n",
      "6.715725845827974\n",
      "281\n",
      "6.738647051504469\n",
      "282\n",
      "6.757261295655526\n",
      "283\n",
      "7.966347823315253\n",
      "284\n",
      "7.941640772281652\n",
      "285\n",
      "7.908409790641615\n",
      "286\n",
      "7.869471707694436\n",
      "287\n",
      "7.837869193963895\n",
      "288\n",
      "7.805094025104646\n",
      "289\n",
      "7.792283418182088\n",
      "290\n",
      "6.8942258253379505\n",
      "291\n",
      "6.910551190458368\n",
      "292\n",
      "6.941620898316999\n",
      "293\n",
      "6.961600866820193\n",
      "294\n",
      "6.983816421611935\n",
      "295\n",
      "6.9916932629635\n",
      "296\n",
      "7.001322190482099\n",
      "297\n",
      "6.58652844522143\n",
      "298\n",
      "6.578461826242845\n",
      "299\n",
      "6.572974913981461\n",
      "300\n",
      "6.559371352916753\n",
      "301\n",
      "6.550907167786076\n",
      "302\n",
      "6.536336837850521\n",
      "303\n",
      "6.532645312580328\n",
      "304\n",
      "6.314895933418965\n",
      "305\n",
      "6.317183880782417\n",
      "306\n",
      "6.3262899186603025\n",
      "307\n",
      "6.325357693244172\n",
      "308\n",
      "6.327857299514671\n",
      "309\n",
      "6.320462312944308\n",
      "310\n",
      "6.320243093887329\n",
      "311\n",
      "6.019076143708967\n",
      "312\n",
      "6.016269930001089\n",
      "313\n",
      "6.018895914245178\n",
      "314\n",
      "6.012542795045549\n",
      "315\n",
      "6.010299745063831\n",
      "316\n",
      "5.9981662106395035\n",
      "317\n",
      "5.996194222571646\n",
      "318\n",
      "6.5483522731926564\n",
      "319\n",
      "6.54339519237491\n",
      "320\n",
      "6.540183797527974\n",
      "321\n",
      "6.5277281687503015\n",
      "322\n",
      "6.519471114921897\n",
      "323\n",
      "6.504371851402774\n",
      "324\n",
      "6.499765175419905\n",
      "325\n",
      "5.760033964213864\n",
      "326\n",
      "5.764491661235594\n",
      "327\n",
      "5.778377440779391\n",
      "328\n",
      "5.782059827183044\n",
      "329\n",
      "5.789041494838595\n",
      "330\n",
      "5.784656939871382\n",
      "331\n",
      "5.786602744700679\n",
      "332\n",
      "6.602929139057256\n",
      "333\n",
      "6.592712865682054\n",
      "334\n",
      "6.581222234206784\n",
      "335\n",
      "6.561331591929533\n",
      "336\n",
      "6.546225748819526\n",
      "337\n",
      "6.52550362290729\n",
      "338\n",
      "6.518075961174315\n",
      "339\n",
      "6.042908522900596\n",
      "340\n",
      "6.0489943158890345\n",
      "341\n",
      "6.06420063909981\n",
      "342\n",
      "6.069173693323147\n",
      "343\n",
      "6.077111639824261\n",
      "344\n",
      "6.073893678662051\n",
      "345\n",
      "6.0765093449707965\n",
      "346\n",
      "6.646810508036906\n",
      "347\n",
      "6.638167941929124\n",
      "348\n",
      "6.6292019010062795\n",
      "349\n",
      "6.611946912248375\n",
      "350\n",
      "6.599356914313959\n",
      "351\n",
      "6.581361785970657\n",
      "352\n",
      "6.5754578485837305\n",
      "353\n",
      "5.497753903003206\n",
      "354\n",
      "5.506823536302689\n",
      "355\n",
      "5.5271759652032415\n",
      "356\n",
      "5.5369044456427\n",
      "357\n",
      "5.549011816757005\n",
      "358\n",
      "5.549647953261925\n",
      "359\n",
      "5.5535407415871205\n",
      "360\n",
      "6.505154645865071\n",
      "361\n",
      "6.491764760662823\n",
      "362\n",
      "6.4753301659249285\n",
      "363\n",
      "6.451230313943424\n",
      "364\n",
      "6.432235740970554\n",
      "365\n",
      "4.297929766137242 5.431702655935213 0.7290193041223615\n"
     ]
    }
   ],
   "source": [
    "## lag=28\n",
    "train1 = train2_y2.values[:3653-27]\n",
    "test = y.values[3653-27:]\n",
    "test1 = test2_y.values\n",
    "\n",
    "history = [x for x in train1]\n",
    "predict5 = list()\n",
    "training_mod = sm.tsa.SARIMAX(history, order=(1,1,14))\n",
    "training_res = training_mod.fit()\n",
    "\n",
    "count =0\n",
    "\n",
    "for t in range(len(test1)):\n",
    "    model = sm.tsa.SARIMAX(history, order=(1,1,14))\n",
    "    model_fit = model.filter(training_res.params)\n",
    "    output = model_fit.forecast(steps=28)\n",
    "    yhat = output[27]\n",
    "    print(yhat)\n",
    "    predict5.append(yhat)\n",
    "    obs = test[t]\n",
    "    history.append(obs)\n",
    "    history = history[1:]\n",
    "    count=count+1\n",
    "    print(count)\n",
    "\n",
    "mae1 = mean_absolute_error(test1, predict5)\n",
    "rmse1 = sqrt(mean_squared_error(test1, predict5))\n",
    "\n",
    "corr_y = test2_y.copy()\n",
    "corr_y['y_act'] = test1\n",
    "corr_y['y_pred']= predict5\n",
    "corr2 = np.corrcoef(corr_y['y_act'],corr_y['y_pred'])[0,1]\n",
    "\n",
    "\n",
    "print(mae1,rmse1,corr2)"
   ]
  },
  {
   "cell_type": "code",
   "execution_count": 30,
   "metadata": {},
   "outputs": [
    {
     "data": {
      "image/png": "[encoded data removed]",
      "text/plain": [
       "<Figure size 432x288 with 1 Axes>"
      ]
     },
     "metadata": {},
     "output_type": "display_data"
    }
   ],
   "source": [
    "# visualize\n",
    "date = pd.date_range('20050824',periods=4018)\n",
    "import matplotlib.dates as mdates\n",
    "df = y.copy()\n",
    "df['y'] = y.values\n",
    "fig, ax = plt.subplots()\n",
    "ax.plot(date[3653:],df.y[3653:4018],label='real flu rate', color='black')\n",
    "ax.plot(date[3653:],predict4,dashes=[5,2,20,2], linewidth=2,color='orange',label='lag= 14')\n",
    "ax.plot(date[3653:],predict5,label='lag= 28')\n",
    "# Now add the legend with some customizations.\n",
    "legend = ax.legend(loc='upper right', shadow=True)\n",
    "\n",
    "plt.title(\"ARIMA(1,1,14) Prediction, lags= 14, 28; Dataset1\")\n",
    "plt.ylabel('flu rate')\n",
    "plt.xlabel('Date')\n",
    "\n",
    "plt.savefig(\"arima1428_test1.pdf\", bbox_inches='tight')\n",
    "\n",
    "plt.show()"
   ]
  },
  {
   "cell_type": "code",
   "execution_count": 31,
   "metadata": {},
   "outputs": [
    {
     "data": {
      "image/png": "[encoded data removed]",
      "text/plain": [
       "<Figure size 432x288 with 1 Axes>"
      ]
     },
     "metadata": {},
     "output_type": "display_data"
    }
   ],
   "source": [
    "# visualize\n",
    "date = pd.date_range('20050824',periods=4018)\n",
    "import matplotlib.dates as mdates\n",
    "df = y.copy()\n",
    "df['y'] = y.values\n",
    "fig, ax = plt.subplots()\n",
    "ax.plot(date[3653:],df.y[3653:4018],label='real flu rate', color='black')\n",
    "ax.plot(date[3653:],predict2,dashes=[5,2,20,2], linewidth=2,color='orange',label='lag= 5')\n",
    "ax.plot(date[3653:],predict3,label='lag= 10')\n",
    "# Now add the legend with some customizations.\n",
    "legend = ax.legend(loc='upper right', shadow=True)\n",
    "\n",
    "plt.title(\"ARIMA(1,1,14) Prediction, lags= 5, 10; Dataset1\")\n",
    "plt.ylabel('flu rate')\n",
    "plt.xlabel('Date')\n",
    "\n",
    "plt.savefig(\"arima510_test1.pdf\", bbox_inches='tight')\n",
    "\n",
    "plt.show()"
   ]
  },
  {
   "cell_type": "code",
   "execution_count": 13,
   "metadata": {},
   "outputs": [],
   "source": [
    "arimax_ex_t1 = pd.read_csv('ARIMAX_EN_t1.csv',header=None)"
   ]
  },
  {
   "cell_type": "code",
   "execution_count": 22,
   "metadata": {},
   "outputs": [
    {
     "data": {
      "text/plain": [
       "0    1.282581\n",
       "1    1.295108\n",
       "2    1.362307\n",
       "3    1.403887\n",
       "4    2.764880\n",
       "Name: 1, dtype: float64"
      ]
     },
     "execution_count": 22,
     "metadata": {},
     "output_type": "execute_result"
    }
   ],
   "source": [
    "arimax_ex_t1[1].head()"
   ]
  },
  {
   "cell_type": "code",
   "execution_count": 26,
   "metadata": {},
   "outputs": [
    {
     "data": {
      "image/png": "[encoded data removed]",
      "text/plain": [
       "<Figure size 432x288 with 1 Axes>"
      ]
     },
     "metadata": {},
     "output_type": "display_data"
    }
   ],
   "source": [
    "# visualize\n",
    "date = pd.date_range('20050824',periods=4018)\n",
    "import matplotlib.dates as mdates\n",
    "df = y.copy()\n",
    "df['y'] = y.values\n",
    "fig, ax = plt.subplots()\n",
    "ax.plot(date[3653+27:],df.y[3653+27:4018],label='real flu rate',color='black')\n",
    "ax.plot(date[3653+27:],predict5,label='ARIMA(1,1,14)',dashes=[5,2,20,2], linewidth=2,color='orange')\n",
    "ax.plot(date[3653+27:],arimax_ex_t1[1].values,label='ARIMAX_EN',dashes=[2,2], linewidth=2,color='green')\n",
    "# Now add the legend with some customizations.\n",
    "legend = ax.legend(loc='upper right', shadow=True)\n",
    "\n",
    "plt.title(\"lag= 28, test set1\")\n",
    "plt.ylabel('flu rate')\n",
    "plt.xlabel('Date')\n",
    "\n",
    "plt.savefig(\"ar_test1.pdf\", bbox_inches='tight')\n",
    "\n",
    "plt.show()"
   ]
  },
  {
   "cell_type": "code",
   "execution_count": 21,
   "metadata": {},
   "outputs": [
    {
     "data": {
      "image/png": "[encoded data removed]",
      "text/plain": [
       "<Figure size 1080x576 with 1 Axes>"
      ]
     },
     "metadata": {},
     "output_type": "display_data"
    }
   ],
   "source": [
    "## results of above iteratively prediction \n",
    "predict2=   [1.17728183,1.1650975,1.22402906,1.30387754,1.40379864,1.52525009,1.66675996,1.81504843,1.96891683,2.14070386,2.31727531,2.49810602,2.68367832,2.87322547,3.05615562,3.23269185,3.40301013,3.56737837,\n",
    "            3.72600493,3.87908551,4.02681623,4.16940779,4.30704519,4.43988732,4.56811368,4.69187792,4.81133435,4.92662897,5.0379172,5.14532646,5.24900171,5.34905634,5.44563163,5.53885598,5.62882835,5.71567021,\n",
    "            5.79949884,5.88040801,5.95850058,6.03387403,6.10661813,6.17684649,6.24463225,6.3100625,6.37321128,6.43416407,6.49299116,6.54975336,6.60453004,6.65739214,6.70840892,6.75764423,6.80516038,6.85101357,\n",
    "            6.89527966,6.93799121,6.9792067,7.01898596,7.05737272,7.09442454,7.13017917,7.16467587,7.19796026,7.23007614,7.26106567,7.29096745,7.31981179,7.3476421,7.37449125,7.40040076,7.42539772,7.4495079,\n",
    "            7.47276511,7.49518339,7.51681312,7.53767761,7.5578018,7.57722755,7.59596212,7.61403245,7.63146546,7.64827677,7.66448926,7.68012224,7.69518653,7.70971149,7.7237178,7.73722875,7.75025443,7.76283067,\n",
    "            7.77495961,7.78662756,7.79787676,7.8087204,7.81918005,7.82926522,7.83896993,7.84831432,7.85733191,7.86602693,7.87440643,7.88247713,7.89024994,7.89773286,7.90493879,7.91188794,7.91857762,7.92501754,\n",
    "            7.93122102,7.93717911,7.94291686,7.94844357,7.95376268,7.95887924,7.9638022,7.96853585,7.97309665,7.97748366,7.98170495,7.98575358,7.98964585,7.99339632,7.99700377,8.0004757,8.00381079,8.00699767,\n",
    "            8.0100586,8.01299588,8.01581013,8.01849895,8.02109358,8.02358343,8.02597851,8.02827295,8.03048132,8.0325937,8.03461359,8.03652895,8.03836697,8.04013177,8.04182591,8.04343626,8.04497332,8.04644759,\n",
    "            8.0478535,8.04919091,8.05046732,8.05168372,8.05284112,8.0539425,8.05499303,8.05599525,8.05694324,8.05783346,8.05867908,8.05948112,8.06023969,8.06166986,8.06232502,8.06294728,8.06353482,8.06408609,\n",
    "            8.06462251,8.06511224,8.06556895,8.06599272,8.06643102,8.0668379,8.06721485,8.0675512,8.06785085,8.06811622,8.06835766,8.06855108,8.06872075,8.06887012,8.06898941,8.06908777,8.06917064,8.06923464,\n",
    "            8.06926215,8.06927613,8.06927207,8.0692519,8.06920781,8.06915344,8.06908439,8.06900123,8.0689029,8.06879012,8.06866637,8.06853597,8.06838647,8.06822614,8.06805557,8.0678727,8.06768174,8.06748026,\n",
    "            8.06727055,8.06705528,8.06683198,8.06659646,8.066333,8.06606185,8.06578928,8.06551131,8.06523681,8.06495493,8.06465493,8.06436734,8.06407241,8.06376878,8.06346011,8.06314188,8.06282662,8.06251595,\n",
    "            8.06220489,8.06188895,8.06156435,8.06123498,8.06089933,8.06055168,8.06020573,8.05985295,8.05950727,8.05915821,8.05880513,8.05844789,8.0580849,8.05771835,8.05734835,8.05696829,8.05658208,8.05619284,\n",
    "            8.05579503,8.0553998,8.05500211,8.05459521,8.05418114,8.05376682,8.05335064,8.05292787,8.05250264,8.05207536,8.05165028,8.05122104,8.05079119,8.05036159,8.0499374,8.04950946,8.04908756,8.04866931,\n",
    "            8.04824352,8.04824352,8.04781545,8.04738618,8.04695827,8.04652839,8.04609382,8.04565872,8.04522841,8.04479708,8.04436236,8.04392636,8.04348847,8.0430457,8.04260009,8.04215732,8.04171409,8.04126991,\n",
    "            8.04082506,8.04036924,8.03991311,8.03945186,8.03899026,8.0385241,8.03805978,8.03759527,8.03713701,8.0366785,8.03622179,8.03576518,8.03531057,8.03485451,8.03439814,8.03394605,8.03349009,8.03303669,\n",
    "            8.0325825,8.03212956,8.03167578,8.03118689,8.03069731,8.03021033,8.0297232,8.02923405,8.0287449,8.02828935,8.02785277,8.0274165,8.02698442,8.02655109,8.02611752,8.02567091,8.02520429,8.02475239,\n",
    "            8.02430001,8.02384481,8.0233885,8.02293279,8.02248155,8.02201534,8.0215427,8.02106612,8.02058856,8.02011103,8.01964331,8.01918201,8.0187206,8.01823212,8.01774657,8.01726176,8.01679237,8.01630756,\n",
    "            8.01582411,8.01533957,8.01487555,8.0144132,8.01395223,8.01348291,8.01301586,8.01255409,8.01209319,8.0116609,8.01122774,8.01079255,8.01035125,8.00991384,8.00947302,8.00903171,8.0085793,8.00812626,\n",
    "            8.00767213,8.00721728,8.0067619,8.0063033,8.00587837,8.0054439,8.00501734,8.0045906,8.00416213,8.00370799,8.00325371,8.0027795,8.00230673,8.00183548,8.00136777,8.00088527,8.00041694,7.99995121,\n",
    "            7.9994701,7.99899079,7.9985036,7.9980142,7.99753405]\n",
    "mae2 = mean_absolute_error(test1_y, predict2)\n",
    "rmse2 = sqrt(mean_squared_error(test1_y, predict2))\n",
    "\n",
    "print(mae2,rmse2)\n",
    "\n",
    "# visualize\n",
    "date = pd.date_range('20050824',periods=4383)\n",
    "import matplotlib.dates as mdates\n",
    "df = y.copy()\n",
    "df['y'] = y.values\n",
    "\n",
    "fig, ax = plt.subplots()\n",
    "ax.plot(date[4018:],df.y[4018:],date[4018:],predict2)\n",
    "plt.title(\"Figure 2:Using the predicted yhat back into training set to predict new yhat\")\n",
    "plt.ylabel('flu rate')\n",
    "plt.xlabel('Date')\n",
    "\n",
    "plt.show()"
   ]
  },
  {
   "cell_type": "code",
   "execution_count": 27,
   "metadata": {},
   "outputs": [
    {
     "name": "stderr",
     "output_type": "stream",
     "text": [
      "/home/yiyangsu/anaconda3/lib/python3.6/site-packages/statsmodels/base/model.py:488: HessianInversionWarning: Inverting hessian failed, no bse or cov_params available\n",
      "  'available', HessianInversionWarning)\n"
     ]
    },
    {
     "name": "stdout",
     "output_type": "stream",
     "text": [
      "[1.17728183]\n"
     ]
    },
    {
     "name": "stderr",
     "output_type": "stream",
     "text": [
      "/home/yiyangsu/anaconda3/lib/python3.6/site-packages/statsmodels/base/model.py:488: HessianInversionWarning: Inverting hessian failed, no bse or cov_params available\n",
      "  'available', HessianInversionWarning)\n"
     ]
    },
    {
     "name": "stdout",
     "output_type": "stream",
     "text": [
      "[1.1140093]\n"
     ]
    },
    {
     "name": "stderr",
     "output_type": "stream",
     "text": [
      "/home/yiyangsu/anaconda3/lib/python3.6/site-packages/statsmodels/base/model.py:488: HessianInversionWarning: Inverting hessian failed, no bse or cov_params available\n",
      "  'available', HessianInversionWarning)\n"
     ]
    },
    {
     "name": "stdout",
     "output_type": "stream",
     "text": [
      "[1.10086218]\n"
     ]
    },
    {
     "name": "stderr",
     "output_type": "stream",
     "text": [
      "/home/yiyangsu/anaconda3/lib/python3.6/site-packages/statsmodels/base/model.py:488: HessianInversionWarning: Inverting hessian failed, no bse or cov_params available\n",
      "  'available', HessianInversionWarning)\n"
     ]
    },
    {
     "name": "stdout",
     "output_type": "stream",
     "text": [
      "[1.18011196]\n"
     ]
    },
    {
     "name": "stderr",
     "output_type": "stream",
     "text": [
      "/home/yiyangsu/anaconda3/lib/python3.6/site-packages/statsmodels/base/model.py:488: HessianInversionWarning: Inverting hessian failed, no bse or cov_params available\n",
      "  'available', HessianInversionWarning)\n"
     ]
    },
    {
     "name": "stdout",
     "output_type": "stream",
     "text": [
      "[1.21406008]\n"
     ]
    },
    {
     "name": "stderr",
     "output_type": "stream",
     "text": [
      "/home/yiyangsu/anaconda3/lib/python3.6/site-packages/statsmodels/base/model.py:488: HessianInversionWarning: Inverting hessian failed, no bse or cov_params available\n",
      "  'available', HessianInversionWarning)\n"
     ]
    },
    {
     "name": "stdout",
     "output_type": "stream",
     "text": [
      "[1.25024906]\n"
     ]
    },
    {
     "name": "stderr",
     "output_type": "stream",
     "text": [
      "/home/yiyangsu/anaconda3/lib/python3.6/site-packages/statsmodels/base/model.py:488: HessianInversionWarning: Inverting hessian failed, no bse or cov_params available\n",
      "  'available', HessianInversionWarning)\n"
     ]
    },
    {
     "name": "stdout",
     "output_type": "stream",
     "text": [
      "[1.28363876]\n",
      "[1.31984028]\n"
     ]
    },
    {
     "name": "stderr",
     "output_type": "stream",
     "text": [
      "/home/yiyangsu/anaconda3/lib/python3.6/site-packages/statsmodels/base/model.py:488: HessianInversionWarning: Inverting hessian failed, no bse or cov_params available\n",
      "  'available', HessianInversionWarning)\n"
     ]
    },
    {
     "name": "stdout",
     "output_type": "stream",
     "text": [
      "[1.35230127]\n"
     ]
    },
    {
     "name": "stderr",
     "output_type": "stream",
     "text": [
      "/home/yiyangsu/anaconda3/lib/python3.6/site-packages/statsmodels/base/model.py:488: HessianInversionWarning: Inverting hessian failed, no bse or cov_params available\n",
      "  'available', HessianInversionWarning)\n"
     ]
    },
    {
     "name": "stdout",
     "output_type": "stream",
     "text": [
      "[1.37235281]\n"
     ]
    },
    {
     "name": "stderr",
     "output_type": "stream",
     "text": [
      "/home/yiyangsu/anaconda3/lib/python3.6/site-packages/statsmodels/base/model.py:488: HessianInversionWarning: Inverting hessian failed, no bse or cov_params available\n",
      "  'available', HessianInversionWarning)\n"
     ]
    },
    {
     "name": "stdout",
     "output_type": "stream",
     "text": [
      "[1.51248622]\n"
     ]
    },
    {
     "name": "stderr",
     "output_type": "stream",
     "text": [
      "/home/yiyangsu/anaconda3/lib/python3.6/site-packages/statsmodels/base/model.py:488: HessianInversionWarning: Inverting hessian failed, no bse or cov_params available\n",
      "  'available', HessianInversionWarning)\n"
     ]
    },
    {
     "name": "stdout",
     "output_type": "stream",
     "text": [
      "[1.59354508]\n"
     ]
    },
    {
     "name": "stderr",
     "output_type": "stream",
     "text": [
      "/home/yiyangsu/anaconda3/lib/python3.6/site-packages/statsmodels/base/model.py:488: HessianInversionWarning: Inverting hessian failed, no bse or cov_params available\n",
      "  'available', HessianInversionWarning)\n"
     ]
    },
    {
     "name": "stdout",
     "output_type": "stream",
     "text": [
      "[1.67684366]\n"
     ]
    },
    {
     "name": "stderr",
     "output_type": "stream",
     "text": [
      "/home/yiyangsu/anaconda3/lib/python3.6/site-packages/statsmodels/base/model.py:488: HessianInversionWarning: Inverting hessian failed, no bse or cov_params available\n",
      "  'available', HessianInversionWarning)\n"
     ]
    },
    {
     "name": "stdout",
     "output_type": "stream",
     "text": [
      "[1.75730126]\n"
     ]
    },
    {
     "name": "stderr",
     "output_type": "stream",
     "text": [
      "/home/yiyangsu/anaconda3/lib/python3.6/site-packages/statsmodels/base/model.py:488: HessianInversionWarning: Inverting hessian failed, no bse or cov_params available\n",
      "  'available', HessianInversionWarning)\n"
     ]
    },
    {
     "name": "stdout",
     "output_type": "stream",
     "text": [
      "[1.84059901]\n"
     ]
    },
    {
     "name": "stderr",
     "output_type": "stream",
     "text": [
      "/home/yiyangsu/anaconda3/lib/python3.6/site-packages/statsmodels/base/model.py:488: HessianInversionWarning: Inverting hessian failed, no bse or cov_params available\n",
      "  'available', HessianInversionWarning)\n"
     ]
    },
    {
     "name": "stdout",
     "output_type": "stream",
     "text": [
      "[1.92017215]\n"
     ]
    },
    {
     "name": "stderr",
     "output_type": "stream",
     "text": [
      "/home/yiyangsu/anaconda3/lib/python3.6/site-packages/statsmodels/base/model.py:488: HessianInversionWarning: Inverting hessian failed, no bse or cov_params available\n",
      "  'available', HessianInversionWarning)\n"
     ]
    },
    {
     "name": "stdout",
     "output_type": "stream",
     "text": [
      "[1.94630637]\n"
     ]
    },
    {
     "name": "stderr",
     "output_type": "stream",
     "text": [
      "/home/yiyangsu/anaconda3/lib/python3.6/site-packages/statsmodels/base/model.py:488: HessianInversionWarning: Inverting hessian failed, no bse or cov_params available\n",
      "  'available', HessianInversionWarning)\n"
     ]
    },
    {
     "name": "stdout",
     "output_type": "stream",
     "text": [
      "[1.95622044]\n"
     ]
    },
    {
     "name": "stderr",
     "output_type": "stream",
     "text": [
      "/home/yiyangsu/anaconda3/lib/python3.6/site-packages/statsmodels/base/model.py:488: HessianInversionWarning: Inverting hessian failed, no bse or cov_params available\n",
      "  'available', HessianInversionWarning)\n"
     ]
    },
    {
     "name": "stdout",
     "output_type": "stream",
     "text": [
      "[1.97442603]\n"
     ]
    },
    {
     "name": "stderr",
     "output_type": "stream",
     "text": [
      "/home/yiyangsu/anaconda3/lib/python3.6/site-packages/statsmodels/base/model.py:488: HessianInversionWarning: Inverting hessian failed, no bse or cov_params available\n",
      "  'available', HessianInversionWarning)\n"
     ]
    },
    {
     "name": "stdout",
     "output_type": "stream",
     "text": [
      "[1.99490015]\n"
     ]
    },
    {
     "name": "stderr",
     "output_type": "stream",
     "text": [
      "/home/yiyangsu/anaconda3/lib/python3.6/site-packages/statsmodels/base/model.py:488: HessianInversionWarning: Inverting hessian failed, no bse or cov_params available\n",
      "  'available', HessianInversionWarning)\n"
     ]
    },
    {
     "name": "stdout",
     "output_type": "stream",
     "text": [
      "[2.0124984]\n"
     ]
    },
    {
     "name": "stderr",
     "output_type": "stream",
     "text": [
      "/home/yiyangsu/anaconda3/lib/python3.6/site-packages/statsmodels/base/model.py:488: HessianInversionWarning: Inverting hessian failed, no bse or cov_params available\n",
      "  'available', HessianInversionWarning)\n"
     ]
    },
    {
     "name": "stdout",
     "output_type": "stream",
     "text": [
      "[2.0329874]\n"
     ]
    },
    {
     "name": "stderr",
     "output_type": "stream",
     "text": [
      "/home/yiyangsu/anaconda3/lib/python3.6/site-packages/statsmodels/base/model.py:488: HessianInversionWarning: Inverting hessian failed, no bse or cov_params available\n",
      "  'available', HessianInversionWarning)\n"
     ]
    },
    {
     "name": "stdout",
     "output_type": "stream",
     "text": [
      "[2.04971824]\n"
     ]
    },
    {
     "name": "stderr",
     "output_type": "stream",
     "text": [
      "/home/yiyangsu/anaconda3/lib/python3.6/site-packages/statsmodels/base/model.py:488: HessianInversionWarning: Inverting hessian failed, no bse or cov_params available\n",
      "  'available', HessianInversionWarning)\n"
     ]
    },
    {
     "name": "stdout",
     "output_type": "stream",
     "text": [
      "[2.04633568]\n"
     ]
    },
    {
     "name": "stderr",
     "output_type": "stream",
     "text": [
      "/home/yiyangsu/anaconda3/lib/python3.6/site-packages/statsmodels/base/model.py:488: HessianInversionWarning: Inverting hessian failed, no bse or cov_params available\n",
      "  'available', HessianInversionWarning)\n"
     ]
    },
    {
     "name": "stdout",
     "output_type": "stream",
     "text": [
      "[2.43039809]\n"
     ]
    },
    {
     "name": "stderr",
     "output_type": "stream",
     "text": [
      "/home/yiyangsu/anaconda3/lib/python3.6/site-packages/statsmodels/base/model.py:488: HessianInversionWarning: Inverting hessian failed, no bse or cov_params available\n",
      "  'available', HessianInversionWarning)\n"
     ]
    },
    {
     "name": "stdout",
     "output_type": "stream",
     "text": [
      "[2.62281329]\n"
     ]
    },
    {
     "name": "stderr",
     "output_type": "stream",
     "text": [
      "/home/yiyangsu/anaconda3/lib/python3.6/site-packages/statsmodels/base/model.py:488: HessianInversionWarning: Inverting hessian failed, no bse or cov_params available\n",
      "  'available', HessianInversionWarning)\n"
     ]
    },
    {
     "name": "stdout",
     "output_type": "stream",
     "text": [
      "[2.81741131]\n"
     ]
    },
    {
     "name": "stderr",
     "output_type": "stream",
     "text": [
      "/home/yiyangsu/anaconda3/lib/python3.6/site-packages/statsmodels/base/model.py:488: HessianInversionWarning: Inverting hessian failed, no bse or cov_params available\n",
      "  'available', HessianInversionWarning)\n"
     ]
    },
    {
     "name": "stdout",
     "output_type": "stream",
     "text": [
      "[3.00926524]\n"
     ]
    },
    {
     "name": "stderr",
     "output_type": "stream",
     "text": [
      "/home/yiyangsu/anaconda3/lib/python3.6/site-packages/statsmodels/base/model.py:488: HessianInversionWarning: Inverting hessian failed, no bse or cov_params available\n",
      "  'available', HessianInversionWarning)\n"
     ]
    },
    {
     "name": "stdout",
     "output_type": "stream",
     "text": [
      "[3.20384969]\n"
     ]
    },
    {
     "name": "stderr",
     "output_type": "stream",
     "text": [
      "/home/yiyangsu/anaconda3/lib/python3.6/site-packages/statsmodels/base/model.py:488: HessianInversionWarning: Inverting hessian failed, no bse or cov_params available\n",
      "  'available', HessianInversionWarning)\n"
     ]
    },
    {
     "name": "stdout",
     "output_type": "stream",
     "text": [
      "[3.39477671]\n"
     ]
    },
    {
     "name": "stderr",
     "output_type": "stream",
     "text": [
      "/home/yiyangsu/anaconda3/lib/python3.6/site-packages/statsmodels/base/model.py:488: HessianInversionWarning: Inverting hessian failed, no bse or cov_params available\n",
      "  'available', HessianInversionWarning)\n"
     ]
    },
    {
     "name": "stdout",
     "output_type": "stream",
     "text": [
      "[3.47932696]\n"
     ]
    },
    {
     "name": "stderr",
     "output_type": "stream",
     "text": [
      "/home/yiyangsu/anaconda3/lib/python3.6/site-packages/statsmodels/base/model.py:488: HessianInversionWarning: Inverting hessian failed, no bse or cov_params available\n",
      "  'available', HessianInversionWarning)\n"
     ]
    },
    {
     "name": "stdout",
     "output_type": "stream",
     "text": [
      "[3.90509481]\n"
     ]
    },
    {
     "name": "stderr",
     "output_type": "stream",
     "text": [
      "/home/yiyangsu/anaconda3/lib/python3.6/site-packages/statsmodels/base/model.py:488: HessianInversionWarning: Inverting hessian failed, no bse or cov_params available\n",
      "  'available', HessianInversionWarning)\n"
     ]
    },
    {
     "name": "stdout",
     "output_type": "stream",
     "text": [
      "[4.16322079]\n"
     ]
    },
    {
     "name": "stderr",
     "output_type": "stream",
     "text": [
      "/home/yiyangsu/anaconda3/lib/python3.6/site-packages/statsmodels/base/model.py:488: HessianInversionWarning: Inverting hessian failed, no bse or cov_params available\n",
      "  'available', HessianInversionWarning)\n"
     ]
    },
    {
     "name": "stdout",
     "output_type": "stream",
     "text": [
      "[4.4234698]\n",
      "[4.6810598]\n"
     ]
    },
    {
     "name": "stderr",
     "output_type": "stream",
     "text": [
      "/home/yiyangsu/anaconda3/lib/python3.6/site-packages/statsmodels/base/model.py:488: HessianInversionWarning: Inverting hessian failed, no bse or cov_params available\n",
      "  'available', HessianInversionWarning)\n"
     ]
    },
    {
     "name": "stdout",
     "output_type": "stream",
     "text": [
      "[4.94131078]\n"
     ]
    },
    {
     "name": "stderr",
     "output_type": "stream",
     "text": [
      "/home/yiyangsu/anaconda3/lib/python3.6/site-packages/statsmodels/base/model.py:488: HessianInversionWarning: Inverting hessian failed, no bse or cov_params available\n",
      "  'available', HessianInversionWarning)\n"
     ]
    },
    {
     "name": "stdout",
     "output_type": "stream",
     "text": [
      "[5.19795381]\n",
      "[5.27345078]\n"
     ]
    },
    {
     "name": "stderr",
     "output_type": "stream",
     "text": [
      "/home/yiyangsu/anaconda3/lib/python3.6/site-packages/statsmodels/base/model.py:488: HessianInversionWarning: Inverting hessian failed, no bse or cov_params available\n",
      "  'available', HessianInversionWarning)\n"
     ]
    },
    {
     "name": "stdout",
     "output_type": "stream",
     "text": [
      "[5.86794388]\n"
     ]
    },
    {
     "name": "stderr",
     "output_type": "stream",
     "text": [
      "/home/yiyangsu/anaconda3/lib/python3.6/site-packages/statsmodels/base/model.py:488: HessianInversionWarning: Inverting hessian failed, no bse or cov_params available\n",
      "  'available', HessianInversionWarning)\n"
     ]
    },
    {
     "name": "stdout",
     "output_type": "stream",
     "text": [
      "[6.20596364]\n"
     ]
    },
    {
     "name": "stderr",
     "output_type": "stream",
     "text": [
      "/home/yiyangsu/anaconda3/lib/python3.6/site-packages/statsmodels/base/model.py:488: HessianInversionWarning: Inverting hessian failed, no bse or cov_params available\n",
      "  'available', HessianInversionWarning)\n"
     ]
    },
    {
     "name": "stdout",
     "output_type": "stream",
     "text": [
      "[6.54602103]\n"
     ]
    },
    {
     "name": "stderr",
     "output_type": "stream",
     "text": [
      "/home/yiyangsu/anaconda3/lib/python3.6/site-packages/statsmodels/base/model.py:488: HessianInversionWarning: Inverting hessian failed, no bse or cov_params available\n",
      "  'available', HessianInversionWarning)\n"
     ]
    },
    {
     "name": "stdout",
     "output_type": "stream",
     "text": [
      "[6.88351573]\n"
     ]
    },
    {
     "name": "stderr",
     "output_type": "stream",
     "text": [
      "/home/yiyangsu/anaconda3/lib/python3.6/site-packages/statsmodels/base/model.py:488: HessianInversionWarning: Inverting hessian failed, no bse or cov_params available\n",
      "  'available', HessianInversionWarning)\n"
     ]
    },
    {
     "name": "stdout",
     "output_type": "stream",
     "text": [
      "[7.22364241]\n"
     ]
    },
    {
     "name": "stderr",
     "output_type": "stream",
     "text": [
      "/home/yiyangsu/anaconda3/lib/python3.6/site-packages/statsmodels/base/model.py:488: HessianInversionWarning: Inverting hessian failed, no bse or cov_params available\n",
      "  'available', HessianInversionWarning)\n"
     ]
    },
    {
     "name": "stdout",
     "output_type": "stream",
     "text": [
      "[7.56014668]\n"
     ]
    },
    {
     "name": "stderr",
     "output_type": "stream",
     "text": [
      "/home/yiyangsu/anaconda3/lib/python3.6/site-packages/statsmodels/base/model.py:488: HessianInversionWarning: Inverting hessian failed, no bse or cov_params available\n",
      "  'available', HessianInversionWarning)\n"
     ]
    },
    {
     "name": "stdout",
     "output_type": "stream",
     "text": [
      "[7.67469157]\n"
     ]
    },
    {
     "name": "stderr",
     "output_type": "stream",
     "text": [
      "/home/yiyangsu/anaconda3/lib/python3.6/site-packages/statsmodels/base/model.py:488: HessianInversionWarning: Inverting hessian failed, no bse or cov_params available\n",
      "  'available', HessianInversionWarning)\n"
     ]
    },
    {
     "name": "stdout",
     "output_type": "stream",
     "text": [
      "[7.58615903]\n"
     ]
    },
    {
     "name": "stderr",
     "output_type": "stream",
     "text": [
      "/home/yiyangsu/anaconda3/lib/python3.6/site-packages/statsmodels/base/model.py:488: HessianInversionWarning: Inverting hessian failed, no bse or cov_params available\n",
      "  'available', HessianInversionWarning)\n"
     ]
    },
    {
     "name": "stdout",
     "output_type": "stream",
     "text": [
      "[7.59851249]\n"
     ]
    },
    {
     "name": "stderr",
     "output_type": "stream",
     "text": [
      "/home/yiyangsu/anaconda3/lib/python3.6/site-packages/statsmodels/base/model.py:488: HessianInversionWarning: Inverting hessian failed, no bse or cov_params available\n",
      "  'available', HessianInversionWarning)\n"
     ]
    },
    {
     "name": "stdout",
     "output_type": "stream",
     "text": [
      "[7.61301254]\n",
      "[7.62487873]\n",
      "[7.63942889]\n"
     ]
    },
    {
     "name": "stderr",
     "output_type": "stream",
     "text": [
      "/home/yiyangsu/anaconda3/lib/python3.6/site-packages/statsmodels/base/model.py:488: HessianInversionWarning: Inverting hessian failed, no bse or cov_params available\n",
      "  'available', HessianInversionWarning)\n"
     ]
    },
    {
     "name": "stdout",
     "output_type": "stream",
     "text": [
      "[7.65028872]\n",
      "[7.60850683]\n"
     ]
    },
    {
     "name": "stderr",
     "output_type": "stream",
     "text": [
      "/home/yiyangsu/anaconda3/lib/python3.6/site-packages/statsmodels/base/model.py:488: HessianInversionWarning: Inverting hessian failed, no bse or cov_params available\n",
      "  'available', HessianInversionWarning)\n"
     ]
    },
    {
     "name": "stdout",
     "output_type": "stream",
     "text": [
      "[7.40625754]\n"
     ]
    },
    {
     "name": "stderr",
     "output_type": "stream",
     "text": [
      "/home/yiyangsu/anaconda3/lib/python3.6/site-packages/statsmodels/base/model.py:488: HessianInversionWarning: Inverting hessian failed, no bse or cov_params available\n",
      "  'available', HessianInversionWarning)\n"
     ]
    },
    {
     "name": "stdout",
     "output_type": "stream",
     "text": [
      "[7.28145335]\n"
     ]
    },
    {
     "name": "stderr",
     "output_type": "stream",
     "text": [
      "/home/yiyangsu/anaconda3/lib/python3.6/site-packages/statsmodels/base/model.py:488: HessianInversionWarning: Inverting hessian failed, no bse or cov_params available\n",
      "  'available', HessianInversionWarning)\n"
     ]
    },
    {
     "name": "stdout",
     "output_type": "stream",
     "text": [
      "[7.15873027]\n"
     ]
    },
    {
     "name": "stderr",
     "output_type": "stream",
     "text": [
      "/home/yiyangsu/anaconda3/lib/python3.6/site-packages/statsmodels/base/model.py:488: HessianInversionWarning: Inverting hessian failed, no bse or cov_params available\n",
      "  'available', HessianInversionWarning)\n"
     ]
    },
    {
     "name": "stdout",
     "output_type": "stream",
     "text": [
      "[7.03341843]\n"
     ]
    },
    {
     "name": "stderr",
     "output_type": "stream",
     "text": [
      "/home/yiyangsu/anaconda3/lib/python3.6/site-packages/statsmodels/base/model.py:488: HessianInversionWarning: Inverting hessian failed, no bse or cov_params available\n",
      "  'available', HessianInversionWarning)\n"
     ]
    },
    {
     "name": "stdout",
     "output_type": "stream",
     "text": [
      "[6.91075541]\n"
     ]
    },
    {
     "name": "stderr",
     "output_type": "stream",
     "text": [
      "/home/yiyangsu/anaconda3/lib/python3.6/site-packages/statsmodels/base/model.py:488: HessianInversionWarning: Inverting hessian failed, no bse or cov_params available\n",
      "  'available', HessianInversionWarning)\n"
     ]
    },
    {
     "name": "stdout",
     "output_type": "stream",
     "text": [
      "[6.78446397]\n"
     ]
    },
    {
     "name": "stderr",
     "output_type": "stream",
     "text": [
      "/home/yiyangsu/anaconda3/lib/python3.6/site-packages/statsmodels/base/model.py:488: HessianInversionWarning: Inverting hessian failed, no bse or cov_params available\n",
      "  'available', HessianInversionWarning)\n"
     ]
    },
    {
     "name": "stdout",
     "output_type": "stream",
     "text": [
      "[6.75100785]\n"
     ]
    },
    {
     "name": "stderr",
     "output_type": "stream",
     "text": [
      "/home/yiyangsu/anaconda3/lib/python3.6/site-packages/statsmodels/base/model.py:488: HessianInversionWarning: Inverting hessian failed, no bse or cov_params available\n",
      "  'available', HessianInversionWarning)\n"
     ]
    },
    {
     "name": "stdout",
     "output_type": "stream",
     "text": [
      "[6.78654828]\n"
     ]
    },
    {
     "name": "stderr",
     "output_type": "stream",
     "text": [
      "/home/yiyangsu/anaconda3/lib/python3.6/site-packages/statsmodels/base/model.py:488: HessianInversionWarning: Inverting hessian failed, no bse or cov_params available\n",
      "  'available', HessianInversionWarning)\n"
     ]
    },
    {
     "name": "stdout",
     "output_type": "stream",
     "text": [
      "[6.78750527]\n"
     ]
    },
    {
     "name": "stderr",
     "output_type": "stream",
     "text": [
      "/home/yiyangsu/anaconda3/lib/python3.6/site-packages/statsmodels/base/model.py:488: HessianInversionWarning: Inverting hessian failed, no bse or cov_params available\n",
      "  'available', HessianInversionWarning)\n"
     ]
    },
    {
     "name": "stdout",
     "output_type": "stream",
     "text": [
      "[6.79051744]\n"
     ]
    },
    {
     "name": "stderr",
     "output_type": "stream",
     "text": [
      "/home/yiyangsu/anaconda3/lib/python3.6/site-packages/statsmodels/base/model.py:488: HessianInversionWarning: Inverting hessian failed, no bse or cov_params available\n",
      "  'available', HessianInversionWarning)\n"
     ]
    },
    {
     "name": "stdout",
     "output_type": "stream",
     "text": [
      "[6.79093751]\n"
     ]
    },
    {
     "name": "stderr",
     "output_type": "stream",
     "text": [
      "/home/yiyangsu/anaconda3/lib/python3.6/site-packages/statsmodels/base/model.py:488: HessianInversionWarning: Inverting hessian failed, no bse or cov_params available\n",
      "  'available', HessianInversionWarning)\n"
     ]
    },
    {
     "name": "stdout",
     "output_type": "stream",
     "text": [
      "[6.79401306]\n"
     ]
    },
    {
     "name": "stderr",
     "output_type": "stream",
     "text": [
      "/home/yiyangsu/anaconda3/lib/python3.6/site-packages/statsmodels/base/model.py:488: HessianInversionWarning: Inverting hessian failed, no bse or cov_params available\n",
      "  'available', HessianInversionWarning)\n"
     ]
    },
    {
     "name": "stdout",
     "output_type": "stream",
     "text": [
      "[6.79345872]\n"
     ]
    },
    {
     "name": "stderr",
     "output_type": "stream",
     "text": [
      "/home/yiyangsu/anaconda3/lib/python3.6/site-packages/statsmodels/base/model.py:488: HessianInversionWarning: Inverting hessian failed, no bse or cov_params available\n",
      "  'available', HessianInversionWarning)\n"
     ]
    },
    {
     "name": "stdout",
     "output_type": "stream",
     "text": [
      "[6.81039675]\n"
     ]
    },
    {
     "name": "stderr",
     "output_type": "stream",
     "text": [
      "/home/yiyangsu/anaconda3/lib/python3.6/site-packages/statsmodels/base/model.py:488: HessianInversionWarning: Inverting hessian failed, no bse or cov_params available\n",
      "  'available', HessianInversionWarning)\n"
     ]
    },
    {
     "name": "stdout",
     "output_type": "stream",
     "text": [
      "[7.22002605]\n"
     ]
    },
    {
     "name": "stderr",
     "output_type": "stream",
     "text": [
      "/home/yiyangsu/anaconda3/lib/python3.6/site-packages/statsmodels/base/model.py:488: HessianInversionWarning: Inverting hessian failed, no bse or cov_params available\n",
      "  'available', HessianInversionWarning)\n"
     ]
    },
    {
     "name": "stdout",
     "output_type": "stream",
     "text": [
      "[7.43518944]\n"
     ]
    },
    {
     "name": "stderr",
     "output_type": "stream",
     "text": [
      "/home/yiyangsu/anaconda3/lib/python3.6/site-packages/statsmodels/base/model.py:488: HessianInversionWarning: Inverting hessian failed, no bse or cov_params available\n",
      "  'available', HessianInversionWarning)\n"
     ]
    },
    {
     "name": "stdout",
     "output_type": "stream",
     "text": [
      "[7.65234618]\n"
     ]
    },
    {
     "name": "stderr",
     "output_type": "stream",
     "text": [
      "/home/yiyangsu/anaconda3/lib/python3.6/site-packages/statsmodels/base/model.py:488: HessianInversionWarning: Inverting hessian failed, no bse or cov_params available\n",
      "  'available', HessianInversionWarning)\n"
     ]
    },
    {
     "name": "stdout",
     "output_type": "stream",
     "text": [
      "[7.86700248]\n"
     ]
    },
    {
     "name": "stderr",
     "output_type": "stream",
     "text": [
      "/home/yiyangsu/anaconda3/lib/python3.6/site-packages/statsmodels/base/model.py:488: HessianInversionWarning: Inverting hessian failed, no bse or cov_params available\n",
      "  'available', HessianInversionWarning)\n"
     ]
    },
    {
     "name": "stdout",
     "output_type": "stream",
     "text": [
      "[8.08422609]\n"
     ]
    },
    {
     "name": "stderr",
     "output_type": "stream",
     "text": [
      "/home/yiyangsu/anaconda3/lib/python3.6/site-packages/statsmodels/base/model.py:488: HessianInversionWarning: Inverting hessian failed, no bse or cov_params available\n",
      "  'available', HessianInversionWarning)\n"
     ]
    },
    {
     "name": "stdout",
     "output_type": "stream",
     "text": [
      "[8.29788348]\n"
     ]
    },
    {
     "name": "stderr",
     "output_type": "stream",
     "text": [
      "/home/yiyangsu/anaconda3/lib/python3.6/site-packages/statsmodels/base/model.py:488: HessianInversionWarning: Inverting hessian failed, no bse or cov_params available\n",
      "  'available', HessianInversionWarning)\n"
     ]
    },
    {
     "name": "stdout",
     "output_type": "stream",
     "text": [
      "[8.38543727]\n"
     ]
    },
    {
     "name": "stderr",
     "output_type": "stream",
     "text": [
      "/home/yiyangsu/anaconda3/lib/python3.6/site-packages/statsmodels/base/model.py:488: HessianInversionWarning: Inverting hessian failed, no bse or cov_params available\n",
      "  'available', HessianInversionWarning)\n"
     ]
    },
    {
     "name": "stdout",
     "output_type": "stream",
     "text": [
      "[7.81559343]\n"
     ]
    },
    {
     "name": "stderr",
     "output_type": "stream",
     "text": [
      "/home/yiyangsu/anaconda3/lib/python3.6/site-packages/statsmodels/base/model.py:488: HessianInversionWarning: Inverting hessian failed, no bse or cov_params available\n",
      "  'available', HessianInversionWarning)\n"
     ]
    },
    {
     "name": "stdout",
     "output_type": "stream",
     "text": [
      "[7.5709189]\n"
     ]
    },
    {
     "name": "stderr",
     "output_type": "stream",
     "text": [
      "/home/yiyangsu/anaconda3/lib/python3.6/site-packages/statsmodels/base/model.py:488: HessianInversionWarning: Inverting hessian failed, no bse or cov_params available\n",
      "  'available', HessianInversionWarning)\n"
     ]
    },
    {
     "name": "stdout",
     "output_type": "stream",
     "text": [
      "[7.32833792]\n"
     ]
    },
    {
     "name": "stderr",
     "output_type": "stream",
     "text": [
      "/home/yiyangsu/anaconda3/lib/python3.6/site-packages/statsmodels/base/model.py:488: HessianInversionWarning: Inverting hessian failed, no bse or cov_params available\n",
      "  'available', HessianInversionWarning)\n"
     ]
    },
    {
     "name": "stdout",
     "output_type": "stream",
     "text": [
      "[7.0831519]\n"
     ]
    },
    {
     "name": "stderr",
     "output_type": "stream",
     "text": [
      "/home/yiyangsu/anaconda3/lib/python3.6/site-packages/statsmodels/base/model.py:488: HessianInversionWarning: Inverting hessian failed, no bse or cov_params available\n",
      "  'available', HessianInversionWarning)\n"
     ]
    },
    {
     "name": "stdout",
     "output_type": "stream",
     "text": [
      "[6.84059868]\n"
     ]
    },
    {
     "name": "stderr",
     "output_type": "stream",
     "text": [
      "/home/yiyangsu/anaconda3/lib/python3.6/site-packages/statsmodels/base/model.py:488: HessianInversionWarning: Inverting hessian failed, no bse or cov_params available\n",
      "  'available', HessianInversionWarning)\n"
     ]
    },
    {
     "name": "stdout",
     "output_type": "stream",
     "text": [
      "[6.59443911]\n"
     ]
    },
    {
     "name": "stderr",
     "output_type": "stream",
     "text": [
      "/home/yiyangsu/anaconda3/lib/python3.6/site-packages/statsmodels/base/model.py:488: HessianInversionWarning: Inverting hessian failed, no bse or cov_params available\n",
      "  'available', HessianInversionWarning)\n"
     ]
    },
    {
     "name": "stdout",
     "output_type": "stream",
     "text": [
      "[6.45378413]\n"
     ]
    },
    {
     "name": "stderr",
     "output_type": "stream",
     "text": [
      "/home/yiyangsu/anaconda3/lib/python3.6/site-packages/statsmodels/base/model.py:488: HessianInversionWarning: Inverting hessian failed, no bse or cov_params available\n",
      "  'available', HessianInversionWarning)\n"
     ]
    },
    {
     "name": "stdout",
     "output_type": "stream",
     "text": [
      "[6.95716478]\n"
     ]
    },
    {
     "name": "stderr",
     "output_type": "stream",
     "text": [
      "/home/yiyangsu/anaconda3/lib/python3.6/site-packages/statsmodels/base/model.py:488: HessianInversionWarning: Inverting hessian failed, no bse or cov_params available\n",
      "  'available', HessianInversionWarning)\n"
     ]
    },
    {
     "name": "stdout",
     "output_type": "stream",
     "text": [
      "[7.13942176]\n"
     ]
    },
    {
     "name": "stderr",
     "output_type": "stream",
     "text": [
      "/home/yiyangsu/anaconda3/lib/python3.6/site-packages/statsmodels/base/model.py:488: HessianInversionWarning: Inverting hessian failed, no bse or cov_params available\n",
      "  'available', HessianInversionWarning)\n"
     ]
    },
    {
     "name": "stdout",
     "output_type": "stream",
     "text": [
      "[7.3236131]\n",
      "[7.50536206]\n"
     ]
    },
    {
     "name": "stderr",
     "output_type": "stream",
     "text": [
      "/home/yiyangsu/anaconda3/lib/python3.6/site-packages/statsmodels/base/model.py:488: HessianInversionWarning: Inverting hessian failed, no bse or cov_params available\n",
      "  'available', HessianInversionWarning)\n"
     ]
    },
    {
     "name": "stdout",
     "output_type": "stream",
     "text": [
      "[7.68961126]\n"
     ]
    },
    {
     "name": "stderr",
     "output_type": "stream",
     "text": [
      "/home/yiyangsu/anaconda3/lib/python3.6/site-packages/statsmodels/base/model.py:488: HessianInversionWarning: Inverting hessian failed, no bse or cov_params available\n",
      "  'available', HessianInversionWarning)\n"
     ]
    },
    {
     "name": "stdout",
     "output_type": "stream",
     "text": [
      "[7.87032902]\n"
     ]
    },
    {
     "name": "stderr",
     "output_type": "stream",
     "text": [
      "/home/yiyangsu/anaconda3/lib/python3.6/site-packages/statsmodels/base/model.py:488: HessianInversionWarning: Inverting hessian failed, no bse or cov_params available\n",
      "  'available', HessianInversionWarning)\n"
     ]
    },
    {
     "name": "stdout",
     "output_type": "stream",
     "text": [
      "[8.01139582]\n"
     ]
    },
    {
     "name": "stderr",
     "output_type": "stream",
     "text": [
      "/home/yiyangsu/anaconda3/lib/python3.6/site-packages/statsmodels/base/model.py:488: HessianInversionWarning: Inverting hessian failed, no bse or cov_params available\n",
      "  'available', HessianInversionWarning)\n"
     ]
    },
    {
     "name": "stdout",
     "output_type": "stream",
     "text": [
      "[8.10280056]\n"
     ]
    },
    {
     "name": "stderr",
     "output_type": "stream",
     "text": [
      "/home/yiyangsu/anaconda3/lib/python3.6/site-packages/statsmodels/base/model.py:488: HessianInversionWarning: Inverting hessian failed, no bse or cov_params available\n",
      "  'available', HessianInversionWarning)\n"
     ]
    },
    {
     "name": "stdout",
     "output_type": "stream",
     "text": [
      "[8.22092685]\n"
     ]
    },
    {
     "name": "stderr",
     "output_type": "stream",
     "text": [
      "/home/yiyangsu/anaconda3/lib/python3.6/site-packages/statsmodels/base/model.py:488: HessianInversionWarning: Inverting hessian failed, no bse or cov_params available\n",
      "  'available', HessianInversionWarning)\n"
     ]
    },
    {
     "name": "stdout",
     "output_type": "stream",
     "text": [
      "[8.34109557]\n"
     ]
    },
    {
     "name": "stderr",
     "output_type": "stream",
     "text": [
      "/home/yiyangsu/anaconda3/lib/python3.6/site-packages/statsmodels/base/model.py:488: HessianInversionWarning: Inverting hessian failed, no bse or cov_params available\n",
      "  'available', HessianInversionWarning)\n"
     ]
    },
    {
     "name": "stdout",
     "output_type": "stream",
     "text": [
      "[8.45874662]\n"
     ]
    },
    {
     "name": "stderr",
     "output_type": "stream",
     "text": [
      "/home/yiyangsu/anaconda3/lib/python3.6/site-packages/statsmodels/base/model.py:488: HessianInversionWarning: Inverting hessian failed, no bse or cov_params available\n",
      "  'available', HessianInversionWarning)\n"
     ]
    },
    {
     "name": "stdout",
     "output_type": "stream",
     "text": [
      "[8.57896196]\n"
     ]
    },
    {
     "name": "stderr",
     "output_type": "stream",
     "text": [
      "/home/yiyangsu/anaconda3/lib/python3.6/site-packages/statsmodels/base/model.py:488: HessianInversionWarning: Inverting hessian failed, no bse or cov_params available\n",
      "  'available', HessianInversionWarning)\n"
     ]
    },
    {
     "name": "stdout",
     "output_type": "stream",
     "text": [
      "[8.69558748]\n"
     ]
    },
    {
     "name": "stderr",
     "output_type": "stream",
     "text": [
      "/home/yiyangsu/anaconda3/lib/python3.6/site-packages/statsmodels/base/model.py:488: HessianInversionWarning: Inverting hessian failed, no bse or cov_params available\n",
      "  'available', HessianInversionWarning)\n"
     ]
    },
    {
     "name": "stdout",
     "output_type": "stream",
     "text": [
      "[8.688211]\n"
     ]
    },
    {
     "name": "stderr",
     "output_type": "stream",
     "text": [
      "/home/yiyangsu/anaconda3/lib/python3.6/site-packages/statsmodels/base/model.py:488: HessianInversionWarning: Inverting hessian failed, no bse or cov_params available\n",
      "  'available', HessianInversionWarning)\n"
     ]
    },
    {
     "name": "stdout",
     "output_type": "stream",
     "text": [
      "[8.64225392]\n"
     ]
    },
    {
     "name": "stderr",
     "output_type": "stream",
     "text": [
      "/home/yiyangsu/anaconda3/lib/python3.6/site-packages/statsmodels/base/model.py:488: HessianInversionWarning: Inverting hessian failed, no bse or cov_params available\n",
      "  'available', HessianInversionWarning)\n"
     ]
    },
    {
     "name": "stdout",
     "output_type": "stream",
     "text": [
      "[8.61310607]\n"
     ]
    },
    {
     "name": "stderr",
     "output_type": "stream",
     "text": [
      "/home/yiyangsu/anaconda3/lib/python3.6/site-packages/statsmodels/base/model.py:488: HessianInversionWarning: Inverting hessian failed, no bse or cov_params available\n",
      "  'available', HessianInversionWarning)\n"
     ]
    },
    {
     "name": "stdout",
     "output_type": "stream",
     "text": [
      "[8.58593609]\n"
     ]
    },
    {
     "name": "stderr",
     "output_type": "stream",
     "text": [
      "/home/yiyangsu/anaconda3/lib/python3.6/site-packages/statsmodels/base/model.py:488: HessianInversionWarning: Inverting hessian failed, no bse or cov_params available\n",
      "  'available', HessianInversionWarning)\n"
     ]
    },
    {
     "name": "stdout",
     "output_type": "stream",
     "text": [
      "[8.55627726]\n"
     ]
    },
    {
     "name": "stderr",
     "output_type": "stream",
     "text": [
      "/home/yiyangsu/anaconda3/lib/python3.6/site-packages/statsmodels/base/model.py:488: HessianInversionWarning: Inverting hessian failed, no bse or cov_params available\n",
      "  'available', HessianInversionWarning)\n"
     ]
    },
    {
     "name": "stdout",
     "output_type": "stream",
     "text": [
      "[8.52918917]\n"
     ]
    },
    {
     "name": "stderr",
     "output_type": "stream",
     "text": [
      "/home/yiyangsu/anaconda3/lib/python3.6/site-packages/statsmodels/base/model.py:488: HessianInversionWarning: Inverting hessian failed, no bse or cov_params available\n",
      "  'available', HessianInversionWarning)\n"
     ]
    },
    {
     "name": "stdout",
     "output_type": "stream",
     "text": [
      "[8.49855051]\n"
     ]
    },
    {
     "name": "stderr",
     "output_type": "stream",
     "text": [
      "/home/yiyangsu/anaconda3/lib/python3.6/site-packages/statsmodels/base/model.py:488: HessianInversionWarning: Inverting hessian failed, no bse or cov_params available\n",
      "  'available', HessianInversionWarning)\n"
     ]
    },
    {
     "name": "stdout",
     "output_type": "stream",
     "text": [
      "[8.49187561]\n"
     ]
    },
    {
     "name": "stderr",
     "output_type": "stream",
     "text": [
      "/home/yiyangsu/anaconda3/lib/python3.6/site-packages/statsmodels/base/model.py:488: HessianInversionWarning: Inverting hessian failed, no bse or cov_params available\n",
      "  'available', HessianInversionWarning)\n"
     ]
    },
    {
     "name": "stdout",
     "output_type": "stream",
     "text": [
      "[8.79713685]\n"
     ]
    },
    {
     "name": "stderr",
     "output_type": "stream",
     "text": [
      "/home/yiyangsu/anaconda3/lib/python3.6/site-packages/statsmodels/base/model.py:488: HessianInversionWarning: Inverting hessian failed, no bse or cov_params available\n",
      "  'available', HessianInversionWarning)\n"
     ]
    },
    {
     "name": "stdout",
     "output_type": "stream",
     "text": [
      "[8.94803477]\n"
     ]
    },
    {
     "name": "stderr",
     "output_type": "stream",
     "text": [
      "/home/yiyangsu/anaconda3/lib/python3.6/site-packages/statsmodels/base/model.py:488: HessianInversionWarning: Inverting hessian failed, no bse or cov_params available\n",
      "  'available', HessianInversionWarning)\n"
     ]
    },
    {
     "name": "stdout",
     "output_type": "stream",
     "text": [
      "[9.10089456]\n"
     ]
    },
    {
     "name": "stderr",
     "output_type": "stream",
     "text": [
      "/home/yiyangsu/anaconda3/lib/python3.6/site-packages/statsmodels/base/model.py:488: HessianInversionWarning: Inverting hessian failed, no bse or cov_params available\n",
      "  'available', HessianInversionWarning)\n"
     ]
    },
    {
     "name": "stdout",
     "output_type": "stream",
     "text": [
      "[9.25127196]\n"
     ]
    },
    {
     "name": "stderr",
     "output_type": "stream",
     "text": [
      "/home/yiyangsu/anaconda3/lib/python3.6/site-packages/statsmodels/base/model.py:488: HessianInversionWarning: Inverting hessian failed, no bse or cov_params available\n",
      "  'available', HessianInversionWarning)\n"
     ]
    },
    {
     "name": "stdout",
     "output_type": "stream",
     "text": [
      "[9.40421496]\n"
     ]
    },
    {
     "name": "stderr",
     "output_type": "stream",
     "text": [
      "/home/yiyangsu/anaconda3/lib/python3.6/site-packages/statsmodels/base/model.py:488: HessianInversionWarning: Inverting hessian failed, no bse or cov_params available\n",
      "  'available', HessianInversionWarning)\n"
     ]
    },
    {
     "name": "stdout",
     "output_type": "stream",
     "text": [
      "[9.55359306]\n"
     ]
    },
    {
     "name": "stderr",
     "output_type": "stream",
     "text": [
      "/home/yiyangsu/anaconda3/lib/python3.6/site-packages/statsmodels/base/model.py:488: HessianInversionWarning: Inverting hessian failed, no bse or cov_params available\n",
      "  'available', HessianInversionWarning)\n"
     ]
    },
    {
     "name": "stdout",
     "output_type": "stream",
     "text": [
      "[9.62419366]\n"
     ]
    },
    {
     "name": "stderr",
     "output_type": "stream",
     "text": [
      "/home/yiyangsu/anaconda3/lib/python3.6/site-packages/statsmodels/base/model.py:488: HessianInversionWarning: Inverting hessian failed, no bse or cov_params available\n",
      "  'available', HessianInversionWarning)\n"
     ]
    },
    {
     "name": "stdout",
     "output_type": "stream",
     "text": [
      "[11.07923015]\n"
     ]
    },
    {
     "name": "stderr",
     "output_type": "stream",
     "text": [
      "/home/yiyangsu/anaconda3/lib/python3.6/site-packages/statsmodels/base/model.py:488: HessianInversionWarning: Inverting hessian failed, no bse or cov_params available\n",
      "  'available', HessianInversionWarning)\n"
     ]
    },
    {
     "name": "stdout",
     "output_type": "stream",
     "text": [
      "[11.8499825]\n"
     ]
    },
    {
     "name": "stderr",
     "output_type": "stream",
     "text": [
      "/home/yiyangsu/anaconda3/lib/python3.6/site-packages/statsmodels/base/model.py:488: HessianInversionWarning: Inverting hessian failed, no bse or cov_params available\n",
      "  'available', HessianInversionWarning)\n"
     ]
    },
    {
     "name": "stdout",
     "output_type": "stream",
     "text": [
      "[12.6223594]\n"
     ]
    },
    {
     "name": "stderr",
     "output_type": "stream",
     "text": [
      "/home/yiyangsu/anaconda3/lib/python3.6/site-packages/statsmodels/base/model.py:488: HessianInversionWarning: Inverting hessian failed, no bse or cov_params available\n",
      "  'available', HessianInversionWarning)\n"
     ]
    },
    {
     "name": "stdout",
     "output_type": "stream",
     "text": [
      "[13.39242681]\n"
     ]
    },
    {
     "name": "stderr",
     "output_type": "stream",
     "text": [
      "/home/yiyangsu/anaconda3/lib/python3.6/site-packages/statsmodels/base/model.py:488: HessianInversionWarning: Inverting hessian failed, no bse or cov_params available\n",
      "  'available', HessianInversionWarning)\n"
     ]
    },
    {
     "name": "stdout",
     "output_type": "stream",
     "text": [
      "[14.16503091]\n"
     ]
    },
    {
     "name": "stderr",
     "output_type": "stream",
     "text": [
      "/home/yiyangsu/anaconda3/lib/python3.6/site-packages/statsmodels/base/model.py:488: HessianInversionWarning: Inverting hessian failed, no bse or cov_params available\n",
      "  'available', HessianInversionWarning)\n"
     ]
    },
    {
     "name": "stdout",
     "output_type": "stream",
     "text": [
      "[14.93424394]\n"
     ]
    },
    {
     "name": "stderr",
     "output_type": "stream",
     "text": [
      "/home/yiyangsu/anaconda3/lib/python3.6/site-packages/statsmodels/base/model.py:488: HessianInversionWarning: Inverting hessian failed, no bse or cov_params available\n",
      "  'available', HessianInversionWarning)\n"
     ]
    },
    {
     "name": "stdout",
     "output_type": "stream",
     "text": [
      "[15.23894395]\n"
     ]
    },
    {
     "name": "stderr",
     "output_type": "stream",
     "text": [
      "/home/yiyangsu/anaconda3/lib/python3.6/site-packages/statsmodels/base/model.py:488: HessianInversionWarning: Inverting hessian failed, no bse or cov_params available\n",
      "  'available', HessianInversionWarning)\n"
     ]
    },
    {
     "name": "stdout",
     "output_type": "stream",
     "text": [
      "[15.47525425]\n"
     ]
    },
    {
     "name": "stderr",
     "output_type": "stream",
     "text": [
      "/home/yiyangsu/anaconda3/lib/python3.6/site-packages/statsmodels/base/model.py:488: HessianInversionWarning: Inverting hessian failed, no bse or cov_params available\n",
      "  'available', HessianInversionWarning)\n"
     ]
    },
    {
     "name": "stdout",
     "output_type": "stream",
     "text": [
      "[15.74729439]\n"
     ]
    },
    {
     "name": "stderr",
     "output_type": "stream",
     "text": [
      "/home/yiyangsu/anaconda3/lib/python3.6/site-packages/statsmodels/base/model.py:488: HessianInversionWarning: Inverting hessian failed, no bse or cov_params available\n",
      "  'available', HessianInversionWarning)\n"
     ]
    },
    {
     "name": "stdout",
     "output_type": "stream",
     "text": [
      "[16.0216332]\n"
     ]
    },
    {
     "name": "stderr",
     "output_type": "stream",
     "text": [
      "/home/yiyangsu/anaconda3/lib/python3.6/site-packages/statsmodels/base/model.py:488: HessianInversionWarning: Inverting hessian failed, no bse or cov_params available\n",
      "  'available', HessianInversionWarning)\n"
     ]
    },
    {
     "name": "stdout",
     "output_type": "stream",
     "text": [
      "[16.29311631]\n"
     ]
    },
    {
     "name": "stderr",
     "output_type": "stream",
     "text": [
      "/home/yiyangsu/anaconda3/lib/python3.6/site-packages/statsmodels/base/model.py:488: HessianInversionWarning: Inverting hessian failed, no bse or cov_params available\n",
      "  'available', HessianInversionWarning)\n"
     ]
    },
    {
     "name": "stdout",
     "output_type": "stream",
     "text": [
      "[16.56756455]\n"
     ]
    },
    {
     "name": "stderr",
     "output_type": "stream",
     "text": [
      "/home/yiyangsu/anaconda3/lib/python3.6/site-packages/statsmodels/base/model.py:488: HessianInversionWarning: Inverting hessian failed, no bse or cov_params available\n",
      "  'available', HessianInversionWarning)\n"
     ]
    },
    {
     "name": "stdout",
     "output_type": "stream",
     "text": [
      "[16.83813013]\n"
     ]
    },
    {
     "name": "stderr",
     "output_type": "stream",
     "text": [
      "/home/yiyangsu/anaconda3/lib/python3.6/site-packages/statsmodels/base/model.py:488: HessianInversionWarning: Inverting hessian failed, no bse or cov_params available\n",
      "  'available', HessianInversionWarning)\n"
     ]
    },
    {
     "name": "stdout",
     "output_type": "stream",
     "text": [
      "[16.82913779]\n"
     ]
    },
    {
     "name": "stderr",
     "output_type": "stream",
     "text": [
      "/home/yiyangsu/anaconda3/lib/python3.6/site-packages/statsmodels/base/model.py:488: HessianInversionWarning: Inverting hessian failed, no bse or cov_params available\n",
      "  'available', HessianInversionWarning)\n"
     ]
    },
    {
     "name": "stdout",
     "output_type": "stream",
     "text": [
      "[15.82425109]\n"
     ]
    },
    {
     "name": "stderr",
     "output_type": "stream",
     "text": [
      "/home/yiyangsu/anaconda3/lib/python3.6/site-packages/statsmodels/base/model.py:488: HessianInversionWarning: Inverting hessian failed, no bse or cov_params available\n",
      "  'available', HessianInversionWarning)\n"
     ]
    },
    {
     "name": "stdout",
     "output_type": "stream",
     "text": [
      "[15.30788677]\n"
     ]
    },
    {
     "name": "stderr",
     "output_type": "stream",
     "text": [
      "/home/yiyangsu/anaconda3/lib/python3.6/site-packages/statsmodels/base/model.py:488: HessianInversionWarning: Inverting hessian failed, no bse or cov_params available\n",
      "  'available', HessianInversionWarning)\n"
     ]
    },
    {
     "name": "stdout",
     "output_type": "stream",
     "text": [
      "[14.79361272]\n",
      "[14.27642621]\n"
     ]
    },
    {
     "name": "stderr",
     "output_type": "stream",
     "text": [
      "/home/yiyangsu/anaconda3/lib/python3.6/site-packages/statsmodels/base/model.py:488: HessianInversionWarning: Inverting hessian failed, no bse or cov_params available\n",
      "  'available', HessianInversionWarning)\n"
     ]
    },
    {
     "name": "stdout",
     "output_type": "stream",
     "text": [
      "[13.7623396]\n"
     ]
    },
    {
     "name": "stderr",
     "output_type": "stream",
     "text": [
      "/home/yiyangsu/anaconda3/lib/python3.6/site-packages/statsmodels/base/model.py:488: HessianInversionWarning: Inverting hessian failed, no bse or cov_params available\n",
      "  'available', HessianInversionWarning)\n"
     ]
    },
    {
     "name": "stdout",
     "output_type": "stream",
     "text": [
      "[13.24453427]\n"
     ]
    },
    {
     "name": "stderr",
     "output_type": "stream",
     "text": [
      "/home/yiyangsu/anaconda3/lib/python3.6/site-packages/statsmodels/base/model.py:488: HessianInversionWarning: Inverting hessian failed, no bse or cov_params available\n",
      "  'available', HessianInversionWarning)\n"
     ]
    },
    {
     "name": "stdout",
     "output_type": "stream",
     "text": [
      "[13.03146878]\n"
     ]
    },
    {
     "name": "stderr",
     "output_type": "stream",
     "text": [
      "/home/yiyangsu/anaconda3/lib/python3.6/site-packages/statsmodels/base/model.py:488: HessianInversionWarning: Inverting hessian failed, no bse or cov_params available\n",
      "  'available', HessianInversionWarning)\n"
     ]
    },
    {
     "name": "stdout",
     "output_type": "stream",
     "text": [
      "[15.15905844]\n"
     ]
    },
    {
     "name": "stderr",
     "output_type": "stream",
     "text": [
      "/home/yiyangsu/anaconda3/lib/python3.6/site-packages/statsmodels/base/model.py:488: HessianInversionWarning: Inverting hessian failed, no bse or cov_params available\n",
      "  'available', HessianInversionWarning)\n"
     ]
    },
    {
     "name": "stdout",
     "output_type": "stream",
     "text": [
      "[16.12635614]\n"
     ]
    },
    {
     "name": "stderr",
     "output_type": "stream",
     "text": [
      "/home/yiyangsu/anaconda3/lib/python3.6/site-packages/statsmodels/base/model.py:488: HessianInversionWarning: Inverting hessian failed, no bse or cov_params available\n",
      "  'available', HessianInversionWarning)\n"
     ]
    },
    {
     "name": "stdout",
     "output_type": "stream",
     "text": [
      "[17.09596373]\n"
     ]
    },
    {
     "name": "stderr",
     "output_type": "stream",
     "text": [
      "/home/yiyangsu/anaconda3/lib/python3.6/site-packages/statsmodels/base/model.py:488: HessianInversionWarning: Inverting hessian failed, no bse or cov_params available\n",
      "  'available', HessianInversionWarning)\n"
     ]
    },
    {
     "name": "stdout",
     "output_type": "stream",
     "text": [
      "[18.0626509]\n"
     ]
    },
    {
     "name": "stderr",
     "output_type": "stream",
     "text": [
      "/home/yiyangsu/anaconda3/lib/python3.6/site-packages/statsmodels/base/model.py:488: HessianInversionWarning: Inverting hessian failed, no bse or cov_params available\n",
      "  'available', HessianInversionWarning)\n"
     ]
    },
    {
     "name": "stdout",
     "output_type": "stream",
     "text": [
      "[19.03235981]\n"
     ]
    },
    {
     "name": "stderr",
     "output_type": "stream",
     "text": [
      "/home/yiyangsu/anaconda3/lib/python3.6/site-packages/statsmodels/base/model.py:488: HessianInversionWarning: Inverting hessian failed, no bse or cov_params available\n",
      "  'available', HessianInversionWarning)\n"
     ]
    },
    {
     "name": "stdout",
     "output_type": "stream",
     "text": [
      "[19.99803623]\n"
     ]
    },
    {
     "name": "stderr",
     "output_type": "stream",
     "text": [
      "/home/yiyangsu/anaconda3/lib/python3.6/site-packages/statsmodels/base/model.py:488: HessianInversionWarning: Inverting hessian failed, no bse or cov_params available\n",
      "  'available', HessianInversionWarning)\n"
     ]
    },
    {
     "name": "stdout",
     "output_type": "stream",
     "text": [
      "[20.51073313]\n"
     ]
    },
    {
     "name": "stderr",
     "output_type": "stream",
     "text": [
      "/home/yiyangsu/anaconda3/lib/python3.6/site-packages/statsmodels/base/model.py:488: HessianInversionWarning: Inverting hessian failed, no bse or cov_params available\n",
      "  'available', HessianInversionWarning)\n"
     ]
    },
    {
     "name": "stdout",
     "output_type": "stream",
     "text": [
      "[20.14206122]\n"
     ]
    },
    {
     "name": "stderr",
     "output_type": "stream",
     "text": [
      "/home/yiyangsu/anaconda3/lib/python3.6/site-packages/statsmodels/base/model.py:488: HessianInversionWarning: Inverting hessian failed, no bse or cov_params available\n",
      "  'available', HessianInversionWarning)\n"
     ]
    },
    {
     "name": "stdout",
     "output_type": "stream",
     "text": [
      "[20.21383756]\n"
     ]
    },
    {
     "name": "stderr",
     "output_type": "stream",
     "text": [
      "/home/yiyangsu/anaconda3/lib/python3.6/site-packages/statsmodels/base/model.py:488: HessianInversionWarning: Inverting hessian failed, no bse or cov_params available\n",
      "  'available', HessianInversionWarning)\n"
     ]
    },
    {
     "name": "stdout",
     "output_type": "stream",
     "text": [
      "[20.28867317]\n"
     ]
    },
    {
     "name": "stderr",
     "output_type": "stream",
     "text": [
      "/home/yiyangsu/anaconda3/lib/python3.6/site-packages/statsmodels/base/model.py:488: HessianInversionWarning: Inverting hessian failed, no bse or cov_params available\n",
      "  'available', HessianInversionWarning)\n"
     ]
    },
    {
     "name": "stdout",
     "output_type": "stream",
     "text": [
      "[20.35987969]\n"
     ]
    },
    {
     "name": "stderr",
     "output_type": "stream",
     "text": [
      "/home/yiyangsu/anaconda3/lib/python3.6/site-packages/statsmodels/base/model.py:488: HessianInversionWarning: Inverting hessian failed, no bse or cov_params available\n",
      "  'available', HessianInversionWarning)\n"
     ]
    },
    {
     "name": "stdout",
     "output_type": "stream",
     "text": [
      "[20.43482823]\n"
     ]
    },
    {
     "name": "stderr",
     "output_type": "stream",
     "text": [
      "/home/yiyangsu/anaconda3/lib/python3.6/site-packages/statsmodels/base/model.py:488: HessianInversionWarning: Inverting hessian failed, no bse or cov_params available\n",
      "  'available', HessianInversionWarning)\n"
     ]
    },
    {
     "name": "stdout",
     "output_type": "stream",
     "text": [
      "[20.50517451]\n"
     ]
    },
    {
     "name": "stderr",
     "output_type": "stream",
     "text": [
      "/home/yiyangsu/anaconda3/lib/python3.6/site-packages/statsmodels/base/model.py:488: HessianInversionWarning: Inverting hessian failed, no bse or cov_params available\n",
      "  'available', HessianInversionWarning)\n"
     ]
    },
    {
     "name": "stdout",
     "output_type": "stream",
     "text": [
      "[20.32414403]\n"
     ]
    },
    {
     "name": "stderr",
     "output_type": "stream",
     "text": [
      "/home/yiyangsu/anaconda3/lib/python3.6/site-packages/statsmodels/base/model.py:488: HessianInversionWarning: Inverting hessian failed, no bse or cov_params available\n",
      "  'available', HessianInversionWarning)\n"
     ]
    },
    {
     "name": "stdout",
     "output_type": "stream",
     "text": [
      "[19.57503567]\n"
     ]
    },
    {
     "name": "stderr",
     "output_type": "stream",
     "text": [
      "/home/yiyangsu/anaconda3/lib/python3.6/site-packages/statsmodels/base/model.py:488: HessianInversionWarning: Inverting hessian failed, no bse or cov_params available\n",
      "  'available', HessianInversionWarning)\n"
     ]
    },
    {
     "name": "stdout",
     "output_type": "stream",
     "text": [
      "[19.09806623]\n"
     ]
    },
    {
     "name": "stderr",
     "output_type": "stream",
     "text": [
      "/home/yiyangsu/anaconda3/lib/python3.6/site-packages/statsmodels/base/model.py:488: HessianInversionWarning: Inverting hessian failed, no bse or cov_params available\n",
      "  'available', HessianInversionWarning)\n"
     ]
    },
    {
     "name": "stdout",
     "output_type": "stream",
     "text": [
      "[18.62372854]\n"
     ]
    },
    {
     "name": "stderr",
     "output_type": "stream",
     "text": [
      "/home/yiyangsu/anaconda3/lib/python3.6/site-packages/statsmodels/base/model.py:488: HessianInversionWarning: Inverting hessian failed, no bse or cov_params available\n",
      "  'available', HessianInversionWarning)\n"
     ]
    },
    {
     "name": "stdout",
     "output_type": "stream",
     "text": [
      "[18.14600585]\n"
     ]
    },
    {
     "name": "stderr",
     "output_type": "stream",
     "text": [
      "/home/yiyangsu/anaconda3/lib/python3.6/site-packages/statsmodels/base/model.py:488: HessianInversionWarning: Inverting hessian failed, no bse or cov_params available\n",
      "  'available', HessianInversionWarning)\n"
     ]
    },
    {
     "name": "stdout",
     "output_type": "stream",
     "text": [
      "[17.67191722]\n"
     ]
    },
    {
     "name": "stderr",
     "output_type": "stream",
     "text": [
      "/home/yiyangsu/anaconda3/lib/python3.6/site-packages/statsmodels/base/model.py:488: HessianInversionWarning: Inverting hessian failed, no bse or cov_params available\n",
      "  'available', HessianInversionWarning)\n"
     ]
    },
    {
     "name": "stdout",
     "output_type": "stream",
     "text": [
      "[17.19351391]\n"
     ]
    },
    {
     "name": "stderr",
     "output_type": "stream",
     "text": [
      "/home/yiyangsu/anaconda3/lib/python3.6/site-packages/statsmodels/base/model.py:488: HessianInversionWarning: Inverting hessian failed, no bse or cov_params available\n",
      "  'available', HessianInversionWarning)\n"
     ]
    },
    {
     "name": "stdout",
     "output_type": "stream",
     "text": [
      "[17.07404723]\n"
     ]
    },
    {
     "name": "stderr",
     "output_type": "stream",
     "text": [
      "/home/yiyangsu/anaconda3/lib/python3.6/site-packages/statsmodels/base/model.py:488: HessianInversionWarning: Inverting hessian failed, no bse or cov_params available\n",
      "  'available', HessianInversionWarning)\n"
     ]
    },
    {
     "name": "stdout",
     "output_type": "stream",
     "text": [
      "[17.18521754]\n"
     ]
    },
    {
     "name": "stderr",
     "output_type": "stream",
     "text": [
      "/home/yiyangsu/anaconda3/lib/python3.6/site-packages/statsmodels/base/model.py:488: HessianInversionWarning: Inverting hessian failed, no bse or cov_params available\n",
      "  'available', HessianInversionWarning)\n"
     ]
    },
    {
     "name": "stdout",
     "output_type": "stream",
     "text": [
      "[17.18147655]\n"
     ]
    },
    {
     "name": "stderr",
     "output_type": "stream",
     "text": [
      "/home/yiyangsu/anaconda3/lib/python3.6/site-packages/statsmodels/base/model.py:488: HessianInversionWarning: Inverting hessian failed, no bse or cov_params available\n",
      "  'available', HessianInversionWarning)\n"
     ]
    },
    {
     "name": "stdout",
     "output_type": "stream",
     "text": [
      "[17.18019202]\n"
     ]
    },
    {
     "name": "stderr",
     "output_type": "stream",
     "text": [
      "/home/yiyangsu/anaconda3/lib/python3.6/site-packages/statsmodels/base/model.py:488: HessianInversionWarning: Inverting hessian failed, no bse or cov_params available\n",
      "  'available', HessianInversionWarning)\n"
     ]
    },
    {
     "name": "stdout",
     "output_type": "stream",
     "text": [
      "[17.17573349]\n"
     ]
    },
    {
     "name": "stderr",
     "output_type": "stream",
     "text": [
      "/home/yiyangsu/anaconda3/lib/python3.6/site-packages/statsmodels/base/model.py:488: HessianInversionWarning: Inverting hessian failed, no bse or cov_params available\n",
      "  'available', HessianInversionWarning)\n"
     ]
    },
    {
     "name": "stdout",
     "output_type": "stream",
     "text": [
      "[17.17455786]\n"
     ]
    },
    {
     "name": "stderr",
     "output_type": "stream",
     "text": [
      "/home/yiyangsu/anaconda3/lib/python3.6/site-packages/statsmodels/base/model.py:488: HessianInversionWarning: Inverting hessian failed, no bse or cov_params available\n",
      "  'available', HessianInversionWarning)\n"
     ]
    },
    {
     "name": "stdout",
     "output_type": "stream",
     "text": [
      "[17.16930928]\n"
     ]
    },
    {
     "name": "stderr",
     "output_type": "stream",
     "text": [
      "/home/yiyangsu/anaconda3/lib/python3.6/site-packages/statsmodels/base/model.py:488: HessianInversionWarning: Inverting hessian failed, no bse or cov_params available\n",
      "  'available', HessianInversionWarning)\n"
     ]
    },
    {
     "name": "stdout",
     "output_type": "stream",
     "text": [
      "[17.22541789]\n"
     ]
    },
    {
     "name": "stderr",
     "output_type": "stream",
     "text": [
      "/home/yiyangsu/anaconda3/lib/python3.6/site-packages/statsmodels/base/model.py:488: HessianInversionWarning: Inverting hessian failed, no bse or cov_params available\n",
      "  'available', HessianInversionWarning)\n"
     ]
    },
    {
     "name": "stdout",
     "output_type": "stream",
     "text": [
      "[17.67764978]\n"
     ]
    },
    {
     "name": "stderr",
     "output_type": "stream",
     "text": [
      "/home/yiyangsu/anaconda3/lib/python3.6/site-packages/statsmodels/base/model.py:488: HessianInversionWarning: Inverting hessian failed, no bse or cov_params available\n",
      "  'available', HessianInversionWarning)\n"
     ]
    },
    {
     "name": "stdout",
     "output_type": "stream",
     "text": [
      "[17.93220092]\n"
     ]
    },
    {
     "name": "stderr",
     "output_type": "stream",
     "text": [
      "/home/yiyangsu/anaconda3/lib/python3.6/site-packages/statsmodels/base/model.py:488: HessianInversionWarning: Inverting hessian failed, no bse or cov_params available\n",
      "  'available', HessianInversionWarning)\n"
     ]
    },
    {
     "name": "stdout",
     "output_type": "stream",
     "text": [
      "[18.18930591]\n"
     ]
    },
    {
     "name": "stderr",
     "output_type": "stream",
     "text": [
      "/home/yiyangsu/anaconda3/lib/python3.6/site-packages/statsmodels/base/model.py:488: HessianInversionWarning: Inverting hessian failed, no bse or cov_params available\n",
      "  'available', HessianInversionWarning)\n"
     ]
    },
    {
     "name": "stdout",
     "output_type": "stream",
     "text": [
      "[18.44332836]\n"
     ]
    },
    {
     "name": "stderr",
     "output_type": "stream",
     "text": [
      "/home/yiyangsu/anaconda3/lib/python3.6/site-packages/statsmodels/base/model.py:488: HessianInversionWarning: Inverting hessian failed, no bse or cov_params available\n",
      "  'available', HessianInversionWarning)\n"
     ]
    },
    {
     "name": "stdout",
     "output_type": "stream",
     "text": [
      "[18.70050726]\n"
     ]
    },
    {
     "name": "stderr",
     "output_type": "stream",
     "text": [
      "/home/yiyangsu/anaconda3/lib/python3.6/site-packages/statsmodels/base/model.py:488: HessianInversionWarning: Inverting hessian failed, no bse or cov_params available\n",
      "  'available', HessianInversionWarning)\n"
     ]
    },
    {
     "name": "stdout",
     "output_type": "stream",
     "text": [
      "[18.95354659]\n"
     ]
    },
    {
     "name": "stderr",
     "output_type": "stream",
     "text": [
      "/home/yiyangsu/anaconda3/lib/python3.6/site-packages/statsmodels/base/model.py:488: HessianInversionWarning: Inverting hessian failed, no bse or cov_params available\n",
      "  'available', HessianInversionWarning)\n"
     ]
    },
    {
     "name": "stdout",
     "output_type": "stream",
     "text": [
      "[19.04520088]\n"
     ]
    },
    {
     "name": "stderr",
     "output_type": "stream",
     "text": [
      "/home/yiyangsu/anaconda3/lib/python3.6/site-packages/statsmodels/base/model.py:488: HessianInversionWarning: Inverting hessian failed, no bse or cov_params available\n",
      "  'available', HessianInversionWarning)\n"
     ]
    },
    {
     "name": "stdout",
     "output_type": "stream",
     "text": [
      "[17.73348992]\n"
     ]
    },
    {
     "name": "stderr",
     "output_type": "stream",
     "text": [
      "/home/yiyangsu/anaconda3/lib/python3.6/site-packages/statsmodels/base/model.py:488: HessianInversionWarning: Inverting hessian failed, no bse or cov_params available\n",
      "  'available', HessianInversionWarning)\n"
     ]
    },
    {
     "name": "stdout",
     "output_type": "stream",
     "text": [
      "[17.11434126]\n"
     ]
    },
    {
     "name": "stderr",
     "output_type": "stream",
     "text": [
      "/home/yiyangsu/anaconda3/lib/python3.6/site-packages/statsmodels/base/model.py:488: HessianInversionWarning: Inverting hessian failed, no bse or cov_params available\n",
      "  'available', HessianInversionWarning)\n"
     ]
    },
    {
     "name": "stdout",
     "output_type": "stream",
     "text": [
      "[16.49738465]\n"
     ]
    },
    {
     "name": "stderr",
     "output_type": "stream",
     "text": [
      "/home/yiyangsu/anaconda3/lib/python3.6/site-packages/statsmodels/base/model.py:488: HessianInversionWarning: Inverting hessian failed, no bse or cov_params available\n",
      "  'available', HessianInversionWarning)\n"
     ]
    },
    {
     "name": "stdout",
     "output_type": "stream",
     "text": [
      "[15.87743863]\n"
     ]
    },
    {
     "name": "stderr",
     "output_type": "stream",
     "text": [
      "/home/yiyangsu/anaconda3/lib/python3.6/site-packages/statsmodels/base/model.py:488: HessianInversionWarning: Inverting hessian failed, no bse or cov_params available\n",
      "  'available', HessianInversionWarning)\n"
     ]
    },
    {
     "name": "stdout",
     "output_type": "stream",
     "text": [
      "[15.26067349]\n",
      "[14.64009692]\n"
     ]
    },
    {
     "name": "stderr",
     "output_type": "stream",
     "text": [
      "/home/yiyangsu/anaconda3/lib/python3.6/site-packages/statsmodels/base/model.py:488: HessianInversionWarning: Inverting hessian failed, no bse or cov_params available\n",
      "  'available', HessianInversionWarning)\n"
     ]
    },
    {
     "name": "stdout",
     "output_type": "stream",
     "text": [
      "[14.34144934]\n"
     ]
    },
    {
     "name": "stderr",
     "output_type": "stream",
     "text": [
      "/home/yiyangsu/anaconda3/lib/python3.6/site-packages/statsmodels/base/model.py:488: HessianInversionWarning: Inverting hessian failed, no bse or cov_params available\n",
      "  'available', HessianInversionWarning)\n"
     ]
    },
    {
     "name": "stdout",
     "output_type": "stream",
     "text": [
      "[14.12650724]\n",
      "[13.86411762]\n"
     ]
    },
    {
     "name": "stderr",
     "output_type": "stream",
     "text": [
      "/home/yiyangsu/anaconda3/lib/python3.6/site-packages/statsmodels/base/model.py:488: HessianInversionWarning: Inverting hessian failed, no bse or cov_params available\n",
      "  'available', HessianInversionWarning)\n"
     ]
    },
    {
     "name": "stdout",
     "output_type": "stream",
     "text": [
      "[13.60409395]\n"
     ]
    },
    {
     "name": "stderr",
     "output_type": "stream",
     "text": [
      "/home/yiyangsu/anaconda3/lib/python3.6/site-packages/statsmodels/base/model.py:488: HessianInversionWarning: Inverting hessian failed, no bse or cov_params available\n",
      "  'available', HessianInversionWarning)\n"
     ]
    },
    {
     "name": "stdout",
     "output_type": "stream",
     "text": [
      "[13.34116647]\n"
     ]
    },
    {
     "name": "stderr",
     "output_type": "stream",
     "text": [
      "/home/yiyangsu/anaconda3/lib/python3.6/site-packages/statsmodels/base/model.py:488: HessianInversionWarning: Inverting hessian failed, no bse or cov_params available\n",
      "  'available', HessianInversionWarning)\n"
     ]
    },
    {
     "name": "stdout",
     "output_type": "stream",
     "text": [
      "[13.08114754]\n"
     ]
    },
    {
     "name": "stderr",
     "output_type": "stream",
     "text": [
      "/home/yiyangsu/anaconda3/lib/python3.6/site-packages/statsmodels/base/model.py:488: HessianInversionWarning: Inverting hessian failed, no bse or cov_params available\n",
      "  'available', HessianInversionWarning)\n"
     ]
    },
    {
     "name": "stdout",
     "output_type": "stream",
     "text": [
      "[12.81730325]\n"
     ]
    },
    {
     "name": "stderr",
     "output_type": "stream",
     "text": [
      "/home/yiyangsu/anaconda3/lib/python3.6/site-packages/statsmodels/base/model.py:488: HessianInversionWarning: Inverting hessian failed, no bse or cov_params available\n",
      "  'available', HessianInversionWarning)\n"
     ]
    },
    {
     "name": "stdout",
     "output_type": "stream",
     "text": [
      "[12.83818015]\n"
     ]
    },
    {
     "name": "stderr",
     "output_type": "stream",
     "text": [
      "/home/yiyangsu/anaconda3/lib/python3.6/site-packages/statsmodels/base/model.py:488: HessianInversionWarning: Inverting hessian failed, no bse or cov_params available\n",
      "  'available', HessianInversionWarning)\n"
     ]
    },
    {
     "name": "stdout",
     "output_type": "stream",
     "text": [
      "[11.72496421]\n"
     ]
    },
    {
     "name": "stderr",
     "output_type": "stream",
     "text": [
      "/home/yiyangsu/anaconda3/lib/python3.6/site-packages/statsmodels/base/model.py:488: HessianInversionWarning: Inverting hessian failed, no bse or cov_params available\n",
      "  'available', HessianInversionWarning)\n"
     ]
    },
    {
     "name": "stdout",
     "output_type": "stream",
     "text": [
      "[11.17291437]\n"
     ]
    },
    {
     "name": "stderr",
     "output_type": "stream",
     "text": [
      "/home/yiyangsu/anaconda3/lib/python3.6/site-packages/statsmodels/base/model.py:488: HessianInversionWarning: Inverting hessian failed, no bse or cov_params available\n",
      "  'available', HessianInversionWarning)\n"
     ]
    },
    {
     "name": "stdout",
     "output_type": "stream",
     "text": [
      "[10.62352756]\n"
     ]
    },
    {
     "name": "stderr",
     "output_type": "stream",
     "text": [
      "/home/yiyangsu/anaconda3/lib/python3.6/site-packages/statsmodels/base/model.py:488: HessianInversionWarning: Inverting hessian failed, no bse or cov_params available\n",
      "  'available', HessianInversionWarning)\n"
     ]
    },
    {
     "name": "stdout",
     "output_type": "stream",
     "text": [
      "[10.07100694]\n"
     ]
    },
    {
     "name": "stderr",
     "output_type": "stream",
     "text": [
      "/home/yiyangsu/anaconda3/lib/python3.6/site-packages/statsmodels/base/model.py:488: HessianInversionWarning: Inverting hessian failed, no bse or cov_params available\n",
      "  'available', HessianInversionWarning)\n"
     ]
    },
    {
     "name": "stdout",
     "output_type": "stream",
     "text": [
      "[9.52156331]\n"
     ]
    },
    {
     "name": "stderr",
     "output_type": "stream",
     "text": [
      "/home/yiyangsu/anaconda3/lib/python3.6/site-packages/statsmodels/base/model.py:488: HessianInversionWarning: Inverting hessian failed, no bse or cov_params available\n",
      "  'available', HessianInversionWarning)\n"
     ]
    },
    {
     "name": "stdout",
     "output_type": "stream",
     "text": [
      "[8.96812949]\n"
     ]
    },
    {
     "name": "stderr",
     "output_type": "stream",
     "text": [
      "/home/yiyangsu/anaconda3/lib/python3.6/site-packages/statsmodels/base/model.py:488: HessianInversionWarning: Inverting hessian failed, no bse or cov_params available\n",
      "  'available', HessianInversionWarning)\n"
     ]
    },
    {
     "name": "stdout",
     "output_type": "stream",
     "text": [
      "[8.72719502]\n"
     ]
    },
    {
     "name": "stderr",
     "output_type": "stream",
     "text": [
      "/home/yiyangsu/anaconda3/lib/python3.6/site-packages/statsmodels/base/model.py:488: HessianInversionWarning: Inverting hessian failed, no bse or cov_params available\n",
      "  'available', HessianInversionWarning)\n"
     ]
    },
    {
     "name": "stdout",
     "output_type": "stream",
     "text": [
      "[8.73129331]\n"
     ]
    },
    {
     "name": "stderr",
     "output_type": "stream",
     "text": [
      "/home/yiyangsu/anaconda3/lib/python3.6/site-packages/statsmodels/base/model.py:488: HessianInversionWarning: Inverting hessian failed, no bse or cov_params available\n",
      "  'available', HessianInversionWarning)\n"
     ]
    },
    {
     "name": "stdout",
     "output_type": "stream",
     "text": [
      "[8.60897637]\n"
     ]
    },
    {
     "name": "stderr",
     "output_type": "stream",
     "text": [
      "/home/yiyangsu/anaconda3/lib/python3.6/site-packages/statsmodels/base/model.py:488: HessianInversionWarning: Inverting hessian failed, no bse or cov_params available\n",
      "  'available', HessianInversionWarning)\n"
     ]
    },
    {
     "name": "stdout",
     "output_type": "stream",
     "text": [
      "[8.48908401]\n"
     ]
    },
    {
     "name": "stderr",
     "output_type": "stream",
     "text": [
      "/home/yiyangsu/anaconda3/lib/python3.6/site-packages/statsmodels/base/model.py:488: HessianInversionWarning: Inverting hessian failed, no bse or cov_params available\n",
      "  'available', HessianInversionWarning)\n"
     ]
    },
    {
     "name": "stdout",
     "output_type": "stream",
     "text": [
      "[8.36626104]\n"
     ]
    },
    {
     "name": "stderr",
     "output_type": "stream",
     "text": [
      "/home/yiyangsu/anaconda3/lib/python3.6/site-packages/statsmodels/base/model.py:488: HessianInversionWarning: Inverting hessian failed, no bse or cov_params available\n",
      "  'available', HessianInversionWarning)\n"
     ]
    },
    {
     "name": "stdout",
     "output_type": "stream",
     "text": [
      "[8.24642478]\n"
     ]
    },
    {
     "name": "stderr",
     "output_type": "stream",
     "text": [
      "/home/yiyangsu/anaconda3/lib/python3.6/site-packages/statsmodels/base/model.py:488: HessianInversionWarning: Inverting hessian failed, no bse or cov_params available\n",
      "  'available', HessianInversionWarning)\n"
     ]
    },
    {
     "name": "stdout",
     "output_type": "stream",
     "text": [
      "[8.12268938]\n"
     ]
    },
    {
     "name": "stderr",
     "output_type": "stream",
     "text": [
      "/home/yiyangsu/anaconda3/lib/python3.6/site-packages/statsmodels/base/model.py:488: HessianInversionWarning: Inverting hessian failed, no bse or cov_params available\n",
      "  'available', HessianInversionWarning)\n"
     ]
    },
    {
     "name": "stdout",
     "output_type": "stream",
     "text": [
      "[8.17663204]\n"
     ]
    },
    {
     "name": "stderr",
     "output_type": "stream",
     "text": [
      "/home/yiyangsu/anaconda3/lib/python3.6/site-packages/statsmodels/base/model.py:488: HessianInversionWarning: Inverting hessian failed, no bse or cov_params available\n",
      "  'available', HessianInversionWarning)\n"
     ]
    },
    {
     "name": "stdout",
     "output_type": "stream",
     "text": [
      "[8.1618834]\n"
     ]
    },
    {
     "name": "stderr",
     "output_type": "stream",
     "text": [
      "/home/yiyangsu/anaconda3/lib/python3.6/site-packages/statsmodels/base/model.py:488: HessianInversionWarning: Inverting hessian failed, no bse or cov_params available\n",
      "  'available', HessianInversionWarning)\n"
     ]
    },
    {
     "name": "stdout",
     "output_type": "stream",
     "text": [
      "[8.1826783]\n"
     ]
    },
    {
     "name": "stderr",
     "output_type": "stream",
     "text": [
      "/home/yiyangsu/anaconda3/lib/python3.6/site-packages/statsmodels/base/model.py:488: HessianInversionWarning: Inverting hessian failed, no bse or cov_params available\n",
      "  'available', HessianInversionWarning)\n"
     ]
    },
    {
     "name": "stdout",
     "output_type": "stream",
     "text": [
      "[8.20597566]\n"
     ]
    },
    {
     "name": "stderr",
     "output_type": "stream",
     "text": [
      "/home/yiyangsu/anaconda3/lib/python3.6/site-packages/statsmodels/base/model.py:488: HessianInversionWarning: Inverting hessian failed, no bse or cov_params available\n",
      "  'available', HessianInversionWarning)\n"
     ]
    },
    {
     "name": "stdout",
     "output_type": "stream",
     "text": [
      "[8.22622846]\n"
     ]
    },
    {
     "name": "stderr",
     "output_type": "stream",
     "text": [
      "/home/yiyangsu/anaconda3/lib/python3.6/site-packages/statsmodels/base/model.py:488: HessianInversionWarning: Inverting hessian failed, no bse or cov_params available\n",
      "  'available', HessianInversionWarning)\n"
     ]
    },
    {
     "name": "stdout",
     "output_type": "stream",
     "text": [
      "[8.24957524]\n"
     ]
    },
    {
     "name": "stderr",
     "output_type": "stream",
     "text": [
      "/home/yiyangsu/anaconda3/lib/python3.6/site-packages/statsmodels/base/model.py:488: HessianInversionWarning: Inverting hessian failed, no bse or cov_params available\n",
      "  'available', HessianInversionWarning)\n"
     ]
    },
    {
     "name": "stdout",
     "output_type": "stream",
     "text": [
      "[8.26894442]\n"
     ]
    },
    {
     "name": "stderr",
     "output_type": "stream",
     "text": [
      "/home/yiyangsu/anaconda3/lib/python3.6/site-packages/statsmodels/base/model.py:488: HessianInversionWarning: Inverting hessian failed, no bse or cov_params available\n",
      "  'available', HessianInversionWarning)\n"
     ]
    },
    {
     "name": "stdout",
     "output_type": "stream",
     "text": [
      "[8.25756164]\n"
     ]
    },
    {
     "name": "stderr",
     "output_type": "stream",
     "text": [
      "/home/yiyangsu/anaconda3/lib/python3.6/site-packages/statsmodels/base/model.py:488: HessianInversionWarning: Inverting hessian failed, no bse or cov_params available\n",
      "  'available', HessianInversionWarning)\n"
     ]
    },
    {
     "name": "stdout",
     "output_type": "stream",
     "text": [
      "[7.43327285]\n"
     ]
    },
    {
     "name": "stderr",
     "output_type": "stream",
     "text": [
      "/home/yiyangsu/anaconda3/lib/python3.6/site-packages/statsmodels/base/model.py:488: HessianInversionWarning: Inverting hessian failed, no bse or cov_params available\n",
      "  'available', HessianInversionWarning)\n"
     ]
    },
    {
     "name": "stdout",
     "output_type": "stream",
     "text": [
      "[7.00830543]\n"
     ]
    },
    {
     "name": "stderr",
     "output_type": "stream",
     "text": [
      "/home/yiyangsu/anaconda3/lib/python3.6/site-packages/statsmodels/base/model.py:488: HessianInversionWarning: Inverting hessian failed, no bse or cov_params available\n",
      "  'available', HessianInversionWarning)\n"
     ]
    },
    {
     "name": "stdout",
     "output_type": "stream",
     "text": [
      "[6.58592209]\n"
     ]
    },
    {
     "name": "stderr",
     "output_type": "stream",
     "text": [
      "/home/yiyangsu/anaconda3/lib/python3.6/site-packages/statsmodels/base/model.py:488: HessianInversionWarning: Inverting hessian failed, no bse or cov_params available\n",
      "  'available', HessianInversionWarning)\n"
     ]
    },
    {
     "name": "stdout",
     "output_type": "stream",
     "text": [
      "[6.16045168]\n"
     ]
    },
    {
     "name": "stderr",
     "output_type": "stream",
     "text": [
      "/home/yiyangsu/anaconda3/lib/python3.6/site-packages/statsmodels/base/model.py:488: HessianInversionWarning: Inverting hessian failed, no bse or cov_params available\n",
      "  'available', HessianInversionWarning)\n"
     ]
    },
    {
     "name": "stdout",
     "output_type": "stream",
     "text": [
      "[5.73808728]\n"
     ]
    },
    {
     "name": "stderr",
     "output_type": "stream",
     "text": [
      "/home/yiyangsu/anaconda3/lib/python3.6/site-packages/statsmodels/base/model.py:488: HessianInversionWarning: Inverting hessian failed, no bse or cov_params available\n",
      "  'available', HessianInversionWarning)\n"
     ]
    },
    {
     "name": "stdout",
     "output_type": "stream",
     "text": [
      "[5.3117259]\n"
     ]
    },
    {
     "name": "stderr",
     "output_type": "stream",
     "text": [
      "/home/yiyangsu/anaconda3/lib/python3.6/site-packages/statsmodels/base/model.py:488: HessianInversionWarning: Inverting hessian failed, no bse or cov_params available\n",
      "  'available', HessianInversionWarning)\n"
     ]
    },
    {
     "name": "stdout",
     "output_type": "stream",
     "text": [
      "[5.13708049]\n"
     ]
    },
    {
     "name": "stderr",
     "output_type": "stream",
     "text": [
      "/home/yiyangsu/anaconda3/lib/python3.6/site-packages/statsmodels/base/model.py:488: HessianInversionWarning: Inverting hessian failed, no bse or cov_params available\n",
      "  'available', HessianInversionWarning)\n"
     ]
    },
    {
     "name": "stdout",
     "output_type": "stream",
     "text": [
      "[5.46063843]\n"
     ]
    },
    {
     "name": "stderr",
     "output_type": "stream",
     "text": [
      "/home/yiyangsu/anaconda3/lib/python3.6/site-packages/statsmodels/base/model.py:488: HessianInversionWarning: Inverting hessian failed, no bse or cov_params available\n",
      "  'available', HessianInversionWarning)\n"
     ]
    },
    {
     "name": "stdout",
     "output_type": "stream",
     "text": [
      "[5.53573119]\n"
     ]
    },
    {
     "name": "stderr",
     "output_type": "stream",
     "text": [
      "/home/yiyangsu/anaconda3/lib/python3.6/site-packages/statsmodels/base/model.py:488: HessianInversionWarning: Inverting hessian failed, no bse or cov_params available\n",
      "  'available', HessianInversionWarning)\n"
     ]
    },
    {
     "name": "stdout",
     "output_type": "stream",
     "text": [
      "[5.61310542]\n"
     ]
    },
    {
     "name": "stderr",
     "output_type": "stream",
     "text": [
      "/home/yiyangsu/anaconda3/lib/python3.6/site-packages/statsmodels/base/model.py:488: HessianInversionWarning: Inverting hessian failed, no bse or cov_params available\n",
      "  'available', HessianInversionWarning)\n"
     ]
    },
    {
     "name": "stdout",
     "output_type": "stream",
     "text": [
      "[5.68759468]\n"
     ]
    },
    {
     "name": "stderr",
     "output_type": "stream",
     "text": [
      "/home/yiyangsu/anaconda3/lib/python3.6/site-packages/statsmodels/base/model.py:488: HessianInversionWarning: Inverting hessian failed, no bse or cov_params available\n",
      "  'available', HessianInversionWarning)\n"
     ]
    },
    {
     "name": "stdout",
     "output_type": "stream",
     "text": [
      "[5.76506444]\n"
     ]
    },
    {
     "name": "stderr",
     "output_type": "stream",
     "text": [
      "/home/yiyangsu/anaconda3/lib/python3.6/site-packages/statsmodels/base/model.py:488: HessianInversionWarning: Inverting hessian failed, no bse or cov_params available\n",
      "  'available', HessianInversionWarning)\n"
     ]
    },
    {
     "name": "stdout",
     "output_type": "stream",
     "text": [
      "[5.83865619]\n"
     ]
    },
    {
     "name": "stderr",
     "output_type": "stream",
     "text": [
      "/home/yiyangsu/anaconda3/lib/python3.6/site-packages/statsmodels/base/model.py:488: HessianInversionWarning: Inverting hessian failed, no bse or cov_params available\n",
      "  'available', HessianInversionWarning)\n"
     ]
    },
    {
     "name": "stdout",
     "output_type": "stream",
     "text": [
      "[5.94732305]\n"
     ]
    },
    {
     "name": "stderr",
     "output_type": "stream",
     "text": [
      "/home/yiyangsu/anaconda3/lib/python3.6/site-packages/statsmodels/base/model.py:488: HessianInversionWarning: Inverting hessian failed, no bse or cov_params available\n",
      "  'available', HessianInversionWarning)\n"
     ]
    },
    {
     "name": "stdout",
     "output_type": "stream",
     "text": [
      "[5.62812453]\n"
     ]
    },
    {
     "name": "stderr",
     "output_type": "stream",
     "text": [
      "/home/yiyangsu/anaconda3/lib/python3.6/site-packages/statsmodels/base/model.py:488: HessianInversionWarning: Inverting hessian failed, no bse or cov_params available\n",
      "  'available', HessianInversionWarning)\n"
     ]
    },
    {
     "name": "stdout",
     "output_type": "stream",
     "text": [
      "[5.52184709]\n"
     ]
    },
    {
     "name": "stderr",
     "output_type": "stream",
     "text": [
      "/home/yiyangsu/anaconda3/lib/python3.6/site-packages/statsmodels/base/model.py:488: HessianInversionWarning: Inverting hessian failed, no bse or cov_params available\n",
      "  'available', HessianInversionWarning)\n"
     ]
    },
    {
     "name": "stdout",
     "output_type": "stream",
     "text": [
      "[5.41812516]\n"
     ]
    },
    {
     "name": "stderr",
     "output_type": "stream",
     "text": [
      "/home/yiyangsu/anaconda3/lib/python3.6/site-packages/statsmodels/base/model.py:488: HessianInversionWarning: Inverting hessian failed, no bse or cov_params available\n",
      "  'available', HessianInversionWarning)\n"
     ]
    },
    {
     "name": "stdout",
     "output_type": "stream",
     "text": [
      "[5.31132193]\n"
     ]
    },
    {
     "name": "stderr",
     "output_type": "stream",
     "text": [
      "/home/yiyangsu/anaconda3/lib/python3.6/site-packages/statsmodels/base/model.py:488: HessianInversionWarning: Inverting hessian failed, no bse or cov_params available\n",
      "  'available', HessianInversionWarning)\n"
     ]
    },
    {
     "name": "stdout",
     "output_type": "stream",
     "text": [
      "[5.20759608]\n"
     ]
    },
    {
     "name": "stderr",
     "output_type": "stream",
     "text": [
      "/home/yiyangsu/anaconda3/lib/python3.6/site-packages/statsmodels/base/model.py:488: HessianInversionWarning: Inverting hessian failed, no bse or cov_params available\n",
      "  'available', HessianInversionWarning)\n"
     ]
    },
    {
     "name": "stdout",
     "output_type": "stream",
     "text": [
      "[5.09993991]\n"
     ]
    },
    {
     "name": "stderr",
     "output_type": "stream",
     "text": [
      "/home/yiyangsu/anaconda3/lib/python3.6/site-packages/statsmodels/base/model.py:488: HessianInversionWarning: Inverting hessian failed, no bse or cov_params available\n",
      "  'available', HessianInversionWarning)\n"
     ]
    },
    {
     "name": "stdout",
     "output_type": "stream",
     "text": [
      "[5.0097304]\n"
     ]
    },
    {
     "name": "stderr",
     "output_type": "stream",
     "text": [
      "/home/yiyangsu/anaconda3/lib/python3.6/site-packages/statsmodels/base/model.py:488: HessianInversionWarning: Inverting hessian failed, no bse or cov_params available\n",
      "  'available', HessianInversionWarning)\n"
     ]
    },
    {
     "name": "stdout",
     "output_type": "stream",
     "text": [
      "[4.76325675]\n"
     ]
    },
    {
     "name": "stderr",
     "output_type": "stream",
     "text": [
      "/home/yiyangsu/anaconda3/lib/python3.6/site-packages/statsmodels/base/model.py:488: HessianInversionWarning: Inverting hessian failed, no bse or cov_params available\n",
      "  'available', HessianInversionWarning)\n"
     ]
    },
    {
     "name": "stdout",
     "output_type": "stream",
     "text": [
      "[4.5911652]\n"
     ]
    },
    {
     "name": "stderr",
     "output_type": "stream",
     "text": [
      "/home/yiyangsu/anaconda3/lib/python3.6/site-packages/statsmodels/base/model.py:488: HessianInversionWarning: Inverting hessian failed, no bse or cov_params available\n",
      "  'available', HessianInversionWarning)\n"
     ]
    },
    {
     "name": "stdout",
     "output_type": "stream",
     "text": [
      "[4.42162149]\n"
     ]
    },
    {
     "name": "stderr",
     "output_type": "stream",
     "text": [
      "/home/yiyangsu/anaconda3/lib/python3.6/site-packages/statsmodels/base/model.py:488: HessianInversionWarning: Inverting hessian failed, no bse or cov_params available\n",
      "  'available', HessianInversionWarning)\n"
     ]
    },
    {
     "name": "stdout",
     "output_type": "stream",
     "text": [
      "[4.24899552]\n"
     ]
    },
    {
     "name": "stderr",
     "output_type": "stream",
     "text": [
      "/home/yiyangsu/anaconda3/lib/python3.6/site-packages/statsmodels/base/model.py:488: HessianInversionWarning: Inverting hessian failed, no bse or cov_params available\n",
      "  'available', HessianInversionWarning)\n"
     ]
    },
    {
     "name": "stdout",
     "output_type": "stream",
     "text": [
      "[4.07939915]\n",
      "[3.90594071]\n"
     ]
    },
    {
     "name": "stderr",
     "output_type": "stream",
     "text": [
      "/home/yiyangsu/anaconda3/lib/python3.6/site-packages/statsmodels/base/model.py:488: HessianInversionWarning: Inverting hessian failed, no bse or cov_params available\n",
      "  'available', HessianInversionWarning)\n"
     ]
    },
    {
     "name": "stdout",
     "output_type": "stream",
     "text": [
      "[3.87231058]\n"
     ]
    },
    {
     "name": "stderr",
     "output_type": "stream",
     "text": [
      "/home/yiyangsu/anaconda3/lib/python3.6/site-packages/statsmodels/base/model.py:488: HessianInversionWarning: Inverting hessian failed, no bse or cov_params available\n",
      "  'available', HessianInversionWarning)\n"
     ]
    },
    {
     "name": "stdout",
     "output_type": "stream",
     "text": [
      "[3.57914051]\n"
     ]
    },
    {
     "name": "stderr",
     "output_type": "stream",
     "text": [
      "/home/yiyangsu/anaconda3/lib/python3.6/site-packages/statsmodels/base/model.py:488: HessianInversionWarning: Inverting hessian failed, no bse or cov_params available\n",
      "  'available', HessianInversionWarning)\n"
     ]
    },
    {
     "name": "stdout",
     "output_type": "stream",
     "text": [
      "[3.41435399]\n"
     ]
    },
    {
     "name": "stderr",
     "output_type": "stream",
     "text": [
      "/home/yiyangsu/anaconda3/lib/python3.6/site-packages/statsmodels/base/model.py:488: HessianInversionWarning: Inverting hessian failed, no bse or cov_params available\n",
      "  'available', HessianInversionWarning)\n"
     ]
    },
    {
     "name": "stdout",
     "output_type": "stream",
     "text": [
      "[3.25210033]\n"
     ]
    },
    {
     "name": "stderr",
     "output_type": "stream",
     "text": [
      "/home/yiyangsu/anaconda3/lib/python3.6/site-packages/statsmodels/base/model.py:488: HessianInversionWarning: Inverting hessian failed, no bse or cov_params available\n",
      "  'available', HessianInversionWarning)\n"
     ]
    },
    {
     "name": "stdout",
     "output_type": "stream",
     "text": [
      "[3.08679681]\n"
     ]
    },
    {
     "name": "stderr",
     "output_type": "stream",
     "text": [
      "/home/yiyangsu/anaconda3/lib/python3.6/site-packages/statsmodels/base/model.py:488: HessianInversionWarning: Inverting hessian failed, no bse or cov_params available\n",
      "  'available', HessianInversionWarning)\n"
     ]
    },
    {
     "name": "stdout",
     "output_type": "stream",
     "text": [
      "[2.92452157]\n"
     ]
    },
    {
     "name": "stderr",
     "output_type": "stream",
     "text": [
      "/home/yiyangsu/anaconda3/lib/python3.6/site-packages/statsmodels/base/model.py:488: HessianInversionWarning: Inverting hessian failed, no bse or cov_params available\n",
      "  'available', HessianInversionWarning)\n"
     ]
    },
    {
     "name": "stdout",
     "output_type": "stream",
     "text": [
      "[2.75835003]\n"
     ]
    },
    {
     "name": "stderr",
     "output_type": "stream",
     "text": [
      "/home/yiyangsu/anaconda3/lib/python3.6/site-packages/statsmodels/base/model.py:488: HessianInversionWarning: Inverting hessian failed, no bse or cov_params available\n",
      "  'available', HessianInversionWarning)\n"
     ]
    },
    {
     "name": "stdout",
     "output_type": "stream",
     "text": [
      "[2.70318068]\n"
     ]
    },
    {
     "name": "stderr",
     "output_type": "stream",
     "text": [
      "/home/yiyangsu/anaconda3/lib/python3.6/site-packages/statsmodels/base/model.py:488: HessianInversionWarning: Inverting hessian failed, no bse or cov_params available\n",
      "  'available', HessianInversionWarning)\n"
     ]
    },
    {
     "name": "stdout",
     "output_type": "stream",
     "text": [
      "[2.8036445]\n"
     ]
    },
    {
     "name": "stderr",
     "output_type": "stream",
     "text": [
      "/home/yiyangsu/anaconda3/lib/python3.6/site-packages/statsmodels/base/model.py:488: HessianInversionWarning: Inverting hessian failed, no bse or cov_params available\n",
      "  'available', HessianInversionWarning)\n"
     ]
    },
    {
     "name": "stdout",
     "output_type": "stream",
     "text": [
      "[2.82587035]\n"
     ]
    },
    {
     "name": "stderr",
     "output_type": "stream",
     "text": [
      "/home/yiyangsu/anaconda3/lib/python3.6/site-packages/statsmodels/base/model.py:488: HessianInversionWarning: Inverting hessian failed, no bse or cov_params available\n",
      "  'available', HessianInversionWarning)\n"
     ]
    },
    {
     "name": "stdout",
     "output_type": "stream",
     "text": [
      "[2.85063044]\n"
     ]
    },
    {
     "name": "stderr",
     "output_type": "stream",
     "text": [
      "/home/yiyangsu/anaconda3/lib/python3.6/site-packages/statsmodels/base/model.py:488: HessianInversionWarning: Inverting hessian failed, no bse or cov_params available\n",
      "  'available', HessianInversionWarning)\n"
     ]
    },
    {
     "name": "stdout",
     "output_type": "stream",
     "text": [
      "[2.87235368]\n"
     ]
    },
    {
     "name": "stderr",
     "output_type": "stream",
     "text": [
      "/home/yiyangsu/anaconda3/lib/python3.6/site-packages/statsmodels/base/model.py:488: HessianInversionWarning: Inverting hessian failed, no bse or cov_params available\n",
      "  'available', HessianInversionWarning)\n"
     ]
    },
    {
     "name": "stdout",
     "output_type": "stream",
     "text": [
      "[2.89706038]\n"
     ]
    },
    {
     "name": "stderr",
     "output_type": "stream",
     "text": [
      "/home/yiyangsu/anaconda3/lib/python3.6/site-packages/statsmodels/base/model.py:488: HessianInversionWarning: Inverting hessian failed, no bse or cov_params available\n",
      "  'available', HessianInversionWarning)\n"
     ]
    },
    {
     "name": "stdout",
     "output_type": "stream",
     "text": [
      "[2.91791997]\n"
     ]
    },
    {
     "name": "stderr",
     "output_type": "stream",
     "text": [
      "/home/yiyangsu/anaconda3/lib/python3.6/site-packages/statsmodels/base/model.py:488: HessianInversionWarning: Inverting hessian failed, no bse or cov_params available\n",
      "  'available', HessianInversionWarning)\n"
     ]
    },
    {
     "name": "stdout",
     "output_type": "stream",
     "text": [
      "[2.95169293]\n"
     ]
    },
    {
     "name": "stderr",
     "output_type": "stream",
     "text": [
      "/home/yiyangsu/anaconda3/lib/python3.6/site-packages/statsmodels/base/model.py:488: HessianInversionWarning: Inverting hessian failed, no bse or cov_params available\n",
      "  'available', HessianInversionWarning)\n"
     ]
    },
    {
     "name": "stdout",
     "output_type": "stream",
     "text": [
      "[2.93920166]\n"
     ]
    },
    {
     "name": "stderr",
     "output_type": "stream",
     "text": [
      "/home/yiyangsu/anaconda3/lib/python3.6/site-packages/statsmodels/base/model.py:488: HessianInversionWarning: Inverting hessian failed, no bse or cov_params available\n",
      "  'available', HessianInversionWarning)\n"
     ]
    },
    {
     "name": "stdout",
     "output_type": "stream",
     "text": [
      "[2.95010492]\n"
     ]
    },
    {
     "name": "stderr",
     "output_type": "stream",
     "text": [
      "/home/yiyangsu/anaconda3/lib/python3.6/site-packages/statsmodels/base/model.py:488: HessianInversionWarning: Inverting hessian failed, no bse or cov_params available\n",
      "  'available', HessianInversionWarning)\n"
     ]
    },
    {
     "name": "stdout",
     "output_type": "stream",
     "text": [
      "[2.96353431]\n"
     ]
    },
    {
     "name": "stderr",
     "output_type": "stream",
     "text": [
      "/home/yiyangsu/anaconda3/lib/python3.6/site-packages/statsmodels/base/model.py:488: HessianInversionWarning: Inverting hessian failed, no bse or cov_params available\n",
      "  'available', HessianInversionWarning)\n"
     ]
    },
    {
     "name": "stdout",
     "output_type": "stream",
     "text": [
      "[2.97389155]\n"
     ]
    },
    {
     "name": "stderr",
     "output_type": "stream",
     "text": [
      "/home/yiyangsu/anaconda3/lib/python3.6/site-packages/statsmodels/base/model.py:488: HessianInversionWarning: Inverting hessian failed, no bse or cov_params available\n",
      "  'available', HessianInversionWarning)\n"
     ]
    },
    {
     "name": "stdout",
     "output_type": "stream",
     "text": [
      "[2.98729793]\n"
     ]
    },
    {
     "name": "stderr",
     "output_type": "stream",
     "text": [
      "/home/yiyangsu/anaconda3/lib/python3.6/site-packages/statsmodels/base/model.py:488: HessianInversionWarning: Inverting hessian failed, no bse or cov_params available\n",
      "  'available', HessianInversionWarning)\n"
     ]
    },
    {
     "name": "stdout",
     "output_type": "stream",
     "text": [
      "[2.99680163]\n"
     ]
    },
    {
     "name": "stderr",
     "output_type": "stream",
     "text": [
      "/home/yiyangsu/anaconda3/lib/python3.6/site-packages/statsmodels/base/model.py:488: HessianInversionWarning: Inverting hessian failed, no bse or cov_params available\n",
      "  'available', HessianInversionWarning)\n"
     ]
    },
    {
     "name": "stdout",
     "output_type": "stream",
     "text": [
      "[2.98758693]\n"
     ]
    },
    {
     "name": "stderr",
     "output_type": "stream",
     "text": [
      "/home/yiyangsu/anaconda3/lib/python3.6/site-packages/statsmodels/base/model.py:488: HessianInversionWarning: Inverting hessian failed, no bse or cov_params available\n",
      "  'available', HessianInversionWarning)\n"
     ]
    },
    {
     "name": "stdout",
     "output_type": "stream",
     "text": [
      "[2.88142964]\n",
      "[2.82228638]\n"
     ]
    },
    {
     "name": "stderr",
     "output_type": "stream",
     "text": [
      "/home/yiyangsu/anaconda3/lib/python3.6/site-packages/statsmodels/base/model.py:488: HessianInversionWarning: Inverting hessian failed, no bse or cov_params available\n",
      "  'available', HessianInversionWarning)\n"
     ]
    },
    {
     "name": "stdout",
     "output_type": "stream",
     "text": [
      "[2.76568365]\n"
     ]
    },
    {
     "name": "stderr",
     "output_type": "stream",
     "text": [
      "/home/yiyangsu/anaconda3/lib/python3.6/site-packages/statsmodels/base/model.py:488: HessianInversionWarning: Inverting hessian failed, no bse or cov_params available\n",
      "  'available', HessianInversionWarning)\n"
     ]
    },
    {
     "name": "stdout",
     "output_type": "stream",
     "text": [
      "[2.70598282]\n"
     ]
    },
    {
     "name": "stderr",
     "output_type": "stream",
     "text": [
      "/home/yiyangsu/anaconda3/lib/python3.6/site-packages/statsmodels/base/model.py:488: HessianInversionWarning: Inverting hessian failed, no bse or cov_params available\n",
      "  'available', HessianInversionWarning)\n"
     ]
    },
    {
     "name": "stdout",
     "output_type": "stream",
     "text": [
      "[2.6493499]\n"
     ]
    },
    {
     "name": "stderr",
     "output_type": "stream",
     "text": [
      "/home/yiyangsu/anaconda3/lib/python3.6/site-packages/statsmodels/base/model.py:488: HessianInversionWarning: Inverting hessian failed, no bse or cov_params available\n",
      "  'available', HessianInversionWarning)\n"
     ]
    },
    {
     "name": "stdout",
     "output_type": "stream",
     "text": [
      "[2.58881935]\n"
     ]
    },
    {
     "name": "stderr",
     "output_type": "stream",
     "text": [
      "/home/yiyangsu/anaconda3/lib/python3.6/site-packages/statsmodels/base/model.py:488: HessianInversionWarning: Inverting hessian failed, no bse or cov_params available\n",
      "  'available', HessianInversionWarning)\n"
     ]
    },
    {
     "name": "stdout",
     "output_type": "stream",
     "text": [
      "[2.56802994]\n"
     ]
    },
    {
     "name": "stderr",
     "output_type": "stream",
     "text": [
      "/home/yiyangsu/anaconda3/lib/python3.6/site-packages/statsmodels/base/model.py:488: HessianInversionWarning: Inverting hessian failed, no bse or cov_params available\n",
      "  'available', HessianInversionWarning)\n"
     ]
    },
    {
     "name": "stdout",
     "output_type": "stream",
     "text": [
      "[2.7489113]\n"
     ]
    },
    {
     "name": "stderr",
     "output_type": "stream",
     "text": [
      "/home/yiyangsu/anaconda3/lib/python3.6/site-packages/statsmodels/base/model.py:488: HessianInversionWarning: Inverting hessian failed, no bse or cov_params available\n",
      "  'available', HessianInversionWarning)\n"
     ]
    },
    {
     "name": "stdout",
     "output_type": "stream",
     "text": [
      "[2.8297715]\n"
     ]
    },
    {
     "name": "stderr",
     "output_type": "stream",
     "text": [
      "/home/yiyangsu/anaconda3/lib/python3.6/site-packages/statsmodels/base/model.py:488: HessianInversionWarning: Inverting hessian failed, no bse or cov_params available\n",
      "  'available', HessianInversionWarning)\n"
     ]
    },
    {
     "name": "stdout",
     "output_type": "stream",
     "text": [
      "[2.91312403]\n"
     ]
    },
    {
     "name": "stderr",
     "output_type": "stream",
     "text": [
      "/home/yiyangsu/anaconda3/lib/python3.6/site-packages/statsmodels/base/model.py:488: HessianInversionWarning: Inverting hessian failed, no bse or cov_params available\n",
      "  'available', HessianInversionWarning)\n"
     ]
    },
    {
     "name": "stdout",
     "output_type": "stream",
     "text": [
      "[2.99341467]\n"
     ]
    },
    {
     "name": "stderr",
     "output_type": "stream",
     "text": [
      "/home/yiyangsu/anaconda3/lib/python3.6/site-packages/statsmodels/base/model.py:488: HessianInversionWarning: Inverting hessian failed, no bse or cov_params available\n",
      "  'available', HessianInversionWarning)\n"
     ]
    },
    {
     "name": "stdout",
     "output_type": "stream",
     "text": [
      "[3.07675347]\n"
     ]
    },
    {
     "name": "stderr",
     "output_type": "stream",
     "text": [
      "/home/yiyangsu/anaconda3/lib/python3.6/site-packages/statsmodels/base/model.py:488: HessianInversionWarning: Inverting hessian failed, no bse or cov_params available\n",
      "  'available', HessianInversionWarning)\n"
     ]
    },
    {
     "name": "stdout",
     "output_type": "stream",
     "text": [
      "[3.15620828]\n"
     ]
    },
    {
     "name": "stderr",
     "output_type": "stream",
     "text": [
      "/home/yiyangsu/anaconda3/lib/python3.6/site-packages/statsmodels/base/model.py:488: HessianInversionWarning: Inverting hessian failed, no bse or cov_params available\n",
      "  'available', HessianInversionWarning)\n"
     ]
    },
    {
     "name": "stdout",
     "output_type": "stream",
     "text": [
      "[3.20026206]\n"
     ]
    },
    {
     "name": "stderr",
     "output_type": "stream",
     "text": [
      "/home/yiyangsu/anaconda3/lib/python3.6/site-packages/statsmodels/base/model.py:488: HessianInversionWarning: Inverting hessian failed, no bse or cov_params available\n",
      "  'available', HessianInversionWarning)\n"
     ]
    },
    {
     "name": "stdout",
     "output_type": "stream",
     "text": [
      "[3.33926494]\n"
     ]
    },
    {
     "name": "stderr",
     "output_type": "stream",
     "text": [
      "/home/yiyangsu/anaconda3/lib/python3.6/site-packages/statsmodels/base/model.py:488: HessianInversionWarning: Inverting hessian failed, no bse or cov_params available\n",
      "  'available', HessianInversionWarning)\n"
     ]
    },
    {
     "name": "stdout",
     "output_type": "stream",
     "text": [
      "[3.43153784]\n"
     ]
    },
    {
     "name": "stderr",
     "output_type": "stream",
     "text": [
      "/home/yiyangsu/anaconda3/lib/python3.6/site-packages/statsmodels/base/model.py:488: HessianInversionWarning: Inverting hessian failed, no bse or cov_params available\n",
      "  'available', HessianInversionWarning)\n"
     ]
    },
    {
     "name": "stdout",
     "output_type": "stream",
     "text": [
      "[3.52631718]\n",
      "[3.61804473]\n"
     ]
    },
    {
     "name": "stderr",
     "output_type": "stream",
     "text": [
      "/home/yiyangsu/anaconda3/lib/python3.6/site-packages/statsmodels/base/model.py:488: HessianInversionWarning: Inverting hessian failed, no bse or cov_params available\n",
      "  'available', HessianInversionWarning)\n"
     ]
    },
    {
     "name": "stdout",
     "output_type": "stream",
     "text": [
      "[3.71278886]\n"
     ]
    },
    {
     "name": "stderr",
     "output_type": "stream",
     "text": [
      "/home/yiyangsu/anaconda3/lib/python3.6/site-packages/statsmodels/base/model.py:488: HessianInversionWarning: Inverting hessian failed, no bse or cov_params available\n",
      "  'available', HessianInversionWarning)\n"
     ]
    },
    {
     "name": "stdout",
     "output_type": "stream",
     "text": [
      "[3.80365854]\n"
     ]
    },
    {
     "name": "stderr",
     "output_type": "stream",
     "text": [
      "/home/yiyangsu/anaconda3/lib/python3.6/site-packages/statsmodels/base/model.py:488: HessianInversionWarning: Inverting hessian failed, no bse or cov_params available\n",
      "  'available', HessianInversionWarning)\n"
     ]
    },
    {
     "name": "stdout",
     "output_type": "stream",
     "text": [
      "[3.82503538]\n"
     ]
    },
    {
     "name": "stderr",
     "output_type": "stream",
     "text": [
      "/home/yiyangsu/anaconda3/lib/python3.6/site-packages/statsmodels/base/model.py:488: HessianInversionWarning: Inverting hessian failed, no bse or cov_params available\n",
      "  'available', HessianInversionWarning)\n"
     ]
    },
    {
     "name": "stdout",
     "output_type": "stream",
     "text": [
      "[3.46793567]\n",
      "[3.29740176]\n"
     ]
    },
    {
     "name": "stderr",
     "output_type": "stream",
     "text": [
      "/home/yiyangsu/anaconda3/lib/python3.6/site-packages/statsmodels/base/model.py:488: HessianInversionWarning: Inverting hessian failed, no bse or cov_params available\n",
      "  'available', HessianInversionWarning)\n"
     ]
    },
    {
     "name": "stdout",
     "output_type": "stream",
     "text": [
      "[3.12944384]\n"
     ]
    },
    {
     "name": "stderr",
     "output_type": "stream",
     "text": [
      "/home/yiyangsu/anaconda3/lib/python3.6/site-packages/statsmodels/base/model.py:488: HessianInversionWarning: Inverting hessian failed, no bse or cov_params available\n",
      "  'available', HessianInversionWarning)\n"
     ]
    },
    {
     "name": "stdout",
     "output_type": "stream",
     "text": [
      "[2.95833073]\n"
     ]
    },
    {
     "name": "stderr",
     "output_type": "stream",
     "text": [
      "/home/yiyangsu/anaconda3/lib/python3.6/site-packages/statsmodels/base/model.py:488: HessianInversionWarning: Inverting hessian failed, no bse or cov_params available\n",
      "  'available', HessianInversionWarning)\n"
     ]
    },
    {
     "name": "stdout",
     "output_type": "stream",
     "text": [
      "[2.79034078]\n"
     ]
    },
    {
     "name": "stderr",
     "output_type": "stream",
     "text": [
      "/home/yiyangsu/anaconda3/lib/python3.6/site-packages/statsmodels/base/model.py:488: HessianInversionWarning: Inverting hessian failed, no bse or cov_params available\n",
      "  'available', HessianInversionWarning)\n"
     ]
    },
    {
     "name": "stdout",
     "output_type": "stream",
     "text": [
      "[2.61839808]\n"
     ]
    },
    {
     "name": "stderr",
     "output_type": "stream",
     "text": [
      "/home/yiyangsu/anaconda3/lib/python3.6/site-packages/statsmodels/base/model.py:488: HessianInversionWarning: Inverting hessian failed, no bse or cov_params available\n",
      "  'available', HessianInversionWarning)\n"
     ]
    },
    {
     "name": "stdout",
     "output_type": "stream",
     "text": [
      "[2.53709374]\n"
     ]
    },
    {
     "name": "stderr",
     "output_type": "stream",
     "text": [
      "/home/yiyangsu/anaconda3/lib/python3.6/site-packages/statsmodels/base/model.py:488: HessianInversionWarning: Inverting hessian failed, no bse or cov_params available\n",
      "  'available', HessianInversionWarning)\n"
     ]
    },
    {
     "name": "stdout",
     "output_type": "stream",
     "text": [
      "[2.30754425]\n"
     ]
    },
    {
     "name": "stderr",
     "output_type": "stream",
     "text": [
      "/home/yiyangsu/anaconda3/lib/python3.6/site-packages/statsmodels/base/model.py:488: HessianInversionWarning: Inverting hessian failed, no bse or cov_params available\n",
      "  'available', HessianInversionWarning)\n"
     ]
    },
    {
     "name": "stdout",
     "output_type": "stream",
     "text": [
      "[2.14985956]\n"
     ]
    },
    {
     "name": "stderr",
     "output_type": "stream",
     "text": [
      "/home/yiyangsu/anaconda3/lib/python3.6/site-packages/statsmodels/base/model.py:488: HessianInversionWarning: Inverting hessian failed, no bse or cov_params available\n",
      "  'available', HessianInversionWarning)\n"
     ]
    },
    {
     "name": "stdout",
     "output_type": "stream",
     "text": [
      "[1.99474674]\n"
     ]
    },
    {
     "name": "stderr",
     "output_type": "stream",
     "text": [
      "/home/yiyangsu/anaconda3/lib/python3.6/site-packages/statsmodels/base/model.py:488: HessianInversionWarning: Inverting hessian failed, no bse or cov_params available\n",
      "  'available', HessianInversionWarning)\n"
     ]
    },
    {
     "name": "stdout",
     "output_type": "stream",
     "text": [
      "[1.83651118]\n"
     ]
    },
    {
     "name": "stderr",
     "output_type": "stream",
     "text": [
      "/home/yiyangsu/anaconda3/lib/python3.6/site-packages/statsmodels/base/model.py:488: HessianInversionWarning: Inverting hessian failed, no bse or cov_params available\n",
      "  'available', HessianInversionWarning)\n"
     ]
    },
    {
     "name": "stdout",
     "output_type": "stream",
     "text": [
      "[1.68135269]\n",
      "[1.52226449]\n"
     ]
    },
    {
     "name": "stderr",
     "output_type": "stream",
     "text": [
      "/home/yiyangsu/anaconda3/lib/python3.6/site-packages/statsmodels/base/model.py:488: HessianInversionWarning: Inverting hessian failed, no bse or cov_params available\n",
      "  'available', HessianInversionWarning)\n"
     ]
    },
    {
     "name": "stdout",
     "output_type": "stream",
     "text": [
      "[1.49005883]\n"
     ]
    },
    {
     "name": "stderr",
     "output_type": "stream",
     "text": [
      "/home/yiyangsu/anaconda3/lib/python3.6/site-packages/statsmodels/base/model.py:488: HessianInversionWarning: Inverting hessian failed, no bse or cov_params available\n",
      "  'available', HessianInversionWarning)\n"
     ]
    },
    {
     "name": "stdout",
     "output_type": "stream",
     "text": [
      "[1.65060395]\n"
     ]
    },
    {
     "name": "stderr",
     "output_type": "stream",
     "text": [
      "/home/yiyangsu/anaconda3/lib/python3.6/site-packages/statsmodels/base/model.py:488: HessianInversionWarning: Inverting hessian failed, no bse or cov_params available\n",
      "  'available', HessianInversionWarning)\n"
     ]
    },
    {
     "name": "stdout",
     "output_type": "stream",
     "text": [
      "[1.71579738]\n"
     ]
    },
    {
     "name": "stderr",
     "output_type": "stream",
     "text": [
      "/home/yiyangsu/anaconda3/lib/python3.6/site-packages/statsmodels/base/model.py:488: HessianInversionWarning: Inverting hessian failed, no bse or cov_params available\n",
      "  'available', HessianInversionWarning)\n"
     ]
    },
    {
     "name": "stdout",
     "output_type": "stream",
     "text": [
      "[1.78349712]\n"
     ]
    },
    {
     "name": "stderr",
     "output_type": "stream",
     "text": [
      "/home/yiyangsu/anaconda3/lib/python3.6/site-packages/statsmodels/base/model.py:488: HessianInversionWarning: Inverting hessian failed, no bse or cov_params available\n",
      "  'available', HessianInversionWarning)\n"
     ]
    },
    {
     "name": "stdout",
     "output_type": "stream",
     "text": [
      "[1.84812318]\n"
     ]
    },
    {
     "name": "stderr",
     "output_type": "stream",
     "text": [
      "/home/yiyangsu/anaconda3/lib/python3.6/site-packages/statsmodels/base/model.py:488: HessianInversionWarning: Inverting hessian failed, no bse or cov_params available\n",
      "  'available', HessianInversionWarning)\n"
     ]
    },
    {
     "name": "stdout",
     "output_type": "stream",
     "text": [
      "[1.91576751]\n"
     ]
    },
    {
     "name": "stderr",
     "output_type": "stream",
     "text": [
      "/home/yiyangsu/anaconda3/lib/python3.6/site-packages/statsmodels/base/model.py:488: HessianInversionWarning: Inverting hessian failed, no bse or cov_params available\n",
      "  'available', HessianInversionWarning)\n"
     ]
    },
    {
     "name": "stdout",
     "output_type": "stream",
     "text": [
      "[1.97954988]\n"
     ]
    },
    {
     "name": "stderr",
     "output_type": "stream",
     "text": [
      "/home/yiyangsu/anaconda3/lib/python3.6/site-packages/statsmodels/base/model.py:488: HessianInversionWarning: Inverting hessian failed, no bse or cov_params available\n",
      "  'available', HessianInversionWarning)\n"
     ]
    },
    {
     "name": "stdout",
     "output_type": "stream",
     "text": [
      "[2.02142086]\n"
     ]
    },
    {
     "name": "stderr",
     "output_type": "stream",
     "text": [
      "/home/yiyangsu/anaconda3/lib/python3.6/site-packages/statsmodels/base/model.py:488: HessianInversionWarning: Inverting hessian failed, no bse or cov_params available\n",
      "  'available', HessianInversionWarning)\n"
     ]
    },
    {
     "name": "stdout",
     "output_type": "stream",
     "text": [
      "[1.9987163]\n"
     ]
    },
    {
     "name": "stderr",
     "output_type": "stream",
     "text": [
      "/home/yiyangsu/anaconda3/lib/python3.6/site-packages/statsmodels/base/model.py:488: HessianInversionWarning: Inverting hessian failed, no bse or cov_params available\n",
      "  'available', HessianInversionWarning)\n"
     ]
    },
    {
     "name": "stdout",
     "output_type": "stream",
     "text": [
      "[2.00819769]\n"
     ]
    },
    {
     "name": "stderr",
     "output_type": "stream",
     "text": [
      "/home/yiyangsu/anaconda3/lib/python3.6/site-packages/statsmodels/base/model.py:488: HessianInversionWarning: Inverting hessian failed, no bse or cov_params available\n",
      "  'available', HessianInversionWarning)\n"
     ]
    },
    {
     "name": "stdout",
     "output_type": "stream",
     "text": [
      "[2.02022091]\n"
     ]
    },
    {
     "name": "stderr",
     "output_type": "stream",
     "text": [
      "/home/yiyangsu/anaconda3/lib/python3.6/site-packages/statsmodels/base/model.py:488: HessianInversionWarning: Inverting hessian failed, no bse or cov_params available\n",
      "  'available', HessianInversionWarning)\n"
     ]
    },
    {
     "name": "stdout",
     "output_type": "stream",
     "text": [
      "[2.02914804]\n"
     ]
    },
    {
     "name": "stderr",
     "output_type": "stream",
     "text": [
      "/home/yiyangsu/anaconda3/lib/python3.6/site-packages/statsmodels/base/model.py:488: HessianInversionWarning: Inverting hessian failed, no bse or cov_params available\n",
      "  'available', HessianInversionWarning)\n"
     ]
    },
    {
     "name": "stdout",
     "output_type": "stream",
     "text": [
      "[2.04111229]\n"
     ]
    },
    {
     "name": "stderr",
     "output_type": "stream",
     "text": [
      "/home/yiyangsu/anaconda3/lib/python3.6/site-packages/statsmodels/base/model.py:488: HessianInversionWarning: Inverting hessian failed, no bse or cov_params available\n",
      "  'available', HessianInversionWarning)\n"
     ]
    },
    {
     "name": "stdout",
     "output_type": "stream",
     "text": [
      "[2.04919509]\n"
     ]
    },
    {
     "name": "stderr",
     "output_type": "stream",
     "text": [
      "/home/yiyangsu/anaconda3/lib/python3.6/site-packages/statsmodels/base/model.py:488: HessianInversionWarning: Inverting hessian failed, no bse or cov_params available\n",
      "  'available', HessianInversionWarning)\n"
     ]
    },
    {
     "name": "stdout",
     "output_type": "stream",
     "text": [
      "[2.03556197]\n"
     ]
    },
    {
     "name": "stderr",
     "output_type": "stream",
     "text": [
      "/home/yiyangsu/anaconda3/lib/python3.6/site-packages/statsmodels/base/model.py:488: HessianInversionWarning: Inverting hessian failed, no bse or cov_params available\n",
      "  'available', HessianInversionWarning)\n"
     ]
    },
    {
     "name": "stdout",
     "output_type": "stream",
     "text": [
      "[1.77524671]\n"
     ]
    },
    {
     "name": "stderr",
     "output_type": "stream",
     "text": [
      "/home/yiyangsu/anaconda3/lib/python3.6/site-packages/statsmodels/base/model.py:488: HessianInversionWarning: Inverting hessian failed, no bse or cov_params available\n",
      "  'available', HessianInversionWarning)\n"
     ]
    },
    {
     "name": "stdout",
     "output_type": "stream",
     "text": [
      "[1.63612885]\n"
     ]
    },
    {
     "name": "stderr",
     "output_type": "stream",
     "text": [
      "/home/yiyangsu/anaconda3/lib/python3.6/site-packages/statsmodels/base/model.py:488: HessianInversionWarning: Inverting hessian failed, no bse or cov_params available\n",
      "  'available', HessianInversionWarning)\n"
     ]
    },
    {
     "name": "stdout",
     "output_type": "stream",
     "text": [
      "[1.49969084]\n",
      "[1.36003647]\n"
     ]
    },
    {
     "name": "stderr",
     "output_type": "stream",
     "text": [
      "/home/yiyangsu/anaconda3/lib/python3.6/site-packages/statsmodels/base/model.py:488: HessianInversionWarning: Inverting hessian failed, no bse or cov_params available\n",
      "  'available', HessianInversionWarning)\n"
     ]
    },
    {
     "name": "stdout",
     "output_type": "stream",
     "text": [
      "[1.2234806]\n"
     ]
    },
    {
     "name": "stderr",
     "output_type": "stream",
     "text": [
      "/home/yiyangsu/anaconda3/lib/python3.6/site-packages/statsmodels/base/model.py:488: HessianInversionWarning: Inverting hessian failed, no bse or cov_params available\n",
      "  'available', HessianInversionWarning)\n"
     ]
    },
    {
     "name": "stdout",
     "output_type": "stream",
     "text": [
      "[1.08302377]\n"
     ]
    },
    {
     "name": "stderr",
     "output_type": "stream",
     "text": [
      "/home/yiyangsu/anaconda3/lib/python3.6/site-packages/statsmodels/base/model.py:488: HessianInversionWarning: Inverting hessian failed, no bse or cov_params available\n",
      "  'available', HessianInversionWarning)\n"
     ]
    },
    {
     "name": "stdout",
     "output_type": "stream",
     "text": [
      "[1.0294958]\n"
     ]
    },
    {
     "name": "stderr",
     "output_type": "stream",
     "text": [
      "/home/yiyangsu/anaconda3/lib/python3.6/site-packages/statsmodels/base/model.py:488: HessianInversionWarning: Inverting hessian failed, no bse or cov_params available\n",
      "  'available', HessianInversionWarning)\n"
     ]
    },
    {
     "name": "stdout",
     "output_type": "stream",
     "text": [
      "[1.32486461]\n"
     ]
    },
    {
     "name": "stderr",
     "output_type": "stream",
     "text": [
      "/home/yiyangsu/anaconda3/lib/python3.6/site-packages/statsmodels/base/model.py:488: HessianInversionWarning: Inverting hessian failed, no bse or cov_params available\n",
      "  'available', HessianInversionWarning)\n"
     ]
    },
    {
     "name": "stdout",
     "output_type": "stream",
     "text": [
      "[1.44716991]\n"
     ]
    },
    {
     "name": "stderr",
     "output_type": "stream",
     "text": [
      "/home/yiyangsu/anaconda3/lib/python3.6/site-packages/statsmodels/base/model.py:488: HessianInversionWarning: Inverting hessian failed, no bse or cov_params available\n",
      "  'available', HessianInversionWarning)\n"
     ]
    },
    {
     "name": "stdout",
     "output_type": "stream",
     "text": [
      "[1.57197389]\n"
     ]
    },
    {
     "name": "stderr",
     "output_type": "stream",
     "text": [
      "/home/yiyangsu/anaconda3/lib/python3.6/site-packages/statsmodels/base/model.py:488: HessianInversionWarning: Inverting hessian failed, no bse or cov_params available\n",
      "  'available', HessianInversionWarning)\n"
     ]
    },
    {
     "name": "stdout",
     "output_type": "stream",
     "text": [
      "[1.69372012]\n"
     ]
    },
    {
     "name": "stderr",
     "output_type": "stream",
     "text": [
      "/home/yiyangsu/anaconda3/lib/python3.6/site-packages/statsmodels/base/model.py:488: HessianInversionWarning: Inverting hessian failed, no bse or cov_params available\n",
      "  'available', HessianInversionWarning)\n"
     ]
    },
    {
     "name": "stdout",
     "output_type": "stream",
     "text": [
      "[1.81845853]\n"
     ]
    },
    {
     "name": "stderr",
     "output_type": "stream",
     "text": [
      "/home/yiyangsu/anaconda3/lib/python3.6/site-packages/statsmodels/base/model.py:488: HessianInversionWarning: Inverting hessian failed, no bse or cov_params available\n",
      "  'available', HessianInversionWarning)\n"
     ]
    },
    {
     "name": "stdout",
     "output_type": "stream",
     "text": [
      "[1.93933651]\n"
     ]
    },
    {
     "name": "stderr",
     "output_type": "stream",
     "text": [
      "/home/yiyangsu/anaconda3/lib/python3.6/site-packages/statsmodels/base/model.py:488: HessianInversionWarning: Inverting hessian failed, no bse or cov_params available\n",
      "  'available', HessianInversionWarning)\n"
     ]
    },
    {
     "name": "stdout",
     "output_type": "stream",
     "text": [
      "[2.01463674]\n"
     ]
    },
    {
     "name": "stderr",
     "output_type": "stream",
     "text": [
      "/home/yiyangsu/anaconda3/lib/python3.6/site-packages/statsmodels/base/model.py:488: HessianInversionWarning: Inverting hessian failed, no bse or cov_params available\n",
      "  'available', HessianInversionWarning)\n"
     ]
    },
    {
     "name": "stdout",
     "output_type": "stream",
     "text": [
      "[1.92405312]\n"
     ]
    },
    {
     "name": "stderr",
     "output_type": "stream",
     "text": [
      "/home/yiyangsu/anaconda3/lib/python3.6/site-packages/statsmodels/base/model.py:488: HessianInversionWarning: Inverting hessian failed, no bse or cov_params available\n",
      "  'available', HessianInversionWarning)\n"
     ]
    },
    {
     "name": "stdout",
     "output_type": "stream",
     "text": [
      "[1.91642556]\n"
     ]
    },
    {
     "name": "stderr",
     "output_type": "stream",
     "text": [
      "/home/yiyangsu/anaconda3/lib/python3.6/site-packages/statsmodels/base/model.py:488: HessianInversionWarning: Inverting hessian failed, no bse or cov_params available\n",
      "  'available', HessianInversionWarning)\n"
     ]
    },
    {
     "name": "stdout",
     "output_type": "stream",
     "text": [
      "[1.91138199]\n"
     ]
    },
    {
     "name": "stderr",
     "output_type": "stream",
     "text": [
      "/home/yiyangsu/anaconda3/lib/python3.6/site-packages/statsmodels/base/model.py:488: HessianInversionWarning: Inverting hessian failed, no bse or cov_params available\n",
      "  'available', HessianInversionWarning)\n"
     ]
    },
    {
     "name": "stdout",
     "output_type": "stream",
     "text": [
      "[1.90318395]\n"
     ]
    },
    {
     "name": "stderr",
     "output_type": "stream",
     "text": [
      "/home/yiyangsu/anaconda3/lib/python3.6/site-packages/statsmodels/base/model.py:488: HessianInversionWarning: Inverting hessian failed, no bse or cov_params available\n",
      "  'available', HessianInversionWarning)\n"
     ]
    },
    {
     "name": "stdout",
     "output_type": "stream",
     "text": [
      "[1.898046]\n"
     ]
    },
    {
     "name": "stderr",
     "output_type": "stream",
     "text": [
      "/home/yiyangsu/anaconda3/lib/python3.6/site-packages/statsmodels/base/model.py:488: HessianInversionWarning: Inverting hessian failed, no bse or cov_params available\n",
      "  'available', HessianInversionWarning)\n"
     ]
    },
    {
     "name": "stdout",
     "output_type": "stream",
     "text": [
      "[1.88900349]\n"
     ]
    },
    {
     "name": "stderr",
     "output_type": "stream",
     "text": [
      "/home/yiyangsu/anaconda3/lib/python3.6/site-packages/statsmodels/base/model.py:488: HessianInversionWarning: Inverting hessian failed, no bse or cov_params available\n",
      "  'available', HessianInversionWarning)\n"
     ]
    },
    {
     "name": "stdout",
     "output_type": "stream",
     "text": [
      "[1.85372315]\n"
     ]
    },
    {
     "name": "stderr",
     "output_type": "stream",
     "text": [
      "/home/yiyangsu/anaconda3/lib/python3.6/site-packages/statsmodels/base/model.py:488: HessianInversionWarning: Inverting hessian failed, no bse or cov_params available\n",
      "  'available', HessianInversionWarning)\n"
     ]
    },
    {
     "name": "stdout",
     "output_type": "stream",
     "text": [
      "[1.79642914]\n"
     ]
    },
    {
     "name": "stderr",
     "output_type": "stream",
     "text": [
      "/home/yiyangsu/anaconda3/lib/python3.6/site-packages/statsmodels/base/model.py:488: HessianInversionWarning: Inverting hessian failed, no bse or cov_params available\n",
      "  'available', HessianInversionWarning)\n"
     ]
    },
    {
     "name": "stdout",
     "output_type": "stream",
     "text": [
      "[1.74871629]\n"
     ]
    },
    {
     "name": "stderr",
     "output_type": "stream",
     "text": [
      "/home/yiyangsu/anaconda3/lib/python3.6/site-packages/statsmodels/base/model.py:488: HessianInversionWarning: Inverting hessian failed, no bse or cov_params available\n",
      "  'available', HessianInversionWarning)\n"
     ]
    },
    {
     "name": "stdout",
     "output_type": "stream",
     "text": [
      "[1.70358145]\n"
     ]
    },
    {
     "name": "stderr",
     "output_type": "stream",
     "text": [
      "/home/yiyangsu/anaconda3/lib/python3.6/site-packages/statsmodels/base/model.py:488: HessianInversionWarning: Inverting hessian failed, no bse or cov_params available\n",
      "  'available', HessianInversionWarning)\n"
     ]
    },
    {
     "name": "stdout",
     "output_type": "stream",
     "text": [
      "[1.65533184]\n"
     ]
    },
    {
     "name": "stderr",
     "output_type": "stream",
     "text": [
      "/home/yiyangsu/anaconda3/lib/python3.6/site-packages/statsmodels/base/model.py:488: HessianInversionWarning: Inverting hessian failed, no bse or cov_params available\n",
      "  'available', HessianInversionWarning)\n"
     ]
    },
    {
     "name": "stdout",
     "output_type": "stream",
     "text": [
      "[1.61011541]\n"
     ]
    },
    {
     "name": "stderr",
     "output_type": "stream",
     "text": [
      "/home/yiyangsu/anaconda3/lib/python3.6/site-packages/statsmodels/base/model.py:488: HessianInversionWarning: Inverting hessian failed, no bse or cov_params available\n",
      "  'available', HessianInversionWarning)\n"
     ]
    },
    {
     "name": "stdout",
     "output_type": "stream",
     "text": [
      "[1.56099462]\n"
     ]
    },
    {
     "name": "stderr",
     "output_type": "stream",
     "text": [
      "/home/yiyangsu/anaconda3/lib/python3.6/site-packages/statsmodels/base/model.py:488: HessianInversionWarning: Inverting hessian failed, no bse or cov_params available\n",
      "  'available', HessianInversionWarning)\n"
     ]
    },
    {
     "name": "stdout",
     "output_type": "stream",
     "text": [
      "[1.55588226]\n"
     ]
    },
    {
     "name": "stderr",
     "output_type": "stream",
     "text": [
      "/home/yiyangsu/anaconda3/lib/python3.6/site-packages/statsmodels/base/model.py:488: HessianInversionWarning: Inverting hessian failed, no bse or cov_params available\n",
      "  'available', HessianInversionWarning)\n"
     ]
    },
    {
     "name": "stdout",
     "output_type": "stream",
     "text": [
      "[1.66117465]\n"
     ]
    },
    {
     "name": "stderr",
     "output_type": "stream",
     "text": [
      "/home/yiyangsu/anaconda3/lib/python3.6/site-packages/statsmodels/base/model.py:488: HessianInversionWarning: Inverting hessian failed, no bse or cov_params available\n",
      "  'available', HessianInversionWarning)\n"
     ]
    },
    {
     "name": "stdout",
     "output_type": "stream",
     "text": [
      "[1.71208589]\n"
     ]
    },
    {
     "name": "stderr",
     "output_type": "stream",
     "text": [
      "/home/yiyangsu/anaconda3/lib/python3.6/site-packages/statsmodels/base/model.py:488: HessianInversionWarning: Inverting hessian failed, no bse or cov_params available\n",
      "  'available', HessianInversionWarning)\n"
     ]
    },
    {
     "name": "stdout",
     "output_type": "stream",
     "text": [
      "[1.7655344]\n"
     ]
    },
    {
     "name": "stderr",
     "output_type": "stream",
     "text": [
      "/home/yiyangsu/anaconda3/lib/python3.6/site-packages/statsmodels/base/model.py:488: HessianInversionWarning: Inverting hessian failed, no bse or cov_params available\n",
      "  'available', HessianInversionWarning)\n"
     ]
    },
    {
     "name": "stdout",
     "output_type": "stream",
     "text": [
      "[1.81587657]\n"
     ]
    },
    {
     "name": "stderr",
     "output_type": "stream",
     "text": [
      "/home/yiyangsu/anaconda3/lib/python3.6/site-packages/statsmodels/base/model.py:488: HessianInversionWarning: Inverting hessian failed, no bse or cov_params available\n",
      "  'available', HessianInversionWarning)\n"
     ]
    },
    {
     "name": "stdout",
     "output_type": "stream",
     "text": [
      "[1.8692553]\n"
     ]
    },
    {
     "name": "stderr",
     "output_type": "stream",
     "text": [
      "/home/yiyangsu/anaconda3/lib/python3.6/site-packages/statsmodels/base/model.py:488: HessianInversionWarning: Inverting hessian failed, no bse or cov_params available\n",
      "  'available', HessianInversionWarning)\n"
     ]
    },
    {
     "name": "stdout",
     "output_type": "stream",
     "text": [
      "[1.91875011]\n"
     ]
    },
    {
     "name": "stderr",
     "output_type": "stream",
     "text": [
      "/home/yiyangsu/anaconda3/lib/python3.6/site-packages/statsmodels/base/model.py:488: HessianInversionWarning: Inverting hessian failed, no bse or cov_params available\n",
      "  'available', HessianInversionWarning)\n"
     ]
    },
    {
     "name": "stdout",
     "output_type": "stream",
     "text": [
      "[1.94290668]\n"
     ]
    },
    {
     "name": "stderr",
     "output_type": "stream",
     "text": [
      "/home/yiyangsu/anaconda3/lib/python3.6/site-packages/statsmodels/base/model.py:488: HessianInversionWarning: Inverting hessian failed, no bse or cov_params available\n",
      "  'available', HessianInversionWarning)\n"
     ]
    },
    {
     "name": "stdout",
     "output_type": "stream",
     "text": [
      "[1.83945349]\n"
     ]
    },
    {
     "name": "stderr",
     "output_type": "stream",
     "text": [
      "/home/yiyangsu/anaconda3/lib/python3.6/site-packages/statsmodels/base/model.py:488: HessianInversionWarning: Inverting hessian failed, no bse or cov_params available\n",
      "  'available', HessianInversionWarning)\n"
     ]
    },
    {
     "name": "stdout",
     "output_type": "stream",
     "text": [
      "[1.79892225]\n"
     ]
    },
    {
     "name": "stderr",
     "output_type": "stream",
     "text": [
      "/home/yiyangsu/anaconda3/lib/python3.6/site-packages/statsmodels/base/model.py:488: HessianInversionWarning: Inverting hessian failed, no bse or cov_params available\n",
      "  'available', HessianInversionWarning)\n"
     ]
    },
    {
     "name": "stdout",
     "output_type": "stream",
     "text": [
      "[1.76096754]\n"
     ]
    },
    {
     "name": "stderr",
     "output_type": "stream",
     "text": [
      "/home/yiyangsu/anaconda3/lib/python3.6/site-packages/statsmodels/base/model.py:488: HessianInversionWarning: Inverting hessian failed, no bse or cov_params available\n",
      "  'available', HessianInversionWarning)\n"
     ]
    },
    {
     "name": "stdout",
     "output_type": "stream",
     "text": [
      "[1.71988458]\n"
     ]
    },
    {
     "name": "stderr",
     "output_type": "stream",
     "text": [
      "/home/yiyangsu/anaconda3/lib/python3.6/site-packages/statsmodels/base/model.py:488: HessianInversionWarning: Inverting hessian failed, no bse or cov_params available\n",
      "  'available', HessianInversionWarning)\n"
     ]
    },
    {
     "name": "stdout",
     "output_type": "stream",
     "text": [
      "[1.6818628]\n",
      "[1.63991998]\n"
     ]
    },
    {
     "name": "stderr",
     "output_type": "stream",
     "text": [
      "/home/yiyangsu/anaconda3/lib/python3.6/site-packages/statsmodels/base/model.py:488: HessianInversionWarning: Inverting hessian failed, no bse or cov_params available\n",
      "  'available', HessianInversionWarning)\n"
     ]
    },
    {
     "name": "stdout",
     "output_type": "stream",
     "text": [
      "[1.61245878]\n"
     ]
    },
    {
     "name": "stderr",
     "output_type": "stream",
     "text": [
      "/home/yiyangsu/anaconda3/lib/python3.6/site-packages/statsmodels/base/model.py:488: HessianInversionWarning: Inverting hessian failed, no bse or cov_params available\n",
      "  'available', HessianInversionWarning)\n"
     ]
    },
    {
     "name": "stdout",
     "output_type": "stream",
     "text": [
      "[1.65364714]\n"
     ]
    },
    {
     "name": "stderr",
     "output_type": "stream",
     "text": [
      "/home/yiyangsu/anaconda3/lib/python3.6/site-packages/statsmodels/base/model.py:488: HessianInversionWarning: Inverting hessian failed, no bse or cov_params available\n",
      "  'available', HessianInversionWarning)\n"
     ]
    },
    {
     "name": "stdout",
     "output_type": "stream",
     "text": [
      "[1.66027143]\n",
      "[1.66940873]\n"
     ]
    },
    {
     "name": "stderr",
     "output_type": "stream",
     "text": [
      "/home/yiyangsu/anaconda3/lib/python3.6/site-packages/statsmodels/base/model.py:488: HessianInversionWarning: Inverting hessian failed, no bse or cov_params available\n",
      "  'available', HessianInversionWarning)\n"
     ]
    },
    {
     "name": "stdout",
     "output_type": "stream",
     "text": [
      "[1.67544437]\n"
     ]
    },
    {
     "name": "stderr",
     "output_type": "stream",
     "text": [
      "/home/yiyangsu/anaconda3/lib/python3.6/site-packages/statsmodels/base/model.py:488: HessianInversionWarning: Inverting hessian failed, no bse or cov_params available\n",
      "  'available', HessianInversionWarning)\n"
     ]
    },
    {
     "name": "stdout",
     "output_type": "stream",
     "text": [
      "[1.68451539]\n"
     ]
    },
    {
     "name": "stderr",
     "output_type": "stream",
     "text": [
      "/home/yiyangsu/anaconda3/lib/python3.6/site-packages/statsmodels/base/model.py:488: HessianInversionWarning: Inverting hessian failed, no bse or cov_params available\n",
      "  'available', HessianInversionWarning)\n"
     ]
    },
    {
     "name": "stdout",
     "output_type": "stream",
     "text": [
      "[1.68971717]\n"
     ]
    },
    {
     "name": "stderr",
     "output_type": "stream",
     "text": [
      "/home/yiyangsu/anaconda3/lib/python3.6/site-packages/statsmodels/base/model.py:488: HessianInversionWarning: Inverting hessian failed, no bse or cov_params available\n",
      "  'available', HessianInversionWarning)\n"
     ]
    },
    {
     "name": "stdout",
     "output_type": "stream",
     "text": [
      "[1.70445385]\n"
     ]
    },
    {
     "name": "stderr",
     "output_type": "stream",
     "text": [
      "/home/yiyangsu/anaconda3/lib/python3.6/site-packages/statsmodels/base/model.py:488: HessianInversionWarning: Inverting hessian failed, no bse or cov_params available\n",
      "  'available', HessianInversionWarning)\n"
     ]
    },
    {
     "name": "stdout",
     "output_type": "stream",
     "text": [
      "[1.65202981]\n",
      "[1.63296395]\n"
     ]
    },
    {
     "name": "stderr",
     "output_type": "stream",
     "text": [
      "/home/yiyangsu/anaconda3/lib/python3.6/site-packages/statsmodels/base/model.py:488: HessianInversionWarning: Inverting hessian failed, no bse or cov_params available\n",
      "  'available', HessianInversionWarning)\n"
     ]
    },
    {
     "name": "stdout",
     "output_type": "stream",
     "text": [
      "[1.61643487]\n"
     ]
    },
    {
     "name": "stderr",
     "output_type": "stream",
     "text": [
      "/home/yiyangsu/anaconda3/lib/python3.6/site-packages/statsmodels/base/model.py:488: HessianInversionWarning: Inverting hessian failed, no bse or cov_params available\n",
      "  'available', HessianInversionWarning)\n"
     ]
    },
    {
     "name": "stdout",
     "output_type": "stream",
     "text": [
      "[1.59677913]\n"
     ]
    },
    {
     "name": "stderr",
     "output_type": "stream",
     "text": [
      "/home/yiyangsu/anaconda3/lib/python3.6/site-packages/statsmodels/base/model.py:488: HessianInversionWarning: Inverting hessian failed, no bse or cov_params available\n",
      "  'available', HessianInversionWarning)\n"
     ]
    },
    {
     "name": "stdout",
     "output_type": "stream",
     "text": [
      "[1.58018808]\n"
     ]
    },
    {
     "name": "stderr",
     "output_type": "stream",
     "text": [
      "/home/yiyangsu/anaconda3/lib/python3.6/site-packages/statsmodels/base/model.py:488: HessianInversionWarning: Inverting hessian failed, no bse or cov_params available\n",
      "  'available', HessianInversionWarning)\n"
     ]
    },
    {
     "name": "stdout",
     "output_type": "stream",
     "text": [
      "[1.55970543]\n",
      "[1.54539127]\n"
     ]
    },
    {
     "name": "stderr",
     "output_type": "stream",
     "text": [
      "/home/yiyangsu/anaconda3/lib/python3.6/site-packages/statsmodels/base/model.py:488: HessianInversionWarning: Inverting hessian failed, no bse or cov_params available\n",
      "  'available', HessianInversionWarning)\n"
     ]
    },
    {
     "name": "stdout",
     "output_type": "stream",
     "text": [
      "[1.66959385]\n"
     ]
    },
    {
     "name": "stderr",
     "output_type": "stream",
     "text": [
      "/home/yiyangsu/anaconda3/lib/python3.6/site-packages/statsmodels/base/model.py:488: HessianInversionWarning: Inverting hessian failed, no bse or cov_params available\n",
      "  'available', HessianInversionWarning)\n"
     ]
    },
    {
     "name": "stdout",
     "output_type": "stream",
     "text": [
      "[1.72480057]\n"
     ]
    },
    {
     "name": "stderr",
     "output_type": "stream",
     "text": [
      "/home/yiyangsu/anaconda3/lib/python3.6/site-packages/statsmodels/base/model.py:488: HessianInversionWarning: Inverting hessian failed, no bse or cov_params available\n",
      "  'available', HessianInversionWarning)\n"
     ]
    },
    {
     "name": "stdout",
     "output_type": "stream",
     "text": [
      "[1.78245778]\n"
     ]
    },
    {
     "name": "stderr",
     "output_type": "stream",
     "text": [
      "/home/yiyangsu/anaconda3/lib/python3.6/site-packages/statsmodels/base/model.py:488: HessianInversionWarning: Inverting hessian failed, no bse or cov_params available\n",
      "  'available', HessianInversionWarning)\n"
     ]
    },
    {
     "name": "stdout",
     "output_type": "stream",
     "text": [
      "[1.83707137]\n"
     ]
    },
    {
     "name": "stderr",
     "output_type": "stream",
     "text": [
      "/home/yiyangsu/anaconda3/lib/python3.6/site-packages/statsmodels/base/model.py:488: HessianInversionWarning: Inverting hessian failed, no bse or cov_params available\n",
      "  'available', HessianInversionWarning)\n"
     ]
    },
    {
     "name": "stdout",
     "output_type": "stream",
     "text": [
      "[1.89466903]\n"
     ]
    },
    {
     "name": "stderr",
     "output_type": "stream",
     "text": [
      "/home/yiyangsu/anaconda3/lib/python3.6/site-packages/statsmodels/base/model.py:488: HessianInversionWarning: Inverting hessian failed, no bse or cov_params available\n",
      "  'available', HessianInversionWarning)\n"
     ]
    },
    {
     "name": "stdout",
     "output_type": "stream",
     "text": [
      "[1.94843376]\n"
     ]
    },
    {
     "name": "stderr",
     "output_type": "stream",
     "text": [
      "/home/yiyangsu/anaconda3/lib/python3.6/site-packages/statsmodels/base/model.py:488: HessianInversionWarning: Inverting hessian failed, no bse or cov_params available\n",
      "  'available', HessianInversionWarning)\n"
     ]
    },
    {
     "name": "stdout",
     "output_type": "stream",
     "text": [
      "[1.97831339]\n"
     ]
    },
    {
     "name": "stderr",
     "output_type": "stream",
     "text": [
      "/home/yiyangsu/anaconda3/lib/python3.6/site-packages/statsmodels/base/model.py:488: HessianInversionWarning: Inverting hessian failed, no bse or cov_params available\n",
      "  'available', HessianInversionWarning)\n"
     ]
    },
    {
     "name": "stdout",
     "output_type": "stream",
     "text": [
      "[1.89388412]\n"
     ]
    },
    {
     "name": "stderr",
     "output_type": "stream",
     "text": [
      "/home/yiyangsu/anaconda3/lib/python3.6/site-packages/statsmodels/base/model.py:488: HessianInversionWarning: Inverting hessian failed, no bse or cov_params available\n",
      "  'available', HessianInversionWarning)\n"
     ]
    },
    {
     "name": "stdout",
     "output_type": "stream",
     "text": [
      "[1.86625329]\n"
     ]
    },
    {
     "name": "stderr",
     "output_type": "stream",
     "text": [
      "/home/yiyangsu/anaconda3/lib/python3.6/site-packages/statsmodels/base/model.py:488: HessianInversionWarning: Inverting hessian failed, no bse or cov_params available\n",
      "  'available', HessianInversionWarning)\n"
     ]
    },
    {
     "name": "stdout",
     "output_type": "stream",
     "text": [
      "[1.84115757]\n"
     ]
    },
    {
     "name": "stderr",
     "output_type": "stream",
     "text": [
      "/home/yiyangsu/anaconda3/lib/python3.6/site-packages/statsmodels/base/model.py:488: HessianInversionWarning: Inverting hessian failed, no bse or cov_params available\n",
      "  'available', HessianInversionWarning)\n"
     ]
    },
    {
     "name": "stdout",
     "output_type": "stream",
     "text": [
      "[1.81296006]\n",
      "[1.78776963]\n",
      "0.039292803977595686 0.10759165634668226\n"
     ]
    },
    {
     "name": "stderr",
     "output_type": "stream",
     "text": [
      "/home/yiyangsu/anaconda3/lib/python3.6/site-packages/statsmodels/base/model.py:488: HessianInversionWarning: Inverting hessian failed, no bse or cov_params available\n",
      "  'available', HessianInversionWarning)\n"
     ]
    }
   ],
   "source": [
    "# obviously the way of obtaining prediction values is wrong, try other ways\n",
    "from statsmodels.tsa.arima_model import ARMAResults\n",
    "\n",
    "train1 = train1_y2.values\n",
    "\n",
    "test1 = test1_y.values\n",
    "\n",
    "history = [x for x in train1]\n",
    "predict3 = list()\n",
    "for t in range(len(test1)):\n",
    "    model = ARIMA(history, order=(1,1,14))\n",
    "    model_fit = model.fit(disp=0)\n",
    "    output = model_fit.forecast()\n",
    "    yhat = output[0]\n",
    "    print(yhat)\n",
    "    predict3.append(yhat)\n",
    "    obs = test1[t]\n",
    "    history.append(obs)\n",
    "\n",
    "mae1 = mean_absolute_error(test1_y, predict3)\n",
    "rmse1 = sqrt(mean_squared_error(test1_y, predict3))\n",
    "\n",
    "print(mae1,rmse1)\n",
    "\n"
   ]
  },
  {
   "cell_type": "code",
   "execution_count": 25,
   "metadata": {},
   "outputs": [
    {
     "ename": "NameError",
     "evalue": "name 'predict3' is not defined",
     "output_type": "error",
     "traceback": [
      "\u001b[0;31m---------------------------------------------------------------------------\u001b[0m",
      "\u001b[0;31mNameError\u001b[0m                                 Traceback (most recent call last)",
      "\u001b[0;32m<ipython-input-25-3eaa6f66f3fe>\u001b[0m in \u001b[0;36m<module>\u001b[0;34m()\u001b[0m\n\u001b[1;32m      6\u001b[0m \u001b[0;34m\u001b[0m\u001b[0m\n\u001b[1;32m      7\u001b[0m \u001b[0mfig\u001b[0m\u001b[0;34m,\u001b[0m \u001b[0max\u001b[0m \u001b[0;34m=\u001b[0m \u001b[0mplt\u001b[0m\u001b[0;34m.\u001b[0m\u001b[0msubplots\u001b[0m\u001b[0;34m(\u001b[0m\u001b[0;34m)\u001b[0m\u001b[0;34m\u001b[0m\u001b[0m\n\u001b[0;32m----> 8\u001b[0;31m \u001b[0max\u001b[0m\u001b[0;34m.\u001b[0m\u001b[0mplot\u001b[0m\u001b[0;34m(\u001b[0m\u001b[0mdate\u001b[0m\u001b[0;34m[\u001b[0m\u001b[0;36m4018\u001b[0m\u001b[0;34m:\u001b[0m\u001b[0;34m]\u001b[0m\u001b[0;34m,\u001b[0m\u001b[0mdf\u001b[0m\u001b[0;34m.\u001b[0m\u001b[0my\u001b[0m\u001b[0;34m[\u001b[0m\u001b[0;36m4018\u001b[0m\u001b[0;34m:\u001b[0m\u001b[0;34m]\u001b[0m\u001b[0;34m,\u001b[0m\u001b[0mdate\u001b[0m\u001b[0;34m[\u001b[0m\u001b[0;36m4018\u001b[0m\u001b[0;34m:\u001b[0m\u001b[0;34m]\u001b[0m\u001b[0;34m,\u001b[0m\u001b[0mpredict3\u001b[0m\u001b[0;34m)\u001b[0m\u001b[0;34m\u001b[0m\u001b[0m\n\u001b[0m\u001b[1;32m      9\u001b[0m \u001b[0mplt\u001b[0m\u001b[0;34m.\u001b[0m\u001b[0mtitle\u001b[0m\u001b[0;34m(\u001b[0m\u001b[0;34m\"Figure 1:put back test set\"\u001b[0m\u001b[0;34m)\u001b[0m\u001b[0;34m\u001b[0m\u001b[0m\n\u001b[1;32m     10\u001b[0m \u001b[0mplt\u001b[0m\u001b[0;34m.\u001b[0m\u001b[0mylabel\u001b[0m\u001b[0;34m(\u001b[0m\u001b[0;34m'flu rate'\u001b[0m\u001b[0;34m)\u001b[0m\u001b[0;34m\u001b[0m\u001b[0m\n",
      "\u001b[0;31mNameError\u001b[0m: name 'predict3' is not defined"
     ]
    },
    {
     "data": {
      "image/png": "[encoded data removed]",
      "text/plain": [
       "<Figure size 1080x576 with 1 Axes>"
      ]
     },
     "metadata": {},
     "output_type": "display_data"
    }
   ],
   "source": [
    "# visualize\n",
    "date = pd.date_range('20050824',periods=4383)\n",
    "import matplotlib.dates as mdates\n",
    "df = y.copy()\n",
    "df['y'] = y.values\n",
    "\n",
    "fig, ax = plt.subplots()\n",
    "ax.plot(date[4018:],df.y[4018:],date[4018:],predict3)\n",
    "plt.title(\"Figure 1:put back test set\")\n",
    "plt.ylabel('flu rate')\n",
    "plt.xlabel('Date')\n",
    "\n",
    "plt.show()"
   ]
  },
  {
   "cell_type": "code",
   "execution_count": null,
   "metadata": {},
   "outputs": [],
   "source": []
  }
 ],
 "metadata": {
  "kernelspec": {
   "display_name": "Python 3",
   "language": "python",
   "name": "python3"
  },
  "language_info": {
   "codemirror_mode": {
    "name": "ipython",
    "version": 3
   },
   "file_extension": ".py",
   "mimetype": "text/x-python",
   "name": "python",
   "nbconvert_exporter": "python",
   "pygments_lexer": "ipython3",
   "version": "3.6.5"
  }
 },
 "nbformat": 4,
 "nbformat_minor": 2
}
